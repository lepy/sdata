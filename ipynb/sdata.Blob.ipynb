{
 "cells": [
  {
   "cell_type": "code",
   "execution_count": 1,
   "metadata": {},
   "outputs": [
    {
     "data": {
      "application/javascript": [
       "IPython.notebook.set_autosave_interval(0)"
      ]
     },
     "metadata": {},
     "output_type": "display_data"
    },
    {
     "name": "stdout",
     "output_type": "stream",
     "text": [
      "Autosave disabled\n"
     ]
    },
    {
     "data": {
      "text/plain": [
       "'/home/ingolf.lepenies/projects/sdata/ipynb'"
      ]
     },
     "execution_count": 1,
     "metadata": {},
     "output_type": "execute_result"
    },
    {
     "name": "stderr",
     "output_type": "stream",
     "text": [
      "01:46:20 DEBUG:Loaded backend module://ipykernel.pylab.backend_inline version unknown.\n"
     ]
    }
   ],
   "source": [
    "%load_ext autoreload\n",
    "%autoreload 2\n",
    "%matplotlib inline\n",
    "%autosave 0\n",
    "    \n",
    "import logging\n",
    "logging.basicConfig(format='%(asctime)s %(levelname)s:%(message)s', level=logging.DEBUG, datefmt='%I:%M:%S')\n",
    "\n",
    "import os\n",
    "import sys\n",
    "import numpy as np\n",
    "import pandas as pd\n",
    "import sdata\n",
    "from sdata.blob import Blob\n",
    "import uuid\n",
    "import hashlib\n",
    "modulepath = os.getcwd()\n",
    "modulepath"
   ]
  },
  {
   "cell_type": "code",
   "execution_count": 18,
   "metadata": {},
   "outputs": [
    {
     "name": "stdout",
     "output_type": "stream",
     "text": [
      "                0\n",
      "metadata       10\n",
      "table_rows      0\n",
      "table_columns   0\n",
      "description    10\n"
     ]
    }
   ],
   "source": [
    "df = pd.DataFrame([1,2,3])\n",
    "url = \"/tmp/blob.csv\"\n",
    "csv_name = \"my csv as blob\"\n",
    "df.to_csv(url)\n",
    "blob = sdata.blob.Blob(name=csv_name,\n",
    "            url=url,\n",
    "            uuid=sdata.uuid_from_str(csv_name),\n",
    "            description=\"A csv file\",\n",
    "                      )\n",
    "print(blob.describe())"
   ]
  },
  {
   "cell_type": "code",
   "execution_count": 19,
   "metadata": {},
   "outputs": [
    {
     "name": "stdout",
     "output_type": "stream",
     "text": [
      "(Data 'my csv as blob':2d7a0c9477cb3ac690e24a0e243d4d07)\n"
     ]
    },
    {
     "data": {
      "text/html": [
       "<div>\n",
       "<style scoped>\n",
       "    .dataframe tbody tr th:only-of-type {\n",
       "        vertical-align: middle;\n",
       "    }\n",
       "\n",
       "    .dataframe tbody tr th {\n",
       "        vertical-align: top;\n",
       "    }\n",
       "\n",
       "    .dataframe thead th {\n",
       "        text-align: right;\n",
       "    }\n",
       "</style>\n",
       "<table border=\"1\" class=\"dataframe\">\n",
       "  <thead>\n",
       "    <tr style=\"text-align: right;\">\n",
       "      <th></th>\n",
       "      <th>name</th>\n",
       "      <th>value</th>\n",
       "      <th>dtype</th>\n",
       "      <th>unit</th>\n",
       "      <th>description</th>\n",
       "      <th>label</th>\n",
       "    </tr>\n",
       "    <tr>\n",
       "      <th>key</th>\n",
       "      <th></th>\n",
       "      <th></th>\n",
       "      <th></th>\n",
       "      <th></th>\n",
       "      <th></th>\n",
       "      <th></th>\n",
       "    </tr>\n",
       "  </thead>\n",
       "  <tbody>\n",
       "    <tr>\n",
       "      <th>sdata_version</th>\n",
       "      <td>sdata_version</td>\n",
       "      <td>0.9.0</td>\n",
       "      <td>str</td>\n",
       "      <td>-</td>\n",
       "      <td></td>\n",
       "      <td></td>\n",
       "    </tr>\n",
       "    <tr>\n",
       "      <th>name</th>\n",
       "      <td>name</td>\n",
       "      <td>my csv as blob</td>\n",
       "      <td>str</td>\n",
       "      <td>-</td>\n",
       "      <td></td>\n",
       "      <td></td>\n",
       "    </tr>\n",
       "    <tr>\n",
       "      <th>uuid</th>\n",
       "      <td>uuid</td>\n",
       "      <td>2d7a0c9477cb3ac690e24a0e243d4d07</td>\n",
       "      <td>str</td>\n",
       "      <td>-</td>\n",
       "      <td></td>\n",
       "      <td></td>\n",
       "    </tr>\n",
       "    <tr>\n",
       "      <th>blob_name</th>\n",
       "      <td>blob_name</td>\n",
       "      <td>my csv as blob</td>\n",
       "      <td>str</td>\n",
       "      <td>-</td>\n",
       "      <td></td>\n",
       "      <td></td>\n",
       "    </tr>\n",
       "    <tr>\n",
       "      <th>blob_type</th>\n",
       "      <td>blob_type</td>\n",
       "      <td>unknown</td>\n",
       "      <td>str</td>\n",
       "      <td>-</td>\n",
       "      <td></td>\n",
       "      <td></td>\n",
       "    </tr>\n",
       "    <tr>\n",
       "      <th>blob_url</th>\n",
       "      <td>blob_url</td>\n",
       "      <td>/tmp/blob.csv</td>\n",
       "      <td>str</td>\n",
       "      <td>-</td>\n",
       "      <td></td>\n",
       "      <td></td>\n",
       "    </tr>\n",
       "    <tr>\n",
       "      <th>blob_sha1</th>\n",
       "      <td>blob_sha1</td>\n",
       "      <td>3c05c8b1931e6d83de568ef3cf913bed102fc05f</td>\n",
       "      <td>str</td>\n",
       "      <td>-</td>\n",
       "      <td></td>\n",
       "      <td></td>\n",
       "    </tr>\n",
       "    <tr>\n",
       "      <th>blob_md5</th>\n",
       "      <td>blob_md5</td>\n",
       "      <td>51c4b70a051bc768456fbc41b476cc29</td>\n",
       "      <td>str</td>\n",
       "      <td>-</td>\n",
       "      <td></td>\n",
       "      <td></td>\n",
       "    </tr>\n",
       "    <tr>\n",
       "      <th>vault</th>\n",
       "      <td>vault</td>\n",
       "      <td>None</td>\n",
       "      <td>str</td>\n",
       "      <td>-</td>\n",
       "      <td></td>\n",
       "      <td></td>\n",
       "    </tr>\n",
       "    <tr>\n",
       "      <th>blob_filetype</th>\n",
       "      <td>blob_filetype</td>\n",
       "      <td>unknown</td>\n",
       "      <td>str</td>\n",
       "      <td>-</td>\n",
       "      <td></td>\n",
       "      <td></td>\n",
       "    </tr>\n",
       "  </tbody>\n",
       "</table>\n",
       "</div>"
      ],
      "text/plain": [
       "                        name                                     value dtype  \\\n",
       "key                                                                            \n",
       "sdata_version  sdata_version                                     0.9.0   str   \n",
       "name                    name                            my csv as blob   str   \n",
       "uuid                    uuid          2d7a0c9477cb3ac690e24a0e243d4d07   str   \n",
       "blob_name          blob_name                            my csv as blob   str   \n",
       "blob_type          blob_type                                   unknown   str   \n",
       "blob_url            blob_url                             /tmp/blob.csv   str   \n",
       "blob_sha1          blob_sha1  3c05c8b1931e6d83de568ef3cf913bed102fc05f   str   \n",
       "blob_md5            blob_md5          51c4b70a051bc768456fbc41b476cc29   str   \n",
       "vault                  vault                                      None   str   \n",
       "blob_filetype  blob_filetype                                   unknown   str   \n",
       "\n",
       "              unit description label  \n",
       "key                                   \n",
       "sdata_version    -                    \n",
       "name             -                    \n",
       "uuid             -                    \n",
       "blob_name        -                    \n",
       "blob_type        -                    \n",
       "blob_url         -                    \n",
       "blob_sha1        -                    \n",
       "blob_md5         -                    \n",
       "vault            -                    \n",
       "blob_filetype    -                    "
      ]
     },
     "execution_count": 19,
     "metadata": {},
     "output_type": "execute_result"
    }
   ],
   "source": [
    "print(blob)\n",
    "blob.metadata.df"
   ]
  },
  {
   "cell_type": "code",
   "execution_count": 14,
   "metadata": {},
   "outputs": [
    {
     "data": {
      "text/plain": [
       "'/tmp/blob.csv'"
      ]
     },
     "execution_count": 14,
     "metadata": {},
     "output_type": "execute_result"
    }
   ],
   "source": [
    "blob.url"
   ]
  },
  {
   "cell_type": "code",
   "execution_count": 5,
   "metadata": {},
   "outputs": [
    {
     "data": {
      "text/plain": [
       "True"
      ]
     },
     "execution_count": 5,
     "metadata": {},
     "output_type": "execute_result"
    }
   ],
   "source": [
    "blob.exists(vault=\"filesystem\")"
   ]
  },
  {
   "cell_type": "code",
   "execution_count": 6,
   "metadata": {},
   "outputs": [
    {
     "name": "stdout",
     "output_type": "stream",
     "text": [
      "Help on function exists in module genericpath:\n",
      "\n",
      "exists(path)\n",
      "    Test whether a path exists.  Returns False for broken symbolic links\n",
      "\n"
     ]
    }
   ],
   "source": [
    "help(os.path.exists)"
   ]
  },
  {
   "cell_type": "code",
   "execution_count": 7,
   "metadata": {},
   "outputs": [
    {
     "data": {
      "text/plain": [
       "'{\"metadata\": {\"sdata_version\": {\"name\": \"sdata_version\", \"value\": \"0.9.0\", \"unit\": \"-\", \"dtype\": \"str\", \"description\": \"\", \"label\": \"\"}, \"name\": {\"name\": \"name\", \"value\": \"my name\", \"unit\": \"-\", \"dtype\": \"str\", \"description\": \"\", \"label\": \"\"}, \"uuid\": {\"name\": \"uuid\", \"value\": \"38b26863e7794f5182d38459bab85842\", \"unit\": \"-\", \"dtype\": \"str\", \"description\": \"\", \"label\": \"\"}, \"blob_name\": {\"name\": \"blob_name\", \"value\": \"bla\", \"unit\": \"-\", \"dtype\": \"str\", \"description\": \"\", \"label\": \"\"}, \"blob_type\": {\"name\": \"blob_type\", \"value\": \"unknown\", \"unit\": \"-\", \"dtype\": \"str\", \"description\": \"\", \"label\": \"\"}, \"blob_url\": {\"name\": \"blob_url\", \"value\": \"/tmp/blob.csv\", \"unit\": \"-\", \"dtype\": \"str\", \"description\": \"\", \"label\": \"\"}, \"blob_sha1\": {\"name\": \"blob_sha1\", \"value\": null, \"unit\": \"-\", \"dtype\": \"str\", \"description\": \"\", \"label\": \"\"}, \"blob_md5\": {\"name\": \"blob_md5\", \"value\": \"51c4b70a051bc768456fbc41b476cc29\", \"unit\": \"-\", \"dtype\": \"str\", \"description\": \"\", \"label\": \"\"}, \"vault\": {\"name\": \"vault\", \"value\": null, \"unit\": \"-\", \"dtype\": \"str\", \"description\": \"\", \"label\": \"\"}, \"blob_filetype\": {\"name\": \"blob_filetype\", \"value\": \"unknown\", \"unit\": \"-\", \"dtype\": \"str\", \"description\": \"\", \"label\": \"\"}, \"blob_uuid\": {\"name\": \"blob_uuid\", \"value\": null, \"unit\": \"-\", \"dtype\": \"str\", \"description\": \"\", \"label\": \"\"}, \"blob_format\": {\"name\": \"blob_format\", \"value\": null, \"unit\": \"-\", \"dtype\": \"str\", \"description\": \"\", \"label\": \"\"}}, \"table\": {}, \"description\": \"A remarkable description\"}'"
      ]
     },
     "execution_count": 7,
     "metadata": {},
     "output_type": "execute_result"
    }
   ],
   "source": [
    "blob.to_json()"
   ]
  },
  {
   "cell_type": "code",
   "execution_count": 8,
   "metadata": {},
   "outputs": [
    {
     "data": {
      "text/plain": [
       "'51c4b70a051bc768456fbc41b476cc29'"
      ]
     },
     "execution_count": 8,
     "metadata": {},
     "output_type": "execute_result"
    }
   ],
   "source": [
    "hash = hashlib.md5()\n",
    "df = pd.DataFrame([1,2,3])\n",
    "url = \"/tmp/blob.csv\"\n",
    "df.to_csv(url)\n",
    "blob = sdata.Blob(url=url)\n",
    "fh = open(url, \"rb\")\n",
    "blob.update_hash(fh, hash)\n",
    "hash.hexdigest()"
   ]
  },
  {
   "cell_type": "code",
   "execution_count": 9,
   "metadata": {},
   "outputs": [
    {
     "data": {
      "text/plain": [
       "'3c05c8b1931e6d83de568ef3cf913bed102fc05f'"
      ]
     },
     "execution_count": 9,
     "metadata": {},
     "output_type": "execute_result"
    }
   ],
   "source": [
    "blob.sha1"
   ]
  },
  {
   "cell_type": "code",
   "execution_count": 10,
   "metadata": {},
   "outputs": [
    {
     "data": {
      "text/plain": [
       "'51c4b70a051bc768456fbc41b476cc29'"
      ]
     },
     "execution_count": 10,
     "metadata": {},
     "output_type": "execute_result"
    }
   ],
   "source": [
    "blob.md5"
   ]
  },
  {
   "cell_type": "markdown",
   "metadata": {},
   "source": [
    "$ shasum /tmp/blob.csv \n",
    "\n",
    "    3c05c8b1931e6d83de568ef3cf913bed102fc05f  /tmp/blob.csv\n",
    "\n",
    "$ md5sum /tmp/blob.csv \n",
    "\n",
    "    51c4b70a051bc768456fbc41b476cc29  /tmp/blob.csv\n"
   ]
  },
  {
   "cell_type": "code",
   "execution_count": 11,
   "metadata": {},
   "outputs": [
    {
     "data": {
      "text/plain": [
       "'/tmp/blob.csv'"
      ]
     },
     "execution_count": 11,
     "metadata": {},
     "output_type": "execute_result"
    }
   ],
   "source": [
    "blob.url"
   ]
  },
  {
   "cell_type": "code",
   "execution_count": null,
   "metadata": {},
   "outputs": [],
   "source": []
  }
 ],
 "metadata": {
  "kernelspec": {
   "display_name": "sfem3",
   "language": "python",
   "name": "sfem3"
  },
  "language_info": {
   "codemirror_mode": {
    "name": "ipython",
    "version": 3
   },
   "file_extension": ".py",
   "mimetype": "text/x-python",
   "name": "python",
   "nbconvert_exporter": "python",
   "pygments_lexer": "ipython3",
   "version": "3.7.4"
  }
 },
 "nbformat": 4,
 "nbformat_minor": 2
}
