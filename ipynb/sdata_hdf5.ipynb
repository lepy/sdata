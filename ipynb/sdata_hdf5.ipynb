{
 "cells": [
  {
   "cell_type": "code",
   "execution_count": 1,
   "metadata": {},
   "outputs": [
    {
     "data": {
      "application/javascript": [
       "IPython.notebook.set_autosave_interval(0)"
      ]
     },
     "metadata": {},
     "output_type": "display_data"
    },
    {
     "name": "stdout",
     "output_type": "stream",
     "text": [
      "Autosave disabled\n"
     ]
    },
    {
     "name": "stderr",
     "output_type": "stream",
     "text": [
      "09:20:25 DEBUG:Loaded backend module://ipykernel.pylab.backend_inline version unknown.\n"
     ]
    },
    {
     "name": "stdout",
     "output_type": "stream",
     "text": [
      "sdata v0.13.0\n"
     ]
    }
   ],
   "source": [
    "%load_ext autoreload\n",
    "%autoreload 2\n",
    "%matplotlib inline\n",
    "%autosave 0\n",
    "    \n",
    "import logging\n",
    "logging.basicConfig(format='%(asctime)s %(levelname)s:%(message)s', level=logging.DEBUG, datefmt='%I:%M:%S')\n",
    "\n",
    "import os\n",
    "import sys\n",
    "import numpy as np\n",
    "import pandas as pd\n",
    "import sdata\n",
    "import uuid\n",
    "import time\n",
    "from sdata.iolib.hdf import FlatHDFDataStore\n",
    "print(\"sdata v{}\".format(sdata.__version__))"
   ]
  },
  {
   "cell_type": "code",
   "execution_count": 2,
   "metadata": {},
   "outputs": [
    {
     "name": "stderr",
     "output_type": "stream",
     "text": [
      "09:20:25 INFO:NumExpr defaulting to 8 threads.\n"
     ]
    },
    {
     "data": {
      "text/plain": [
       "<sdata.iolib.hdf.FlatHDFDataStore at 0x7f0898efa2d0>"
      ]
     },
     "execution_count": 2,
     "metadata": {},
     "output_type": "execute_result"
    }
   ],
   "source": [
    "store = FlatHDFDataStore(\"/tmp/flatstore.h5\", mode=\"w\")\n",
    "store"
   ]
  },
  {
   "cell_type": "code",
   "execution_count": 3,
   "metadata": {},
   "outputs": [
    {
     "data": {
      "text/plain": [
       "[]"
      ]
     },
     "execution_count": 3,
     "metadata": {},
     "output_type": "execute_result"
    }
   ],
   "source": [
    "store.keys()"
   ]
  },
  {
   "cell_type": "code",
   "execution_count": 11,
   "metadata": {},
   "outputs": [
    {
     "name": "stderr",
     "output_type": "stream",
     "text": [
      "09:21:14 DEBUG:sdata: set auto_correct=True\n"
     ]
    },
    {
     "data": {
      "text/plain": [
       "(Data 'otto':21b83703d98e38a7be2e50e38326d0ce)"
      ]
     },
     "execution_count": 11,
     "metadata": {},
     "output_type": "execute_result"
    }
   ],
   "source": [
    "data = sdata.Data(name=\"otto\", \n",
    "                  uuid=sdata.uuid_from_str(\"otto\"), \n",
    "                  table=pd.DataFrame({\"a\":[1,2,3]}),\n",
    "                  description=\"Hallo\\nSpencer\")\n",
    "data"
   ]
  },
  {
   "cell_type": "code",
   "execution_count": 12,
   "metadata": {},
   "outputs": [
    {
     "data": {
      "text/plain": [
       "['b8315be85d9945579cf8dc6a80a62524', '21b83703d98e38a7be2e50e38326d0ce']"
      ]
     },
     "execution_count": 12,
     "metadata": {},
     "output_type": "execute_result"
    }
   ],
   "source": [
    "store.put(data)\n",
    "store.keys()"
   ]
  },
  {
   "cell_type": "code",
   "execution_count": 13,
   "metadata": {},
   "outputs": [
    {
     "data": {
      "text/html": [
       "<div>\n",
       "<style scoped>\n",
       "    .dataframe tbody tr th:only-of-type {\n",
       "        vertical-align: middle;\n",
       "    }\n",
       "\n",
       "    .dataframe tbody tr th {\n",
       "        vertical-align: top;\n",
       "    }\n",
       "\n",
       "    .dataframe thead th {\n",
       "        text-align: right;\n",
       "    }\n",
       "</style>\n",
       "<table border=\"1\" class=\"dataframe\">\n",
       "  <thead>\n",
       "    <tr style=\"text-align: right;\">\n",
       "      <th></th>\n",
       "      <th>name</th>\n",
       "      <th>value</th>\n",
       "      <th>dtype</th>\n",
       "      <th>unit</th>\n",
       "      <th>description</th>\n",
       "      <th>label</th>\n",
       "    </tr>\n",
       "    <tr>\n",
       "      <th>key</th>\n",
       "      <th></th>\n",
       "      <th></th>\n",
       "      <th></th>\n",
       "      <th></th>\n",
       "      <th></th>\n",
       "      <th></th>\n",
       "    </tr>\n",
       "  </thead>\n",
       "  <tbody>\n",
       "    <tr>\n",
       "      <th>!sdata_class</th>\n",
       "      <td>!sdata_class</td>\n",
       "      <td>Data</td>\n",
       "      <td>str</td>\n",
       "      <td>-</td>\n",
       "      <td>sdata class</td>\n",
       "      <td></td>\n",
       "    </tr>\n",
       "    <tr>\n",
       "      <th>!sdata_ctime</th>\n",
       "      <td>!sdata_ctime</td>\n",
       "      <td>2020-12-17T09:21:14.238597+00:00</td>\n",
       "      <td>str</td>\n",
       "      <td>-</td>\n",
       "      <td>creation date</td>\n",
       "      <td></td>\n",
       "    </tr>\n",
       "    <tr>\n",
       "      <th>!sdata_mtime</th>\n",
       "      <td>!sdata_mtime</td>\n",
       "      <td>2020-12-17T09:21:14.238681+00:00</td>\n",
       "      <td>str</td>\n",
       "      <td>-</td>\n",
       "      <td>modification date</td>\n",
       "      <td></td>\n",
       "    </tr>\n",
       "    <tr>\n",
       "      <th>!sdata_name</th>\n",
       "      <td>!sdata_name</td>\n",
       "      <td>otto</td>\n",
       "      <td>str</td>\n",
       "      <td>-</td>\n",
       "      <td>name of the data object</td>\n",
       "      <td></td>\n",
       "    </tr>\n",
       "    <tr>\n",
       "      <th>!sdata_parent</th>\n",
       "      <td>!sdata_parent</td>\n",
       "      <td></td>\n",
       "      <td>str</td>\n",
       "      <td>-</td>\n",
       "      <td>uuid of the parent sdata object</td>\n",
       "      <td></td>\n",
       "    </tr>\n",
       "    <tr>\n",
       "      <th>!sdata_uuid</th>\n",
       "      <td>!sdata_uuid</td>\n",
       "      <td>21b83703d98e38a7be2e50e38326d0ce</td>\n",
       "      <td>str</td>\n",
       "      <td>-</td>\n",
       "      <td>Universally Unique Identifier</td>\n",
       "      <td></td>\n",
       "    </tr>\n",
       "    <tr>\n",
       "      <th>!sdata_version</th>\n",
       "      <td>!sdata_version</td>\n",
       "      <td>0.13.0</td>\n",
       "      <td>str</td>\n",
       "      <td>-</td>\n",
       "      <td>sdata package version</td>\n",
       "      <td></td>\n",
       "    </tr>\n",
       "  </tbody>\n",
       "</table>\n",
       "</div>"
      ],
      "text/plain": [
       "                          name                             value dtype unit  \\\n",
       "key                                                                           \n",
       "!sdata_class      !sdata_class                              Data   str    -   \n",
       "!sdata_ctime      !sdata_ctime  2020-12-17T09:21:14.238597+00:00   str    -   \n",
       "!sdata_mtime      !sdata_mtime  2020-12-17T09:21:14.238681+00:00   str    -   \n",
       "!sdata_name        !sdata_name                              otto   str    -   \n",
       "!sdata_parent    !sdata_parent                                     str    -   \n",
       "!sdata_uuid        !sdata_uuid  21b83703d98e38a7be2e50e38326d0ce   str    -   \n",
       "!sdata_version  !sdata_version                            0.13.0   str    -   \n",
       "\n",
       "                                    description label  \n",
       "key                                                    \n",
       "!sdata_class                        sdata class        \n",
       "!sdata_ctime                      creation date        \n",
       "!sdata_mtime                  modification date        \n",
       "!sdata_name             name of the data object        \n",
       "!sdata_parent   uuid of the parent sdata object        \n",
       "!sdata_uuid       Universally Unique Identifier        \n",
       "!sdata_version            sdata package version        "
      ]
     },
     "execution_count": 13,
     "metadata": {},
     "output_type": "execute_result"
    }
   ],
   "source": [
    "store.hdf.get('/21b83703d98e38a7be2e50e38326d0ce/metadata')"
   ]
  },
  {
   "cell_type": "code",
   "execution_count": 14,
   "metadata": {},
   "outputs": [
    {
     "data": {
      "text/plain": [
       "['b8315be85d9945579cf8dc6a80a62524', '21b83703d98e38a7be2e50e38326d0ce']"
      ]
     },
     "execution_count": 14,
     "metadata": {},
     "output_type": "execute_result"
    }
   ],
   "source": [
    "store.keys()"
   ]
  },
  {
   "cell_type": "code",
   "execution_count": 15,
   "metadata": {},
   "outputs": [
    {
     "data": {
      "text/plain": [
       "(Data 'otto2':b8315be85d9945579cf8dc6a80a62524)"
      ]
     },
     "execution_count": 15,
     "metadata": {},
     "output_type": "execute_result"
    }
   ],
   "source": [
    "datac = data.copy()\n",
    "datac.name = \"otto2\"\n",
    "datac.uuid = 'b8315be85d9945579cf8dc6a80a62524'\n",
    "datac.df[\"b\"] = datac.df[\"a\"]**2\n",
    "datac.df\n",
    "datac.metadata.add(\"force\", 1.23, dtype=\"float\", description=\"a force\", label=\"F\")\n",
    "datac.metadata.add(\"runid\", 123, dtype=\"int\", description=\"a int\", label=\"r\")\n",
    "datac"
   ]
  },
  {
   "cell_type": "code",
   "execution_count": 16,
   "metadata": {},
   "outputs": [
    {
     "name": "stderr",
     "output_type": "stream",
     "text": [
      "/home/ingolf.lepenies/anaconda3/envs/sfem3/lib/python3.7/site-packages/IPython/core/interactiveshell.py:3326: PerformanceWarning: \n",
      "your performance may suffer as PyTables will pickle object types that it cannot\n",
      "map directly to c-types [inferred_type->mixed-integer,key->block0_values] [items->Index(['name', 'value', 'dtype', 'unit', 'description', 'label'], dtype='object')]\n",
      "\n",
      "  exec(code_obj, self.user_global_ns, self.user_ns)\n"
     ]
    },
    {
     "data": {
      "text/plain": [
       "['b8315be85d9945579cf8dc6a80a62524', '21b83703d98e38a7be2e50e38326d0ce']"
      ]
     },
     "execution_count": 16,
     "metadata": {},
     "output_type": "execute_result"
    }
   ],
   "source": [
    "store.put(datac)\n",
    "store.keys()"
   ]
  },
  {
   "cell_type": "code",
   "execution_count": 22,
   "metadata": {},
   "outputs": [
    {
     "name": "stderr",
     "output_type": "stream",
     "text": [
      "09:22:36 DEBUG:sdata: set auto_correct=True\n"
     ]
    },
    {
     "name": "stdout",
     "output_type": "stream",
     "text": [
      "(Data 'otto2':b8315be85d9945579cf8dc6a80a62524)\n",
      "['Hallo\\nSpencer']\n"
     ]
    },
    {
     "data": {
      "text/html": [
       "<div>\n",
       "<style scoped>\n",
       "    .dataframe tbody tr th:only-of-type {\n",
       "        vertical-align: middle;\n",
       "    }\n",
       "\n",
       "    .dataframe tbody tr th {\n",
       "        vertical-align: top;\n",
       "    }\n",
       "\n",
       "    .dataframe thead th {\n",
       "        text-align: right;\n",
       "    }\n",
       "</style>\n",
       "<table border=\"1\" class=\"dataframe\">\n",
       "  <thead>\n",
       "    <tr style=\"text-align: right;\">\n",
       "      <th></th>\n",
       "      <th>0</th>\n",
       "    </tr>\n",
       "  </thead>\n",
       "  <tbody>\n",
       "    <tr>\n",
       "      <th>metadata</th>\n",
       "      <td>9</td>\n",
       "    </tr>\n",
       "    <tr>\n",
       "      <th>table_rows</th>\n",
       "      <td>3</td>\n",
       "    </tr>\n",
       "    <tr>\n",
       "      <th>table_columns</th>\n",
       "      <td>2</td>\n",
       "    </tr>\n",
       "    <tr>\n",
       "      <th>description</th>\n",
       "      <td>13</td>\n",
       "    </tr>\n",
       "  </tbody>\n",
       "</table>\n",
       "</div>"
      ],
      "text/plain": [
       "                0\n",
       "metadata        9\n",
       "table_rows      3\n",
       "table_columns   2\n",
       "description    13"
      ]
     },
     "execution_count": 22,
     "metadata": {},
     "output_type": "execute_result"
    }
   ],
   "source": [
    "data2 = store.get_data_by_uuid('b8315be85d9945579cf8dc6a80a62524')\n",
    "print(data2)\n",
    "data2.metadata.df\n",
    "print([data2.description])\n",
    "(data2.describe())"
   ]
  },
  {
   "cell_type": "code",
   "execution_count": null,
   "metadata": {},
   "outputs": [],
   "source": [
    "store.keys()"
   ]
  },
  {
   "cell_type": "code",
   "execution_count": null,
   "metadata": {},
   "outputs": [],
   "source": [
    "store.hdf.keys()"
   ]
  },
  {
   "cell_type": "code",
   "execution_count": null,
   "metadata": {},
   "outputs": [],
   "source": [
    "store.get_dict()"
   ]
  },
  {
   "cell_type": "code",
   "execution_count": null,
   "metadata": {},
   "outputs": [],
   "source": [
    "store.get_all_metadata()"
   ]
  },
  {
   "cell_type": "code",
   "execution_count": null,
   "metadata": {},
   "outputs": [],
   "source": [
    "datata.df"
   ]
  },
  {
   "cell_type": "code",
   "execution_count": null,
   "metadata": {},
   "outputs": [],
   "source": [
    "data2.df"
   ]
  },
  {
   "cell_type": "code",
   "execution_count": null,
   "metadata": {},
   "outputs": [],
   "source": [
    "data.metadata.attributes"
   ]
  },
  {
   "cell_type": "code",
   "execution_count": null,
   "metadata": {},
   "outputs": [],
   "source": [
    "#store.close()"
   ]
  },
  {
   "cell_type": "code",
   "execution_count": null,
   "metadata": {},
   "outputs": [],
   "source": [
    "store.hdf.groups()"
   ]
  },
  {
   "cell_type": "code",
   "execution_count": null,
   "metadata": {},
   "outputs": [],
   "source": [
    "store.hdf.info()"
   ]
  },
  {
   "cell_type": "code",
   "execution_count": null,
   "metadata": {},
   "outputs": [],
   "source": [
    "store.hdf.put(\"/a/b/b\", data.df)"
   ]
  },
  {
   "cell_type": "code",
   "execution_count": null,
   "metadata": {},
   "outputs": [],
   "source": [
    "store.hdf.put(\"/a/b/c/d\", data.df)"
   ]
  },
  {
   "cell_type": "code",
   "execution_count": null,
   "metadata": {},
   "outputs": [],
   "source": [
    "store.close()"
   ]
  },
  {
   "cell_type": "code",
   "execution_count": null,
   "metadata": {},
   "outputs": [],
   "source": [
    "data.describe()"
   ]
  },
  {
   "cell_type": "code",
   "execution_count": null,
   "metadata": {},
   "outputs": [],
   "source": []
  }
 ],
 "metadata": {
  "kernelspec": {
   "display_name": "sfem3",
   "language": "python",
   "name": "sfem3"
  },
  "language_info": {
   "codemirror_mode": {
    "name": "ipython",
    "version": 3
   },
   "file_extension": ".py",
   "mimetype": "text/x-python",
   "name": "python",
   "nbconvert_exporter": "python",
   "pygments_lexer": "ipython3",
   "version": "3.7.4"
  }
 },
 "nbformat": 4,
 "nbformat_minor": 2
}
