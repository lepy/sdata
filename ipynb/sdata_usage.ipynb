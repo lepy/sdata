{
 "cells": [
  {
   "cell_type": "markdown",
   "metadata": {},
   "source": [
    "# sdata usage"
   ]
  },
  {
   "cell_type": "code",
   "execution_count": 5,
   "metadata": {},
   "outputs": [
    {
     "name": "stdout",
     "output_type": "stream",
     "text": [
      "The autoreload extension is already loaded. To reload it, use:\n",
      "  %reload_ext autoreload\n"
     ]
    },
    {
     "data": {
      "application/javascript": [
       "IPython.notebook.set_autosave_interval(0)"
      ]
     },
     "metadata": {},
     "output_type": "display_data"
    },
    {
     "name": "stdout",
     "output_type": "stream",
     "text": [
      "Autosave disabled\n",
      "sdata v0.22.2\n"
     ]
    }
   ],
   "source": [
    "%load_ext autoreload\n",
    "%autoreload 2\n",
    "%matplotlib inline\n",
    "%autosave 0\n",
    "    \n",
    "import logging\n",
    "logging.basicConfig(format='%(asctime)s %(levelname)s:%(message)s', level=logging.WARNING, datefmt='%I:%M:%S')\n",
    "\n",
    "import os\n",
    "import sys\n",
    "import numpy as np\n",
    "import pandas as pd\n",
    "import sdata\n",
    "import uuid\n",
    "print(\"sdata v{}\".format(sdata.__version__))"
   ]
  },
  {
   "cell_type": "markdown",
   "metadata": {},
   "source": [
    "## create a Data object"
   ]
  },
  {
   "cell_type": "code",
   "execution_count": 27,
   "metadata": {},
   "outputs": [
    {
     "data": {
      "text/plain": [
       "(Data 'data':38b26864e7794f5182d38459bab85841)"
      ]
     },
     "execution_count": 27,
     "metadata": {},
     "output_type": "execute_result"
    }
   ],
   "source": [
    "data = sdata.Data(name=\"data\", uuid=\"38b26864e7794f5182d38459bab85841\")\n",
    "data.metadata.add(\"my_key\", 123, unit=\"m^3\", description=\"a volume\", label=\"V\")\n",
    "data.metadata.add(\"force\", 1.234, unit=\"kN\", description=\"x force\", label=\"F_x\")\n",
    "data"
   ]
  },
  {
   "cell_type": "code",
   "execution_count": 28,
   "metadata": {},
   "outputs": [
    {
     "data": {
      "text/html": [
       "<div>\n",
       "<style scoped>\n",
       "    .dataframe tbody tr th:only-of-type {\n",
       "        vertical-align: middle;\n",
       "    }\n",
       "\n",
       "    .dataframe tbody tr th {\n",
       "        vertical-align: top;\n",
       "    }\n",
       "\n",
       "    .dataframe thead th {\n",
       "        text-align: right;\n",
       "    }\n",
       "</style>\n",
       "<table border=\"1\" class=\"dataframe\">\n",
       "  <thead>\n",
       "    <tr style=\"text-align: right;\">\n",
       "      <th></th>\n",
       "      <th>name</th>\n",
       "      <th>value</th>\n",
       "      <th>dtype</th>\n",
       "      <th>unit</th>\n",
       "      <th>description</th>\n",
       "      <th>label</th>\n",
       "      <th>required</th>\n",
       "    </tr>\n",
       "    <tr>\n",
       "      <th>key</th>\n",
       "      <th></th>\n",
       "      <th></th>\n",
       "      <th></th>\n",
       "      <th></th>\n",
       "      <th></th>\n",
       "      <th></th>\n",
       "      <th></th>\n",
       "    </tr>\n",
       "  </thead>\n",
       "  <tbody>\n",
       "    <tr>\n",
       "      <th>!sdata_class</th>\n",
       "      <td>!sdata_class</td>\n",
       "      <td>Data</td>\n",
       "      <td>str</td>\n",
       "      <td>-</td>\n",
       "      <td>sdata class</td>\n",
       "      <td></td>\n",
       "      <td>False</td>\n",
       "    </tr>\n",
       "    <tr>\n",
       "      <th>!sdata_ctime</th>\n",
       "      <td>!sdata_ctime</td>\n",
       "      <td>2024-03-05T10:48:11.607387+00:00</td>\n",
       "      <td>str</td>\n",
       "      <td>-</td>\n",
       "      <td>creation date</td>\n",
       "      <td></td>\n",
       "      <td>False</td>\n",
       "    </tr>\n",
       "    <tr>\n",
       "      <th>!sdata_mtime</th>\n",
       "      <td>!sdata_mtime</td>\n",
       "      <td>2024-03-05T10:48:11.607479+00:00</td>\n",
       "      <td>str</td>\n",
       "      <td>-</td>\n",
       "      <td>modification date</td>\n",
       "      <td></td>\n",
       "      <td>False</td>\n",
       "    </tr>\n",
       "    <tr>\n",
       "      <th>!sdata_name</th>\n",
       "      <td>!sdata_name</td>\n",
       "      <td>data</td>\n",
       "      <td>str</td>\n",
       "      <td>-</td>\n",
       "      <td>name of the data object</td>\n",
       "      <td></td>\n",
       "      <td>False</td>\n",
       "    </tr>\n",
       "    <tr>\n",
       "      <th>!sdata_parent</th>\n",
       "      <td>!sdata_parent</td>\n",
       "      <td></td>\n",
       "      <td>str</td>\n",
       "      <td>-</td>\n",
       "      <td>uuid of the parent sdata object</td>\n",
       "      <td></td>\n",
       "      <td>False</td>\n",
       "    </tr>\n",
       "    <tr>\n",
       "      <th>!sdata_project</th>\n",
       "      <td>!sdata_project</td>\n",
       "      <td></td>\n",
       "      <td>str</td>\n",
       "      <td>-</td>\n",
       "      <td></td>\n",
       "      <td></td>\n",
       "      <td>False</td>\n",
       "    </tr>\n",
       "    <tr>\n",
       "      <th>!sdata_suuid</th>\n",
       "      <td>!sdata_suuid</td>\n",
       "      <td>MzhiMjY4NjRlNzc5NGY1MTgyZDM4NDU5YmFiODU4NDFEYX...</td>\n",
       "      <td>str</td>\n",
       "      <td>-</td>\n",
       "      <td>Super Universally Unique Identifier</td>\n",
       "      <td></td>\n",
       "      <td>False</td>\n",
       "    </tr>\n",
       "    <tr>\n",
       "      <th>!sdata_uuid</th>\n",
       "      <td>!sdata_uuid</td>\n",
       "      <td>38b26864e7794f5182d38459bab85841</td>\n",
       "      <td>str</td>\n",
       "      <td>-</td>\n",
       "      <td>Universally Unique Identifier</td>\n",
       "      <td></td>\n",
       "      <td>False</td>\n",
       "    </tr>\n",
       "    <tr>\n",
       "      <th>!sdata_version</th>\n",
       "      <td>!sdata_version</td>\n",
       "      <td>0.22.2</td>\n",
       "      <td>str</td>\n",
       "      <td>-</td>\n",
       "      <td>sdata package version</td>\n",
       "      <td></td>\n",
       "      <td>False</td>\n",
       "    </tr>\n",
       "    <tr>\n",
       "      <th>force</th>\n",
       "      <td>force</td>\n",
       "      <td>1.234</td>\n",
       "      <td>float</td>\n",
       "      <td>kN</td>\n",
       "      <td>x force</td>\n",
       "      <td>F_x</td>\n",
       "      <td>False</td>\n",
       "    </tr>\n",
       "    <tr>\n",
       "      <th>my_key</th>\n",
       "      <td>my_key</td>\n",
       "      <td>123</td>\n",
       "      <td>int</td>\n",
       "      <td>m^3</td>\n",
       "      <td>a volume</td>\n",
       "      <td>V</td>\n",
       "      <td>False</td>\n",
       "    </tr>\n",
       "  </tbody>\n",
       "</table>\n",
       "</div>"
      ],
      "text/plain": [
       "                          name  \\\n",
       "key                              \n",
       "!sdata_class      !sdata_class   \n",
       "!sdata_ctime      !sdata_ctime   \n",
       "!sdata_mtime      !sdata_mtime   \n",
       "!sdata_name        !sdata_name   \n",
       "!sdata_parent    !sdata_parent   \n",
       "!sdata_project  !sdata_project   \n",
       "!sdata_suuid      !sdata_suuid   \n",
       "!sdata_uuid        !sdata_uuid   \n",
       "!sdata_version  !sdata_version   \n",
       "force                    force   \n",
       "my_key                  my_key   \n",
       "\n",
       "                                                            value  dtype unit  \\\n",
       "key                                                                             \n",
       "!sdata_class                                                 Data    str    -   \n",
       "!sdata_ctime                     2024-03-05T10:48:11.607387+00:00    str    -   \n",
       "!sdata_mtime                     2024-03-05T10:48:11.607479+00:00    str    -   \n",
       "!sdata_name                                                  data    str    -   \n",
       "!sdata_parent                                                        str    -   \n",
       "!sdata_project                                                       str    -   \n",
       "!sdata_suuid    MzhiMjY4NjRlNzc5NGY1MTgyZDM4NDU5YmFiODU4NDFEYX...    str    -   \n",
       "!sdata_uuid                      38b26864e7794f5182d38459bab85841    str    -   \n",
       "!sdata_version                                             0.22.2    str    -   \n",
       "force                                                       1.234  float   kN   \n",
       "my_key                                                        123    int  m^3   \n",
       "\n",
       "                                        description label  required  \n",
       "key                                                                  \n",
       "!sdata_class                            sdata class           False  \n",
       "!sdata_ctime                          creation date           False  \n",
       "!sdata_mtime                      modification date           False  \n",
       "!sdata_name                 name of the data object           False  \n",
       "!sdata_parent       uuid of the parent sdata object           False  \n",
       "!sdata_project                                                False  \n",
       "!sdata_suuid    Super Universally Unique Identifier           False  \n",
       "!sdata_uuid           Universally Unique Identifier           False  \n",
       "!sdata_version                sdata package version           False  \n",
       "force                                       x force   F_x     False  \n",
       "my_key                                     a volume     V     False  "
      ]
     },
     "execution_count": 28,
     "metadata": {},
     "output_type": "execute_result"
    }
   ],
   "source": [
    "data.metadata.df"
   ]
  },
  {
   "cell_type": "code",
   "execution_count": 37,
   "metadata": {},
   "outputs": [],
   "source": [
    "#help(data)"
   ]
  },
  {
   "cell_type": "markdown",
   "metadata": {},
   "source": [
    "## create a hierarchy of objects"
   ]
  },
  {
   "cell_type": "code",
   "execution_count": null,
   "metadata": {},
   "outputs": [],
   "source": [
    "group1 = sdata.Data(name=\"group1\", uuid=\"dbc894745fb04f7e87a990bdd4ba97c4\")\n",
    "print(group1)"
   ]
  },
  {
   "cell_type": "code",
   "execution_count": null,
   "metadata": {},
   "outputs": [],
   "source": [
    "data1 = sdata.Data(name=\"data1\", uuid=\"38b26864e7794f5182d38459bab8584f\")\n",
    "data2 = sdata.Data(name=\"data2\", uuid=\"b1fd2643-af55-4b33-b044-22070a0dc7c7\")\n",
    "data3 = sdata.Data(name=\"data3\", uuid=uuid.UUID(\"664577c2d3134b598bc4d6c13f20b71a\"))\n",
    "\n",
    "group1.add_data(data1)\n",
    "group1.add_data(data2)\n",
    "group1.add_data(data3)\n",
    "print(group1.group)"
   ]
  },
  {
   "cell_type": "code",
   "execution_count": null,
   "metadata": {},
   "outputs": [],
   "source": [
    "group1.keys()"
   ]
  },
  {
   "cell_type": "code",
   "execution_count": null,
   "metadata": {},
   "outputs": [],
   "source": [
    "group1.values()"
   ]
  },
  {
   "cell_type": "markdown",
   "metadata": {},
   "source": [
    "## working with Data"
   ]
  },
  {
   "cell_type": "markdown",
   "metadata": {},
   "source": [
    "data1a = group1.get_data_by_uuid(uid=\"38b26864e7794f5182d38459bab8584f\")\n",
    "assert data1a.name == \"data1\"\n",
    "assert data1a.uuid == \"38b26864e7794f5182d38459bab8584f\"\n",
    "\n",
    "data3a = group1.get_data_by_uuid(uid=\"664577c2d3134b598bc4d6c13f20b71a\")\n",
    "assert data3a.name == \"data3\"\n",
    "assert data3a.uuid == \"664577c2d3134b598bc4d6c13f20b71a\""
   ]
  },
  {
   "cell_type": "code",
   "execution_count": null,
   "metadata": {},
   "outputs": [],
   "source": [
    "data1b = group1.get_data_by_name(\"data1\")\n",
    "assert data1b.name == \"data1\"\n",
    "assert data1b.uuid == \"38b26864e7794f5182d38459bab8584f\"\n",
    "data1b"
   ]
  },
  {
   "cell_type": "markdown",
   "metadata": {},
   "source": [
    "## Data IO"
   ]
  },
  {
   "cell_type": "markdown",
   "metadata": {},
   "source": [
    "### Folder IO"
   ]
  },
  {
   "cell_type": "code",
   "execution_count": null,
   "metadata": {},
   "outputs": [],
   "source": [
    "group1.to_folder(path=\"/tmp/b/\", dtype=\"xlsx\")"
   ]
  },
  {
   "cell_type": "code",
   "execution_count": null,
   "metadata": {},
   "outputs": [],
   "source": [
    "group1.tree_folder(\"/tmp/b\")"
   ]
  },
  {
   "cell_type": "code",
   "execution_count": null,
   "metadata": {},
   "outputs": [],
   "source": [
    "group1.to_folder(path=\"/tmp/a/\", dtype=\"csv\")"
   ]
  },
  {
   "cell_type": "code",
   "execution_count": null,
   "metadata": {},
   "outputs": [],
   "source": [
    "group1.tree_folder(\"/tmp/a\")"
   ]
  },
  {
   "cell_type": "code",
   "execution_count": null,
   "metadata": {},
   "outputs": [],
   "source": [
    "group1_folder = sdata.Data.from_folder(path=\"/tmp/a\")\n",
    "print(\"!\", group1_folder)\n",
    "assert (group1.name==group1_folder.name)\n",
    "assert (group1.uuid==group1_folder.uuid)\n",
    "print(group1_folder.dir())\n",
    "group1_folder"
   ]
  },
  {
   "cell_type": "markdown",
   "metadata": {},
   "source": [
    "### Excel IO (wip)"
   ]
  },
  {
   "cell_type": "code",
   "execution_count": null,
   "metadata": {},
   "outputs": [],
   "source": [
    "data.to_xlsx(filepath=\"/tmp/data1.xlsx\")\n",
    "data_xlsx = sdata.Data.from_xlsx(filepath=\"/tmp/data1.xlsx\")\n",
    "print(data.name, data_xlsx.name)\n",
    "print(data.uuid, data_xlsx.uuid)\n",
    "#assert data.name==data_xlsx.name\n",
    "data_xlsx"
   ]
  },
  {
   "cell_type": "markdown",
   "metadata": {},
   "source": [
    "## inspect Data"
   ]
  },
  {
   "cell_type": "code",
   "execution_count": null,
   "metadata": {},
   "outputs": [],
   "source": [
    "group1.dir()"
   ]
  },
  {
   "cell_type": "code",
   "execution_count": null,
   "metadata": {},
   "outputs": [],
   "source": [
    "[x for x in dir(data) if not x.startswith(\"_\")]"
   ]
  },
  {
   "cell_type": "markdown",
   "metadata": {},
   "source": [
    "### Data with comments"
   ]
  },
  {
   "cell_type": "code",
   "execution_count": null,
   "metadata": {},
   "outputs": [],
   "source": [
    "datac = sdata.Data(name=\"data\", uuid=\"38b26864e7794f5182d38459bab85842\", description=\"this is remarkable\")\n",
    "datac"
   ]
  },
  {
   "cell_type": "code",
   "execution_count": null,
   "metadata": {},
   "outputs": [],
   "source": [
    "datac.description += \"\"\"\\n\\nhere is your comment\\nwhat's next?\"\"\""
   ]
  },
  {
   "cell_type": "code",
   "execution_count": null,
   "metadata": {},
   "outputs": [],
   "source": [
    "print(datac.description)"
   ]
  },
  {
   "cell_type": "code",
   "execution_count": null,
   "metadata": {},
   "outputs": [],
   "source": [
    "datac.to_xlsx(\"/tmp/data_with_description.xlsx\")"
   ]
  },
  {
   "cell_type": "code",
   "execution_count": null,
   "metadata": {},
   "outputs": [],
   "source": [
    "datac2 = sdata.Data.from_xlsx(\"/tmp/data_with_description.xlsx\")\n",
    "print(datac2.description)"
   ]
  },
  {
   "cell_type": "markdown",
   "metadata": {},
   "source": [
    "## make a copy"
   ]
  },
  {
   "cell_type": "code",
   "execution_count": null,
   "metadata": {},
   "outputs": [],
   "source": [
    "data = sdata.Data(name=\"data\", uuid=\"38b26864e7794f5182d38459bab85842\", description=\"this is remarkable\")\n",
    "datac = data.copy()\n",
    "print(\"data  {0.uuid}\".format(data))\n",
    "print(\"datac {0.uuid}\".format(datac))\n",
    "print(\"datac.metadata['!sdata_parent'] {0.value}\".format(datac.metadata[\"!sdata_parent\"]))\n"
   ]
  },
  {
   "cell_type": "code",
   "execution_count": null,
   "metadata": {},
   "outputs": [],
   "source": [
    "datac.metadata.df"
   ]
  },
  {
   "cell_type": "markdown",
   "metadata": {},
   "source": [
    "## data from url"
   ]
  },
  {
   "cell_type": "code",
   "execution_count": null,
   "metadata": {},
   "outputs": [],
   "source": [
    "url = \"https://gist.github.com/lepy/fdbdce805b206322d8013a1375da0eb9/raw/76e6dad16e78befbbd711e074e7fb8493d15be89/medmnsteel_0.01mps_1_rd.json\"\n",
    "data = sdata.Data.from_url(url, stype=\"json\")\n",
    "data.describe()\n",
    "data.metadata.df"
   ]
  },
  {
   "cell_type": "code",
   "execution_count": null,
   "metadata": {},
   "outputs": [],
   "source": []
  }
 ],
 "metadata": {
  "kernelspec": {
   "display_name": "sfem3",
   "language": "python",
   "name": "sfem3"
  },
  "language_info": {
   "codemirror_mode": {
    "name": "ipython",
    "version": 3
   },
   "file_extension": ".py",
   "mimetype": "text/x-python",
   "name": "python",
   "nbconvert_exporter": "python",
   "pygments_lexer": "ipython3",
   "version": "3.7.4"
  }
 },
 "nbformat": 4,
 "nbformat_minor": 2
}
