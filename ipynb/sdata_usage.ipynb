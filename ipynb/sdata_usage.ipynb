{
 "cells": [
  {
   "cell_type": "markdown",
   "metadata": {},
   "source": [
    "# sdata usage"
   ]
  },
  {
   "cell_type": "code",
   "execution_count": null,
   "metadata": {},
   "outputs": [],
   "source": [
    "%load_ext autoreload\n",
    "%autoreload 2\n",
    "%matplotlib inline\n",
    "%autosave 0\n",
    "    \n",
    "import logging\n",
    "logging.basicConfig(format='%(asctime)s %(levelname)s:%(message)s', level=logging.WARNING, datefmt='%I:%M:%S')\n",
    "\n",
    "import os\n",
    "import sys\n",
    "import numpy as np\n",
    "import pandas as pd\n",
    "import sdata\n",
    "import uuid\n",
    "print(\"sdata v{}\".format(sdata.__version__))"
   ]
  },
  {
   "cell_type": "markdown",
   "metadata": {},
   "source": [
    "## create a Data object"
   ]
  },
  {
   "cell_type": "code",
   "execution_count": null,
   "metadata": {},
   "outputs": [],
   "source": [
    "data = sdata.Data(name=\"data\", uuid=\"38b26864e7794f5182d38459bab85841\")\n",
    "data.metadata.add(\"my_key\", 123, unit=\"m^3\", description=\"a volume\", label=\"V\")\n",
    "data.metadata.add(\"force\", 1.234, unit=\"kN\", description=\"x force\", label=\"F_x\")\n",
    "data"
   ]
  },
  {
   "cell_type": "code",
   "execution_count": null,
   "metadata": {},
   "outputs": [],
   "source": [
    "data.metadata.df"
   ]
  },
  {
   "cell_type": "code",
   "execution_count": null,
   "metadata": {},
   "outputs": [],
   "source": [
    "data.uuid"
   ]
  },
  {
   "cell_type": "code",
   "execution_count": null,
   "metadata": {},
   "outputs": [],
   "source": [
    "#help(data)"
   ]
  },
  {
   "cell_type": "markdown",
   "metadata": {},
   "source": [
    "## create a hierarchy of objects"
   ]
  },
  {
   "cell_type": "code",
   "execution_count": null,
   "metadata": {},
   "outputs": [],
   "source": [
    "group1 = sdata.Data(name=\"group1\", uuid=\"dbc894745fb04f7e87a990bdd4ba97c4\")\n",
    "print(group1)"
   ]
  },
  {
   "cell_type": "code",
   "execution_count": null,
   "metadata": {},
   "outputs": [],
   "source": [
    "data1 = sdata.Data(name=\"data1\", uuid=\"38b26864e7794f5182d38459bab8584f\")\n",
    "data2 = sdata.Data(name=\"data2\", uuid=\"b1fd2643-af55-4b33-b044-22070a0dc7c7\")\n",
    "data3 = sdata.Data(name=\"data3\", uuid=uuid.UUID(\"664577c2d3134b598bc4d6c13f20b71a\"))\n",
    "\n",
    "group1.add_data(data1)\n",
    "group1.add_data(data2)\n",
    "group1.add_data(data3)\n",
    "print(group1.group)"
   ]
  },
  {
   "cell_type": "code",
   "execution_count": null,
   "metadata": {},
   "outputs": [],
   "source": [
    "group1.keys()"
   ]
  },
  {
   "cell_type": "code",
   "execution_count": null,
   "metadata": {},
   "outputs": [],
   "source": [
    "group1.values()"
   ]
  },
  {
   "cell_type": "markdown",
   "metadata": {},
   "source": [
    "## working with Data"
   ]
  },
  {
   "cell_type": "markdown",
   "metadata": {},
   "source": [
    "data1a = group1.get_data_by_uuid(uid=\"38b26864e7794f5182d38459bab8584f\")\n",
    "assert data1a.name == \"data1\"\n",
    "assert data1a.uuid == \"38b26864e7794f5182d38459bab8584f\"\n",
    "\n",
    "data3a = group1.get_data_by_uuid(uid=\"664577c2d3134b598bc4d6c13f20b71a\")\n",
    "assert data3a.name == \"data3\"\n",
    "assert data3a.uuid == \"664577c2d3134b598bc4d6c13f20b71a\""
   ]
  },
  {
   "cell_type": "code",
   "execution_count": null,
   "metadata": {},
   "outputs": [],
   "source": [
    "data1b = group1.get_data_by_name(\"data1\")\n",
    "assert data1b.name == \"data1\"\n",
    "assert data1b.uuid == \"38b26864e7794f5182d38459bab8584f\"\n",
    "data1b"
   ]
  },
  {
   "cell_type": "markdown",
   "metadata": {},
   "source": [
    "## Data IO"
   ]
  },
  {
   "cell_type": "markdown",
   "metadata": {},
   "source": [
    "### Folder IO"
   ]
  },
  {
   "cell_type": "code",
   "execution_count": null,
   "metadata": {},
   "outputs": [],
   "source": [
    "group1.to_folder(path=\"/tmp/b/\", dtype=\"xlsx\")"
   ]
  },
  {
   "cell_type": "code",
   "execution_count": null,
   "metadata": {},
   "outputs": [],
   "source": [
    "group1.tree_folder(\"/tmp/b\")"
   ]
  },
  {
   "cell_type": "code",
   "execution_count": null,
   "metadata": {},
   "outputs": [],
   "source": [
    "group1.to_folder(path=\"/tmp/a/\", dtype=\"csv\")"
   ]
  },
  {
   "cell_type": "code",
   "execution_count": null,
   "metadata": {},
   "outputs": [],
   "source": [
    "group1.tree_folder(\"/tmp/a\")"
   ]
  },
  {
   "cell_type": "code",
   "execution_count": null,
   "metadata": {},
   "outputs": [],
   "source": [
    "group1_folder = sdata.Data.from_folder(path=\"/tmp/a\")\n",
    "print(\"!\", group1_folder)\n",
    "assert (group1.name==group1_folder.name)\n",
    "assert (group1.uuid==group1_folder.uuid)\n",
    "print(group1_folder.dir())\n",
    "group1_folder"
   ]
  },
  {
   "cell_type": "markdown",
   "metadata": {},
   "source": [
    "### Excel IO (wip)"
   ]
  },
  {
   "cell_type": "code",
   "execution_count": null,
   "metadata": {},
   "outputs": [],
   "source": [
    "data.to_xlsx(filepath=\"/tmp/data1.xlsx\")\n",
    "data_xlsx = sdata.Data.from_xlsx(filepath=\"/tmp/data1.xlsx\")\n",
    "print(data.name, data_xlsx.name)\n",
    "print(data.uuid, data_xlsx.uuid)\n",
    "#assert data.name==data_xlsx.name\n",
    "data_xlsx"
   ]
  },
  {
   "cell_type": "markdown",
   "metadata": {},
   "source": [
    "## inspect Data"
   ]
  },
  {
   "cell_type": "code",
   "execution_count": null,
   "metadata": {},
   "outputs": [],
   "source": [
    "group1.dir()"
   ]
  },
  {
   "cell_type": "code",
   "execution_count": null,
   "metadata": {},
   "outputs": [],
   "source": [
    "[x for x in dir(data) if not x.startswith(\"_\")]"
   ]
  },
  {
   "cell_type": "markdown",
   "metadata": {},
   "source": [
    "### Data with comments"
   ]
  },
  {
   "cell_type": "code",
   "execution_count": null,
   "metadata": {},
   "outputs": [],
   "source": [
    "datac = sdata.Data(name=\"data\", uuid=\"38b26864e7794f5182d38459bab85842\", description=\"this is remarkable\")\n",
    "datac"
   ]
  },
  {
   "cell_type": "code",
   "execution_count": null,
   "metadata": {},
   "outputs": [],
   "source": [
    "datac.description += \"\"\"\\n\\nhere is your comment\\nwhat's next?\"\"\""
   ]
  },
  {
   "cell_type": "code",
   "execution_count": null,
   "metadata": {},
   "outputs": [],
   "source": [
    "print(datac.description)"
   ]
  },
  {
   "cell_type": "code",
   "execution_count": null,
   "metadata": {},
   "outputs": [],
   "source": [
    "datac.to_xlsx(\"/tmp/data_with_description.xlsx\")"
   ]
  },
  {
   "cell_type": "code",
   "execution_count": null,
   "metadata": {},
   "outputs": [],
   "source": [
    "datac2 = sdata.Data.from_xlsx(\"/tmp/data_with_description.xlsx\")\n",
    "print(datac2.description)"
   ]
  },
  {
   "cell_type": "markdown",
   "metadata": {},
   "source": [
    "## make a copy"
   ]
  },
  {
   "cell_type": "code",
   "execution_count": null,
   "metadata": {},
   "outputs": [],
   "source": [
    "data = sdata.Data(name=\"data\", uuid=\"38b26864e7794f5182d38459bab85842\", description=\"this is remarkable\")\n",
    "datac = data.copy()\n",
    "print(\"data  {0.uuid}\".format(data))\n",
    "print(\"datac {0.uuid}\".format(datac))\n",
    "print(\"datac.metadata['!sdata_parent'] {0.value}\".format(datac.metadata[\"!sdata_parent\"]))\n"
   ]
  },
  {
   "cell_type": "code",
   "execution_count": null,
   "metadata": {},
   "outputs": [],
   "source": [
    "datac.metadata.df"
   ]
  },
  {
   "cell_type": "markdown",
   "metadata": {},
   "source": [
    "## data from url"
   ]
  },
  {
   "cell_type": "code",
   "execution_count": null,
   "metadata": {},
   "outputs": [],
   "source": [
    "url = \"https://gist.github.com/lepy/fdbdce805b206322d8013a1375da0eb9/raw/76e6dad16e78befbbd711e074e7fb8493d15be89/medmnsteel_0.01mps_1_rd.json\"\n",
    "data = sdata.Data.from_url(url, stype=\"json\")\n",
    "data.describe()\n",
    "data.metadata.df"
   ]
  },
  {
   "cell_type": "code",
   "execution_count": null,
   "metadata": {},
   "outputs": [],
   "source": []
  }
 ],
 "metadata": {
  "kernelspec": {
   "display_name": "sfem3",
   "language": "python",
   "name": "sfem3"
  },
  "language_info": {
   "codemirror_mode": {
    "name": "ipython",
    "version": 3
   },
   "file_extension": ".py",
   "mimetype": "text/x-python",
   "name": "python",
   "nbconvert_exporter": "python",
   "pygments_lexer": "ipython3",
   "version": "3.7.4"
  }
 },
 "nbformat": 4,
 "nbformat_minor": 2
}
