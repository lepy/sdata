{
 "cells": [
  {
   "cell_type": "markdown",
   "metadata": {
    "slideshow": {
     "slide_type": "slide"
    }
   },
   "source": [
    "# Das sdata-Format \n",
    "\n",
    "Ingolf Lepenies, lepy@mailbox.org\n",
    "\n",
    "## Ein Beispiel zur Ablage einer Tabelle im sdata-Format\n",
    "\n",
    "Dieses Beispiel zeigt die Ablage einer Tabelle mit zwei Spalten im `sdata`-Format. \n",
    "        "
   ]
  },
  {
   "cell_type": "code",
   "execution_count": 1,
   "metadata": {
    "slideshow": {
     "slide_type": "subslide"
    }
   },
   "outputs": [
    {
     "data": {
      "text/html": [
       "<div>\n",
       "<style scoped>\n",
       "    .dataframe tbody tr th:only-of-type {\n",
       "        vertical-align: middle;\n",
       "    }\n",
       "\n",
       "    .dataframe tbody tr th {\n",
       "        vertical-align: top;\n",
       "    }\n",
       "\n",
       "    .dataframe thead th {\n",
       "        text-align: right;\n",
       "    }\n",
       "</style>\n",
       "<table border=\"1\" class=\"dataframe\">\n",
       "  <thead>\n",
       "    <tr style=\"text-align: right;\">\n",
       "      <th></th>\n",
       "      <th>column_a</th>\n",
       "      <th>column_b</th>\n",
       "    </tr>\n",
       "    <tr>\n",
       "      <th>index</th>\n",
       "      <th></th>\n",
       "      <th></th>\n",
       "    </tr>\n",
       "  </thead>\n",
       "  <tbody>\n",
       "    <tr>\n",
       "      <th>0</th>\n",
       "      <td>1.1</td>\n",
       "      <td>2.4</td>\n",
       "    </tr>\n",
       "    <tr>\n",
       "      <th>max_b</th>\n",
       "      <td>2.1</td>\n",
       "      <td>5.2</td>\n",
       "    </tr>\n",
       "    <tr>\n",
       "      <th>2</th>\n",
       "      <td>3.5</td>\n",
       "      <td>2.2</td>\n",
       "    </tr>\n",
       "  </tbody>\n",
       "</table>\n",
       "</div>"
      ],
      "text/plain": [
       "       column_a  column_b\n",
       "index                    \n",
       "0           1.1       2.4\n",
       "max_b       2.1       5.2\n",
       "2           3.5       2.2"
      ]
     },
     "execution_count": 1,
     "metadata": {},
     "output_type": "execute_result"
    }
   ],
   "source": [
    "import pandas as pd\n",
    "df = pd.DataFrame({\"column_a\": [1.1, 2.1, 3.5],\n",
    "                   \"column_b\": [2.4, 5.2, 2.2]}, index=[0, 'max_b', 2])\n",
    "df.index.name = \"index\" \n",
    "df"
   ]
  },
  {
   "cell_type": "markdown",
   "metadata": {
    "slideshow": {
     "slide_type": "slide"
    }
   },
   "source": [
    "**sdata** steht für **strukturierte Daten**. [`sdata`](https://github.com/lepy/sdata) ist eine unter der [MIT-Lizenz](https://raw.githubusercontent.com/lepy/sdata/master/LICENSE-MIT) veröffentlichte open-source [Python-Bibiothek](https://pypi.org/project/sdata/), welche das sdata-Format unterstützt. Installiert wird die Bibliothek mittels ``pip install sdata``. Die Dokumentation wird unter [sdata.readthedocs.io](https://sdata.readthedocs.io/en/latest/) veröffentlicht. "
   ]
  },
  {
   "cell_type": "code",
   "execution_count": 2,
   "metadata": {
    "slideshow": {
     "slide_type": "-"
    }
   },
   "outputs": [
    {
     "name": "stdout",
     "output_type": "stream",
     "text": [
      "sdata v0.8.4\n"
     ]
    }
   ],
   "source": [
    "import sdata\n",
    "print(\"sdata v{}\".format(sdata.__version__))"
   ]
  },
  {
   "cell_type": "markdown",
   "metadata": {
    "slideshow": {
     "slide_type": "slide"
    }
   },
   "source": [
    "## Die Komponenten des sdata-Formates\n",
    "\n",
    "Das sdata-Datenformat `Data` besteht aus drei Komponenten: den Daten (hier eine **Tabelle** `table`), den **Metadaten** `metadata` \n",
    "(`name`, `uuid`, ...) und einer **Beschreibung** der Daten `description`.\n",
    "\n"
   ]
  },
  {
   "cell_type": "code",
   "execution_count": 3,
   "metadata": {
    "slideshow": {
     "slide_type": "-"
    }
   },
   "outputs": [
    {
     "name": "stdout",
     "output_type": "stream",
     "text": [
      "data:            \t <class 'sdata.Data'>\n",
      "data.metadata:   \t <class 'sdata.metadata.Metadata'>\n",
      "data.table:      \t <class 'pandas.core.frame.DataFrame'>\n",
      "data.description:\t <class 'str'>\n"
     ]
    }
   ],
   "source": [
    "data = sdata.Data(name=\"my data name\", table=df, description=\"my data description\")\n",
    "print(\"data:            \\t {0}\".format(type(data)))\n",
    "print(\"data.metadata:   \\t {0}\".format(type(data.metadata)))\n",
    "print(\"data.table:      \\t {0}\".format(type(data.table)))\n",
    "print(\"data.description:\\t {0}\".format(type(data.description)))"
   ]
  },
  {
   "cell_type": "markdown",
   "metadata": {
    "slideshow": {
     "slide_type": "slide"
    }
   },
   "source": [
    "### sdata.Data.metadata\n",
    "\n",
    "Jeder Datensatz `Data` benötigt einen Namen `name`. Die vom User vorgegebene Identifikation des Datensatzes ist aber mit einer hohen \n",
    "Wahrscheinlichkeit nicht eindeutig, da i.d.R sehr kurze Bezeichnungen gewählt werden. \n",
    "\n"
   ]
  },
  {
   "cell_type": "code",
   "execution_count": 4,
   "metadata": {
    "slideshow": {
     "slide_type": "-"
    }
   },
   "outputs": [
    {
     "name": "stdout",
     "output_type": "stream",
     "text": [
      "data.name:\t 'basic example'\n"
     ]
    }
   ],
   "source": [
    "data = sdata.Data(name=\"basic example\")\n",
    "print(\"data.name:\\t '{0.name}'\".format(data))"
   ]
  },
  {
   "cell_type": "markdown",
   "metadata": {
    "slideshow": {
     "slide_type": "slide"
    }
   },
   "source": [
    "Zur Identifikation eines Datensatzes ist eine möglichst eindeutige Bezeichnung hilfreich. Üblicherweise wird hierzu ein sogenannter Universally Unique Identifier [`uuid`] (https://de.wikipedia.org/wiki/Universally_Unique_Identifier) verwendet. Diese Merkmale eines Datensatzes werden im sdata-Format in den Metadaten gespeichert. Diese `uuid` wird automatisch bei jeder Instanziierung eines `sdata.Data`-Objektes generiert. \n"
   ]
  },
  {
   "cell_type": "code",
   "execution_count": 5,
   "metadata": {
    "slideshow": {
     "slide_type": "-"
    }
   },
   "outputs": [
    {
     "name": "stdout",
     "output_type": "stream",
     "text": [
      "data.uuid:\t '8b1e85eded1241eb854be3365bcf9884'\n"
     ]
    }
   ],
   "source": [
    "data = sdata.Data(uuid=\"8b1e85eded1241eb854be3365bcf9884\")\n",
    "print(\"data.uuid:\\t '{0.uuid}'\".format(data))"
   ]
  },
  {
   "cell_type": "markdown",
   "metadata": {
    "slideshow": {
     "slide_type": "subslide"
    }
   },
   "source": [
    "Die `uuid` kann aber auch basierend auf einem - möglichst eindeutigen - Names generiert werden."
   ]
  },
  {
   "cell_type": "code",
   "execution_count": 6,
   "metadata": {
    "slideshow": {
     "slide_type": "-"
    }
   },
   "outputs": [
    {
     "name": "stdout",
     "output_type": "stream",
     "text": [
      "data.uuid:\t '06f8c76b037c3636a40246f024e87574'\n"
     ]
    }
   ],
   "source": [
    "my_uuid = sdata.uuid_from_str(\"Das ist ein möglichst eindeutiger Name für die Daten\")\n",
    "data = sdata.Data(uuid=my_uuid)\n",
    "print(\"data.uuid:\\t '{0.uuid}'\".format(data))"
   ]
  },
  {
   "cell_type": "markdown",
   "metadata": {
    "slideshow": {
     "slide_type": "slide"
    }
   },
   "source": [
    "Die Komponente `metadata` hat also mindestenz zwei Attribute `name` und `uuid`. Die einfachste Form eines Attributes \n",
    "stellt ein key-value-Tupel dar, d.h. eine Verknüpfung einer Bedeutung mit einer Ausprägung, z.B. `Augenfarbe=\"blau\"` \n",
    "oder `name=\"basic example\"`."
   ]
  },
  {
   "cell_type": "code",
   "execution_count": 7,
   "metadata": {},
   "outputs": [
    {
     "data": {
      "text/plain": [
       "(Attr'Augenfarbe':blau(str))"
      ]
     },
     "execution_count": 7,
     "metadata": {},
     "output_type": "execute_result"
    }
   ],
   "source": [
    "attribute1 = sdata.Attribute(\"Augenfarbe\", \"blau\")\n",
    "attribute1"
   ]
  },
  {
   "cell_type": "markdown",
   "metadata": {
    "slideshow": {
     "slide_type": "subslide"
    }
   },
   "source": [
    "Ein `Attribut` (Eigenschaft) des Datenobjektes hat im sdata-Format die Felder\n",
    "\n",
    "* `name` ... Name des Attributes\n",
    "* `value` ... Wert des Attributes\n",
    "* `dtype` ... Datentyp des Attributwertes `values` (default=`str`)\n",
    "* `unit` ... physikalische Einheit des Attributes (*optional*)\n",
    "* `description` ... Beschreibung des Attributes (*optional*)\n",
    "* `label` ... optionales Label des Attributes, z.B. für Plotzwecke \n"
   ]
  },
  {
   "cell_type": "code",
   "execution_count": 8,
   "metadata": {
    "slideshow": {
     "slide_type": "-"
    }
   },
   "outputs": [
    {
     "data": {
      "text/plain": [
       "{'name': 'answer',\n",
       " 'value': 42,\n",
       " 'unit': '-',\n",
       " 'dtype': 'int',\n",
       " 'description': 'The Answer to the Ultimate Question of Life, The Universe, and Everything',\n",
       " 'label': 'Die Antwort'}"
      ]
     },
     "execution_count": 8,
     "metadata": {},
     "output_type": "execute_result"
    }
   ],
   "source": [
    "attribute2 = sdata.Attribute(name=\"answer\", \n",
    "                             value=42, \n",
    "                             dtype=\"int\", \n",
    "                             unit=\"-\", \n",
    "                             description=\"\"\"The Answer to the Ultimate Question of Life, The Universe, and Everything\"\"\", \n",
    "                             label=\"Die Antwort\")\n",
    "attribute2.to_dict()"
   ]
  },
  {
   "cell_type": "markdown",
   "metadata": {
    "slideshow": {
     "slide_type": "slide"
    }
   },
   "source": [
    "Attribute werden in den Metadaten gespeichert."
   ]
  },
  {
   "cell_type": "code",
   "execution_count": 25,
   "metadata": {
    "slideshow": {
     "slide_type": "-"
    }
   },
   "outputs": [
    {
     "name": "stdout",
     "output_type": "stream",
     "text": [
      "(Metadata'N.N.':3 ['sdata_version', 'Augenfarbe', 'answer'])\n",
      "                        name  value dtype unit  \\\n",
      "key                                              \n",
      "sdata_version  sdata_version  0.8.4   str    -   \n",
      "Augenfarbe        Augenfarbe   blau   str    -   \n",
      "answer                answer     42   int    -   \n",
      "\n",
      "                                                     description        label  \n",
      "key                                                                            \n",
      "sdata_version                                                                  \n",
      "Augenfarbe                                                                     \n",
      "answer         The Answer to the Ultimate Question of Life, T...  Die Antwort  \n"
     ]
    }
   ],
   "source": [
    "metadata = sdata.Metadata()\n",
    "metadata.add(attribute1)\n",
    "metadata.add(attribute2)\n",
    "print(metadata)\n",
    "print(metadata.df)"
   ]
  },
  {
   "cell_type": "markdown",
   "metadata": {
    "slideshow": {
     "slide_type": "slide"
    }
   },
   "source": [
    "Ein Attribut - auch Eigenschaft genannt - stellt demnach ein Merkmal des Datenobjektes dar. Nützlich ist auch eine \n",
    "Angabe einer physikalischen Größe, welche i.d.R. Einheiten behaftet ist. Exemplarisch ist hier ein Attribut \n",
    "`Temperatur` mit der Ausprägung `25.4°C` aufgeführt. Die physikalische Einheit wird im Attributfeld `unit` abgelegt \n",
    "(`unit=\"degC\"`) und der Zahlenwert im Feld `value=25.4`. Da eine physikalische Größe aus dem Produkt einer (reelen) Zahl und \n",
    "einer physikalischen Einheit besteht, sieht das sdata-Attribut-Format auch ein Attributfeld `dtype` \n",
    "zur Definition des Datentypes für den Attributwert `value` vor. Ferner kann jedes Attribut im Feld `description` genauer beschrieben werden. Optional kann auch ein Label für Plot-Zwecke angegeben werden.\n",
    "\n"
   ]
  },
  {
   "cell_type": "code",
   "execution_count": 26,
   "metadata": {
    "slideshow": {
     "slide_type": "subslide"
    }
   },
   "outputs": [
    {
     "name": "stdout",
     "output_type": "stream",
     "text": [
      "                        name                             value  dtype  unit  \\\n",
      "key                                                                           \n",
      "sdata_version  sdata_version                             0.8.4    str     -   \n",
      "name                    name                     basic example    str     -   \n",
      "uuid                    uuid  38b26864e7794f5182d38459bab85842    str     -   \n",
      "Temperatur        Temperatur                              25.4  float  degC   \n",
      "\n",
      "              description              label  \n",
      "key                                           \n",
      "sdata_version                                 \n",
      "name                                          \n",
      "uuid                                          \n",
      "Temperatur     Temperatur  Temperatur T [°C]  \n"
     ]
    }
   ],
   "source": [
    "data = sdata.Data(name=\"basic example\", \n",
    "                  uuid=\"38b26864e7794f5182d38459bab85842\", \n",
    "                  table=df)\n",
    "data.metadata.add(\"Temperatur\", \n",
    "                  value=25.4, \n",
    "                  dtype=\"float\", \n",
    "                  unit=\"degC\", \n",
    "                  description=\"Temperatur\", \n",
    "                  label=\"Temperatur T [°C]\")\n",
    "print(data.metadata.df)"
   ]
  },
  {
   "cell_type": "markdown",
   "metadata": {
    "slideshow": {
     "slide_type": "slide"
    }
   },
   "source": [
    "### sdata.Data.table\n",
    "Das eigentliche Datenobjekt `table` ist als `pandas.DataFrame` repräsentiert, d.h. jede Zelle der Tabelle ist durch \n",
    "ein Tupel (index, column) indiziert. Jede Spalte (`column`) ist durch den Spaltennamen (hier z.B. `time` oder `temperature`) indizierbar. \n",
    "Jede Zeile (`row`) ist durch den `index` indiziert, wobei der `index` auch alphanumerisch sein kann (z.B. 'max_temp').\n"
   ]
  },
  {
   "cell_type": "code",
   "execution_count": 11,
   "metadata": {
    "slideshow": {
     "slide_type": "-"
    }
   },
   "outputs": [
    {
     "data": {
      "text/html": [
       "<div>\n",
       "<style scoped>\n",
       "    .dataframe tbody tr th:only-of-type {\n",
       "        vertical-align: middle;\n",
       "    }\n",
       "\n",
       "    .dataframe tbody tr th {\n",
       "        vertical-align: top;\n",
       "    }\n",
       "\n",
       "    .dataframe thead th {\n",
       "        text-align: right;\n",
       "    }\n",
       "</style>\n",
       "<table border=\"1\" class=\"dataframe\">\n",
       "  <thead>\n",
       "    <tr style=\"text-align: right;\">\n",
       "      <th></th>\n",
       "      <th>time</th>\n",
       "      <th>temperature</th>\n",
       "    </tr>\n",
       "    <tr>\n",
       "      <th>index</th>\n",
       "      <th></th>\n",
       "      <th></th>\n",
       "    </tr>\n",
       "  </thead>\n",
       "  <tbody>\n",
       "    <tr>\n",
       "      <th>0</th>\n",
       "      <td>1.1</td>\n",
       "      <td>2.4</td>\n",
       "    </tr>\n",
       "    <tr>\n",
       "      <th>max_temp</th>\n",
       "      <td>2.1</td>\n",
       "      <td>5.2</td>\n",
       "    </tr>\n",
       "    <tr>\n",
       "      <th>2</th>\n",
       "      <td>3.5</td>\n",
       "      <td>2.2</td>\n",
       "    </tr>\n",
       "  </tbody>\n",
       "</table>\n",
       "</div>"
      ],
      "text/plain": [
       "          time  temperature\n",
       "index                      \n",
       "0          1.1          2.4\n",
       "max_temp   2.1          5.2\n",
       "2          3.5          2.2"
      ]
     },
     "execution_count": 11,
     "metadata": {},
     "output_type": "execute_result"
    }
   ],
   "source": [
    "df = pd.DataFrame({\"time\": [1.1, 2.1, 3.5],\n",
    "                   \"temperature\": [2.4, 5.2, 2.2]}, index=[0, 'max_temp', 2])\n",
    "df.index.name = \"index\" \n",
    "df"
   ]
  },
  {
   "cell_type": "markdown",
   "metadata": {
    "slideshow": {
     "slide_type": "slide"
    }
   },
   "source": [
    "### sdata.Data.decription"
   ]
  },
  {
   "cell_type": "markdown",
   "metadata": {
    "slideshow": {
     "slide_type": "-"
    }
   },
   "source": [
    "Die Beschreibung `description` ist vom Typ `str`."
   ]
  },
  {
   "cell_type": "code",
   "execution_count": 12,
   "metadata": {
    "slideshow": {
     "slide_type": "-"
    }
   },
   "outputs": [
    {
     "name": "stdout",
     "output_type": "stream",
     "text": [
      "Messergebnis Temperatur.\n"
     ]
    }
   ],
   "source": [
    "data.description = \"Messergebnis Temperatur.\"\n",
    "print(data.description)"
   ]
  },
  {
   "cell_type": "markdown",
   "metadata": {
    "slideshow": {
     "slide_type": "subslide"
    }
   },
   "source": [
    "Es ist möglich eine vereinfachte Auszeichnungssprache \n",
    "wie [Markdown](https://de.wikipedia.org/wiki/Markdown) verwendbar. Beispielhaft ist hier Datenbeschreibung mit Überschriften und Formel aufgeführt.   \n"
   ]
  },
  {
   "cell_type": "markdown",
   "metadata": {
    "slideshow": {
     "slide_type": "-"
    }
   },
   "source": [
    "\n",
    "\n",
    "\n",
    "\n",
    "# Messergebnis Temperatur.\n",
    "## subheader\n",
    "\n",
    "a remarkable text\n",
    "\n",
    "Bullet list:\n",
    "\n",
    "- aaa\n",
    "    - aaa.b\n",
    "- bbb\n",
    "\n",
    "\n",
    "Numbered list:\n",
    "\n",
    "1. foo\n",
    "1. bar\n",
    "\n",
    "$f(x) = \\frac{1}{2}\\sin(x)$\n",
    "\n",
    "code:\n",
    "\n",
    "    name=\"basic example\"\n",
    "\n",
    "A [Link](https://github.com/lepy/sdata)."
   ]
  },
  {
   "cell_type": "code",
   "execution_count": 13,
   "metadata": {
    "slideshow": {
     "slide_type": "subslide"
    }
   },
   "outputs": [],
   "source": [
    "data.description = r\"\"\"# Messergebnis Temperatur\n",
    "## subheader\n",
    "\n",
    "a remarkable text\n",
    "\n",
    "Bullet list:\n",
    "\n",
    "- aaa\n",
    "    - aaa.b\n",
    "- bbb\n",
    "\n",
    "\n",
    "Numbered list:\n",
    "\n",
    "1. foo\n",
    "1. bar\n",
    "\n",
    "$f(x) = \\frac{1}{2}\\sin(x)$\n",
    "\n",
    "code:\n",
    "\n",
    "    name = \"basic example\"\n",
    "\n",
    "A [Link](https://github.com/lepy/sdata).\"\"\"\n"
   ]
  },
  {
   "cell_type": "code",
   "execution_count": 14,
   "metadata": {
    "slideshow": {
     "slide_type": "subslide"
    }
   },
   "outputs": [
    {
     "name": "stdout",
     "output_type": "stream",
     "text": [
      "# Messergebnis Temperatur\n",
      "## subheader\n",
      "\n",
      "a remarkable text\n",
      "\n",
      "Bullet list:\n",
      "\n",
      "- aaa\n",
      "    - aaa.b\n",
      "- bbb\n",
      "\n",
      "\n",
      "Numbered list:\n",
      "\n",
      "1. foo\n",
      "1. bar\n",
      "\n",
      "$f(x) = \\frac{1}{2}\\sin(x)$\n",
      "\n",
      "code:\n",
      "\n",
      "    name = \"basic example\"\n",
      "\n",
      "A [Link](https://github.com/lepy/sdata).\n"
     ]
    }
   ],
   "source": [
    "print(data.description)"
   ]
  },
  {
   "cell_type": "markdown",
   "metadata": {
    "slideshow": {
     "slide_type": "slide"
    }
   },
   "source": [
    "## Beispiel einer *Temperaturmessung-001*\n",
    "\n",
    "Die Daten bestehen aus einer Tabelle mit zwei Spalten für die Zeit und eine gemessene Temperatur. "
   ]
  },
  {
   "cell_type": "code",
   "execution_count": 15,
   "metadata": {
    "slideshow": {
     "slide_type": "-"
    }
   },
   "outputs": [
    {
     "data": {
      "text/html": [
       "<div>\n",
       "<style scoped>\n",
       "    .dataframe tbody tr th:only-of-type {\n",
       "        vertical-align: middle;\n",
       "    }\n",
       "\n",
       "    .dataframe tbody tr th {\n",
       "        vertical-align: top;\n",
       "    }\n",
       "\n",
       "    .dataframe thead th {\n",
       "        text-align: right;\n",
       "    }\n",
       "</style>\n",
       "<table border=\"1\" class=\"dataframe\">\n",
       "  <thead>\n",
       "    <tr style=\"text-align: right;\">\n",
       "      <th></th>\n",
       "      <th>time</th>\n",
       "      <th>temperature</th>\n",
       "    </tr>\n",
       "  </thead>\n",
       "  <tbody>\n",
       "    <tr>\n",
       "      <th>0</th>\n",
       "      <td>1.1</td>\n",
       "      <td>2.4</td>\n",
       "    </tr>\n",
       "    <tr>\n",
       "      <th>max_temp</th>\n",
       "      <td>2.1</td>\n",
       "      <td>5.2</td>\n",
       "    </tr>\n",
       "    <tr>\n",
       "      <th>2</th>\n",
       "      <td>3.5</td>\n",
       "      <td>2.2</td>\n",
       "    </tr>\n",
       "  </tbody>\n",
       "</table>\n",
       "</div>"
      ],
      "text/plain": [
       "          time  temperature\n",
       "0          1.1          2.4\n",
       "max_temp   2.1          5.2\n",
       "2          3.5          2.2"
      ]
     },
     "execution_count": 15,
     "metadata": {},
     "output_type": "execute_result"
    }
   ],
   "source": [
    "df = pd.DataFrame({\"time\": [1.1, 2.1, 3.5],\n",
    "                   \"temperature\": [2.4, 5.2, 2.2]},\n",
    "                  index=[0, 'max_temp', 2])\n",
    "df"
   ]
  },
  {
   "cell_type": "markdown",
   "metadata": {
    "slideshow": {
     "slide_type": "-"
    }
   },
   "source": [
    "Das `sdata.Data`-Objekt wird mit einen Names und einer aus dem Namen generierten `uuid` versehen. Weiterhin wird für jede Spalte der Tabelle ein Attribut definiert, welche u.a. die physikalische Einheit der Spaltenwerte abbildet."
   ]
  },
  {
   "cell_type": "code",
   "execution_count": 16,
   "metadata": {
    "slideshow": {
     "slide_type": "subslide"
    }
   },
   "outputs": [
    {
     "data": {
      "text/html": [
       "<div>\n",
       "<style scoped>\n",
       "    .dataframe tbody tr th:only-of-type {\n",
       "        vertical-align: middle;\n",
       "    }\n",
       "\n",
       "    .dataframe tbody tr th {\n",
       "        vertical-align: top;\n",
       "    }\n",
       "\n",
       "    .dataframe thead th {\n",
       "        text-align: right;\n",
       "    }\n",
       "</style>\n",
       "<table border=\"1\" class=\"dataframe\">\n",
       "  <thead>\n",
       "    <tr style=\"text-align: right;\">\n",
       "      <th></th>\n",
       "      <th>0</th>\n",
       "    </tr>\n",
       "  </thead>\n",
       "  <tbody>\n",
       "    <tr>\n",
       "      <th>metadata</th>\n",
       "      <td>5</td>\n",
       "    </tr>\n",
       "    <tr>\n",
       "      <th>table_rows</th>\n",
       "      <td>3</td>\n",
       "    </tr>\n",
       "    <tr>\n",
       "      <th>table_columns</th>\n",
       "      <td>2</td>\n",
       "    </tr>\n",
       "    <tr>\n",
       "      <th>description</th>\n",
       "      <td>23</td>\n",
       "    </tr>\n",
       "  </tbody>\n",
       "</table>\n",
       "</div>"
      ],
      "text/plain": [
       "                0\n",
       "metadata        5\n",
       "table_rows      3\n",
       "table_columns   2\n",
       "description    23"
      ]
     },
     "execution_count": 16,
     "metadata": {},
     "output_type": "execute_result"
    }
   ],
   "source": [
    "data_name = \"Temperaturmessung-001\"\n",
    "data = sdata.Data(name=data_name, \n",
    "                  uuid=sdata.uuid_from_str(data_name),\n",
    "                  table=df,\n",
    "                  description=\"Messergebnis Temperatur\")\n",
    "data.metadata.add(\"time\", \n",
    "                  value=None, \n",
    "                  dtype=\"float\", \n",
    "                  unit=\"s\", \n",
    "                  description=\"Zeitachse\", \n",
    "                  label=\"time $t$\")\n",
    "data.metadata.add(\"temperature\", \n",
    "                  value=None, \n",
    "                  dtype=\"float\", \n",
    "                  unit=\"°C\", \n",
    "                  description=\"Zeitachse\", \n",
    "                  label=\"temperature $T$\")\n",
    "data.describe()"
   ]
  },
  {
   "cell_type": "code",
   "execution_count": 18,
   "metadata": {
    "slideshow": {
     "slide_type": "subslide"
    }
   },
   "outputs": [
    {
     "name": "stdout",
     "output_type": "stream",
     "text": [
      "plot\n"
     ]
    },
    {
     "data": {
      "image/png": "[encoded data removed]",
      "text/plain": [
       "<Figure size 432x288 with 1 Axes>"
      ]
     },
     "metadata": {
      "needs_background": "light"
     },
     "output_type": "display_data"
    }
   ],
   "source": [
    "import matplotlib.pyplot as plt\n",
    "fig, ax = plt.subplots()\n",
    "\n",
    "x_var = \"time\"\n",
    "y_var = \"temperature\" \n",
    "\n",
    "x_attr = data.metadata.get(x_var)\n",
    "y_attr = data.metadata.get(y_var)\n",
    "\n",
    "ax.plot(data.df[x_var], data.df[y_var], label=data.name)\n",
    "ax.legend(loc=\"best\")\n",
    "ax.set_xlabel(\"{0.label} [{0.unit}]\".format(x_attr))\n",
    "ax.set_ylabel(\"{0.label} [{0.unit}]\".format(y_attr))\n",
    "print(\"plot\")"
   ]
  },
  {
   "cell_type": "markdown",
   "metadata": {
    "slideshow": {
     "slide_type": "slide"
    }
   },
   "source": [
    "### Export\n",
    "\n",
    "Der Export kann in verschiedene Formate erfolgen."
   ]
  },
  {
   "cell_type": "code",
   "execution_count": 19,
   "metadata": {
    "slideshow": {
     "slide_type": "-"
    }
   },
   "outputs": [
    {
     "name": "stdout",
     "output_type": "stream",
     "text": [
      "Saved 'Temperaturmessung-001' to '/tmp/temperaturmessung-001.xlsx'.\n"
     ]
    }
   ],
   "source": [
    "import os\n",
    "filepath_xlsx = os.path.join(\"/tmp\", data.osname + \".xlsx\")\n",
    "data.to_xlsx(filepath=filepath_xlsx)\n",
    "print(\"Saved '{0.name}' to '{1}'.\".format(data, filepath_xlsx))"
   ]
  },
  {
   "cell_type": "code",
   "execution_count": 20,
   "metadata": {
    "slideshow": {
     "slide_type": "-"
    }
   },
   "outputs": [
    {
     "name": "stdout",
     "output_type": "stream",
     "text": [
      "Saved 'Temperaturmessung-001' to '/tmp/temperaturmessung-001.json'.\n"
     ]
    }
   ],
   "source": [
    "filepath_json = os.path.join(\"/tmp\", data.osname + \".json\")\n",
    "data.to_json(filepath=filepath_json)\n",
    "print(\"Saved '{0.name}' to '{1}'.\".format(data, filepath_json))"
   ]
  },
  {
   "cell_type": "code",
   "execution_count": 21,
   "metadata": {
    "slideshow": {
     "slide_type": "-"
    }
   },
   "outputs": [
    {
     "name": "stdout",
     "output_type": "stream",
     "text": [
      "Saved 'Temperaturmessung-001' to '/tmp/temperaturmessung-001.csv'.\n"
     ]
    }
   ],
   "source": [
    "filepath_csv = os.path.join(\"/tmp\", data.osname + \".csv\")\n",
    "data.to_csv(filepath=filepath_csv)\n",
    "print(\"Saved '{0.name}' to '{1}'.\".format(data, filepath_csv))"
   ]
  },
  {
   "cell_type": "markdown",
   "metadata": {
    "slideshow": {
     "slide_type": "subslide"
    }
   },
   "source": [
    "### Import\n",
    "\n",
    "Der Import kann aus den verschiedene Export-Formate erfolgen."
   ]
  },
  {
   "cell_type": "code",
   "execution_count": 22,
   "metadata": {
    "slideshow": {
     "slide_type": "-"
    }
   },
   "outputs": [
    {
     "data": {
      "text/plain": [
       "(Data 'Temperaturmessung-001':e13d9387728c375eb98686eacf42b6df)"
      ]
     },
     "execution_count": 22,
     "metadata": {},
     "output_type": "execute_result"
    }
   ],
   "source": [
    "filepath_xlsx = os.path.join(\"/tmp\", data.osname + \".xlsx\")\n",
    "data_xlsx = data.from_xlsx(filepath=filepath_xlsx)\n",
    "data_xlsx"
   ]
  },
  {
   "cell_type": "code",
   "execution_count": 23,
   "metadata": {
    "slideshow": {
     "slide_type": "-"
    }
   },
   "outputs": [
    {
     "data": {
      "text/plain": [
       "(Data 'Temperaturmessung-001':e13d9387728c375eb98686eacf42b6df)"
      ]
     },
     "execution_count": 23,
     "metadata": {},
     "output_type": "execute_result"
    }
   ],
   "source": [
    "filepath_json = os.path.join(\"/tmp\", data.osname + \".json\")\n",
    "data_json = data.from_json(filepath=filepath_json)\n",
    "data_json"
   ]
  },
  {
   "cell_type": "markdown",
   "metadata": {
    "slideshow": {
     "slide_type": "subslide"
    }
   },
   "source": [
    "Jedes `sdata.Data`-Objekt kann seinen Hash-Wert bestimmen. Dieser Hash-Wert, hier ein ``sha3-256``, kann u.a. zum Vergleich der Daten benutzt werden."
   ]
  },
  {
   "cell_type": "code",
   "execution_count": 24,
   "metadata": {
    "slideshow": {
     "slide_type": "-"
    }
   },
   "outputs": [
    {
     "name": "stdout",
     "output_type": "stream",
     "text": [
      "7d681f4302252912cc9ad1c90f5a2b4be37362cfcecfdfe00f8d6ffee6faf48a\n",
      "7d681f4302252912cc9ad1c90f5a2b4be37362cfcecfdfe00f8d6ffee6faf48a\n",
      "7d681f4302252912cc9ad1c90f5a2b4be37362cfcecfdfe00f8d6ffee6faf48a\n"
     ]
    }
   ],
   "source": [
    "assert data.sha3_256==data_xlsx.sha3_256\n",
    "assert data.sha3_256==data_json.sha3_256\n",
    "\n",
    "print(data.sha3_256)\n",
    "print(data_xlsx.sha3_256)\n",
    "print(data_json.sha3_256)\n"
   ]
  },
  {
   "cell_type": "markdown",
   "metadata": {
    "slideshow": {
     "slide_type": "slide"
    }
   },
   "source": [
    "### Zusammenfassung\n",
    "\n",
    "Das `sdata`-Format bietet eine einfache Möglichkeit Daten lesbar für Menschen und zugleich maschinenlesbar abzulegen. Dies wird u.a. durch die Import-Export-Formate `xlsx`, `json`, `csv` gewährleistet. Durch die Qualifikation der Massendaten durch Metadaten und einer Beschreibung in Textform ist eine vollständige Beschreibung der Daten möglich. Die open-source Python-Bibliothek [`sdata`](https://github.com/lepy/sdata) erlaubt eine einfach Benutzung und Erweiterung des Datenformates."
   ]
  },
  {
   "cell_type": "code",
   "execution_count": 37,
   "metadata": {
    "slideshow": {
     "slide_type": "skip"
    }
   },
   "outputs": [
    {
     "data": {
      "text/plain": [
       "0"
      ]
     },
     "execution_count": 37,
     "metadata": {},
     "output_type": "execute_result"
    }
   ],
   "source": [
    "os.system(\"jupyter nbconvert --to slides Das_sdata_Format.ipynb\")"
   ]
  },
  {
   "cell_type": "code",
   "execution_count": null,
   "metadata": {
    "slideshow": {
     "slide_type": "skip"
    }
   },
   "outputs": [],
   "source": []
  }
 ],
 "metadata": {
  "celltoolbar": "Slideshow",
  "kernelspec": {
   "display_name": "sfem3",
   "language": "python",
   "name": "sfem3"
  },
  "language_info": {
   "codemirror_mode": {
    "name": "ipython",
    "version": 3
   },
   "file_extension": ".py",
   "mimetype": "text/x-python",
   "name": "python",
   "nbconvert_exporter": "python",
   "pygments_lexer": "ipython3",
   "version": "3.7.4"
  }
 },
 "nbformat": 4,
 "nbformat_minor": 2
}
