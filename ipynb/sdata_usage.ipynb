{
 "cells": [
  {
   "cell_type": "markdown",
   "metadata": {},
   "source": [
    "# sdata usage"
   ]
  },
  {
   "cell_type": "code",
   "execution_count": 1,
   "metadata": {},
   "outputs": [
    {
     "data": {
      "application/javascript": [
       "IPython.notebook.set_autosave_interval(0)"
      ]
     },
     "metadata": {},
     "output_type": "display_data"
    },
    {
     "name": "stdout",
     "output_type": "stream",
     "text": [
      "Autosave disabled\n"
     ]
    },
    {
     "name": "stderr",
     "output_type": "stream",
     "text": [
      "10:53:37 DEBUG:Loaded backend module://ipykernel.pylab.backend_inline version unknown.\n"
     ]
    }
   ],
   "source": [
    "%load_ext autoreload\n",
    "%autoreload 2\n",
    "%matplotlib inline\n",
    "%autosave 0\n",
    "    \n",
    "import logging\n",
    "logging.basicConfig(format='%(asctime)s %(levelname)s:%(message)s', level=logging.DEBUG, datefmt='%I:%M:%S')\n",
    "\n",
    "import os\n",
    "import sys\n",
    "import numpy as np\n",
    "import pandas as pd\n",
    "import sdata\n",
    "import uuid"
   ]
  },
  {
   "cell_type": "markdown",
   "metadata": {},
   "source": [
    "## create a Data object"
   ]
  },
  {
   "cell_type": "code",
   "execution_count": 2,
   "metadata": {},
   "outputs": [
    {
     "data": {
      "text/plain": [
       "(Data 'data':38b26864e7794f5182d38459bab85841)"
      ]
     },
     "execution_count": 2,
     "metadata": {},
     "output_type": "execute_result"
    }
   ],
   "source": [
    "data = sdata.Data(name=\"data\", uuid=\"38b26864e7794f5182d38459bab85841\")\n",
    "data.metadata.add(\"my_key\", 123, unit=\"m^3\", description=\"a volume\")\n",
    "data.metadata.add(\"force\", 1.234, unit=\"kN\", description=\"x force\")\n",
    "data"
   ]
  },
  {
   "cell_type": "code",
   "execution_count": 3,
   "metadata": {},
   "outputs": [
    {
     "data": {
      "text/html": [
       "<div>\n",
       "<style scoped>\n",
       "    .dataframe tbody tr th:only-of-type {\n",
       "        vertical-align: middle;\n",
       "    }\n",
       "\n",
       "    .dataframe tbody tr th {\n",
       "        vertical-align: top;\n",
       "    }\n",
       "\n",
       "    .dataframe thead th {\n",
       "        text-align: right;\n",
       "    }\n",
       "</style>\n",
       "<table border=\"1\" class=\"dataframe\">\n",
       "  <thead>\n",
       "    <tr style=\"text-align: right;\">\n",
       "      <th></th>\n",
       "      <th>name</th>\n",
       "      <th>value</th>\n",
       "      <th>dtype</th>\n",
       "      <th>unit</th>\n",
       "      <th>description</th>\n",
       "    </tr>\n",
       "    <tr>\n",
       "      <th>key</th>\n",
       "      <th></th>\n",
       "      <th></th>\n",
       "      <th></th>\n",
       "      <th></th>\n",
       "      <th></th>\n",
       "    </tr>\n",
       "  </thead>\n",
       "  <tbody>\n",
       "    <tr>\n",
       "      <th>my_key</th>\n",
       "      <td>my_key</td>\n",
       "      <td>123.000</td>\n",
       "      <td>int</td>\n",
       "      <td>m^3</td>\n",
       "      <td>a volume</td>\n",
       "    </tr>\n",
       "    <tr>\n",
       "      <th>force</th>\n",
       "      <td>force</td>\n",
       "      <td>1.234</td>\n",
       "      <td>float</td>\n",
       "      <td>kN</td>\n",
       "      <td>x force</td>\n",
       "    </tr>\n",
       "  </tbody>\n",
       "</table>\n",
       "</div>"
      ],
      "text/plain": [
       "          name    value  dtype unit description\n",
       "key                                            \n",
       "my_key  my_key  123.000    int  m^3    a volume\n",
       "force    force    1.234  float   kN     x force"
      ]
     },
     "execution_count": 3,
     "metadata": {},
     "output_type": "execute_result"
    }
   ],
   "source": [
    "data.metadata.df"
   ]
  },
  {
   "cell_type": "code",
   "execution_count": 4,
   "metadata": {},
   "outputs": [
    {
     "data": {
      "text/plain": [
       "'38b26864e7794f5182d38459bab85841'"
      ]
     },
     "execution_count": 4,
     "metadata": {},
     "output_type": "execute_result"
    }
   ],
   "source": [
    "data.uuid"
   ]
  },
  {
   "cell_type": "code",
   "execution_count": 5,
   "metadata": {},
   "outputs": [],
   "source": [
    "#help(data)"
   ]
  },
  {
   "cell_type": "markdown",
   "metadata": {},
   "source": [
    "## create a hierarchy of objects"
   ]
  },
  {
   "cell_type": "code",
   "execution_count": 6,
   "metadata": {},
   "outputs": [
    {
     "name": "stdout",
     "output_type": "stream",
     "text": [
      "(Data 'group1':dbc894745fb04f7e87a990bdd4ba97c4)\n"
     ]
    }
   ],
   "source": [
    "group1 = sdata.Data(name=\"group1\", uuid=\"dbc894745fb04f7e87a990bdd4ba97c4\")\n",
    "print(group1)"
   ]
  },
  {
   "cell_type": "code",
   "execution_count": 7,
   "metadata": {},
   "outputs": [
    {
     "name": "stdout",
     "output_type": "stream",
     "text": [
      "OrderedDict([('38b26864e7794f5182d38459bab8584f', (Data 'data1':38b26864e7794f5182d38459bab8584f)), ('b1fd2643af554b33b04422070a0dc7c7', (Data 'data2':b1fd2643af554b33b04422070a0dc7c7)), ('664577c2d3134b598bc4d6c13f20b71a', (Data 'data3':664577c2d3134b598bc4d6c13f20b71a))])\n"
     ]
    }
   ],
   "source": [
    "data1 = sdata.Data(name=\"data1\", uuid=\"38b26864e7794f5182d38459bab8584f\")\n",
    "data2 = sdata.Data(name=\"data2\", uuid=\"b1fd2643-af55-4b33-b044-22070a0dc7c7\")\n",
    "data3 = sdata.Data(name=\"data3\", uuid=uuid.UUID(\"664577c2d3134b598bc4d6c13f20b71a\"))\n",
    "\n",
    "group1.add_data(data1)\n",
    "group1.add_data(data2)\n",
    "group1.add_data(data3)\n",
    "print(group1.group)"
   ]
  },
  {
   "cell_type": "code",
   "execution_count": 8,
   "metadata": {},
   "outputs": [
    {
     "data": {
      "text/plain": [
       "['38b26864e7794f5182d38459bab8584f',\n",
       " 'b1fd2643af554b33b04422070a0dc7c7',\n",
       " '664577c2d3134b598bc4d6c13f20b71a']"
      ]
     },
     "execution_count": 8,
     "metadata": {},
     "output_type": "execute_result"
    }
   ],
   "source": [
    "group1.keys()"
   ]
  },
  {
   "cell_type": "code",
   "execution_count": 9,
   "metadata": {},
   "outputs": [
    {
     "data": {
      "text/plain": [
       "[(Data 'data1':38b26864e7794f5182d38459bab8584f),\n",
       " (Data 'data2':b1fd2643af554b33b04422070a0dc7c7),\n",
       " (Data 'data3':664577c2d3134b598bc4d6c13f20b71a)]"
      ]
     },
     "execution_count": 9,
     "metadata": {},
     "output_type": "execute_result"
    }
   ],
   "source": [
    "group1.values()"
   ]
  },
  {
   "cell_type": "markdown",
   "metadata": {},
   "source": [
    "## working with Data"
   ]
  },
  {
   "cell_type": "markdown",
   "metadata": {},
   "source": [
    "data1a = group1.get_data_by_uuid(uid=\"38b26864e7794f5182d38459bab8584f\")\n",
    "assert data1a.name == \"data1\"\n",
    "assert data1a.uuid == \"38b26864e7794f5182d38459bab8584f\"\n",
    "\n",
    "data3a = group1.get_data_by_uuid(uid=\"664577c2d3134b598bc4d6c13f20b71a\")\n",
    "assert data3a.name == \"data3\"\n",
    "assert data3a.uuid == \"664577c2d3134b598bc4d6c13f20b71a\""
   ]
  },
  {
   "cell_type": "code",
   "execution_count": 10,
   "metadata": {},
   "outputs": [
    {
     "data": {
      "text/plain": [
       "(Data 'data1':38b26864e7794f5182d38459bab8584f)"
      ]
     },
     "execution_count": 10,
     "metadata": {},
     "output_type": "execute_result"
    }
   ],
   "source": [
    "data1b = group1.get_data_by_name(\"data1\")\n",
    "assert data1b.name == \"data1\"\n",
    "assert data1b.uuid == \"38b26864e7794f5182d38459bab8584f\"\n",
    "data1b"
   ]
  },
  {
   "cell_type": "markdown",
   "metadata": {},
   "source": [
    "## Data IO"
   ]
  },
  {
   "cell_type": "markdown",
   "metadata": {},
   "source": [
    "### Folder IO"
   ]
  },
  {
   "cell_type": "code",
   "execution_count": 11,
   "metadata": {},
   "outputs": [
    {
     "name": "stderr",
     "output_type": "stream",
     "text": [
      "10:53:37 DEBUG:clear_folder: rm /tmp/b/data-data1\n",
      "10:53:37 DEBUG:clear_folder: rm /tmp/b/data-data2\n",
      "10:53:37 DEBUG:clear_folder: rm /tmp/b/data-data3\n"
     ]
    },
    {
     "data": {
      "text/plain": [
       "'/tmp/b/'"
      ]
     },
     "execution_count": 11,
     "metadata": {},
     "output_type": "execute_result"
    }
   ],
   "source": [
    "group1.to_folder(path=\"/tmp/b/\", dtype=\"xlsx\")"
   ]
  },
  {
   "cell_type": "code",
   "execution_count": 12,
   "metadata": {},
   "outputs": [
    {
     "name": "stdout",
     "output_type": "stream",
     "text": [
      " └─b\n",
      "   ├─data-data1\n",
      "   | └─data1.xlsx\n",
      "   ├─data-data2\n",
      "   | └─data2.xlsx\n",
      "   ├─data-data3\n",
      "   | └─data3.xlsx\n",
      "   └─group1.xlsx\n"
     ]
    }
   ],
   "source": [
    "group1.tree_folder(\"/tmp/b\")"
   ]
  },
  {
   "cell_type": "code",
   "execution_count": 13,
   "metadata": {},
   "outputs": [
    {
     "name": "stderr",
     "output_type": "stream",
     "text": [
      "10:53:37 DEBUG:clear_folder: rm /tmp/a/data-data1\n",
      "10:53:37 DEBUG:clear_folder: rm /tmp/a/data-data2\n",
      "10:53:37 DEBUG:clear_folder: rm /tmp/a/data-data3\n",
      "10:53:37 DEBUG:export meta csv '/tmp/a/metadata.csv'\n",
      "10:53:37 DEBUG:export meta csv '/tmp/a/data-data1/metadata.csv'\n",
      "10:53:37 DEBUG:export meta csv '/tmp/a/data-data2/metadata.csv'\n",
      "10:53:37 DEBUG:export meta csv '/tmp/a/data-data3/metadata.csv'\n"
     ]
    },
    {
     "data": {
      "text/plain": [
       "'/tmp/a/'"
      ]
     },
     "execution_count": 13,
     "metadata": {},
     "output_type": "execute_result"
    }
   ],
   "source": [
    "group1.to_folder(path=\"/tmp/a/\", dtype=\"csv\")"
   ]
  },
  {
   "cell_type": "code",
   "execution_count": 14,
   "metadata": {},
   "outputs": [
    {
     "name": "stdout",
     "output_type": "stream",
     "text": [
      " └─a\n",
      "   ├─data-data1\n",
      "   | └─metadata.csv\n",
      "   ├─data-data2\n",
      "   | └─metadata.csv\n",
      "   ├─data-data3\n",
      "   | └─metadata.csv\n",
      "   ├─data.xlsx\n",
      "   ├─metadata.csv\n",
      "   └─~$data.xlsx\n"
     ]
    }
   ],
   "source": [
    "group1.tree_folder(\"/tmp/a\")"
   ]
  },
  {
   "cell_type": "code",
   "execution_count": 15,
   "metadata": {},
   "outputs": [
    {
     "name": "stdout",
     "output_type": "stream",
     "text": [
      "[('data1', []), ('data2', []), ('data3', [])]\n"
     ]
    },
    {
     "data": {
      "text/plain": [
       "(Data 'group1':dbc894745fb04f7e87a990bdd4ba97c4)"
      ]
     },
     "execution_count": 15,
     "metadata": {},
     "output_type": "execute_result"
    }
   ],
   "source": [
    "group1_folder = sdata.Data.from_folder(path=\"/tmp/a\")\n",
    "assert (group1.name==group1_folder.name)\n",
    "assert (group1.uuid==group1_folder.uuid)\n",
    "print(group1_folder.dir())\n",
    "group1_folder"
   ]
  },
  {
   "cell_type": "markdown",
   "metadata": {},
   "source": [
    "### Excel IO (wip)"
   ]
  },
  {
   "cell_type": "code",
   "execution_count": 16,
   "metadata": {},
   "outputs": [
    {
     "name": "stderr",
     "output_type": "stream",
     "text": [
      "10:53:37 INFO:no table data in '/tmp/data1.xlsx'\n"
     ]
    },
    {
     "name": "stdout",
     "output_type": "stream",
     "text": [
      "data /tmp/data1.xlsx\n",
      "38b26864e7794f5182d38459bab85841 082f01dba3044de887378ac5038e42ef\n"
     ]
    },
    {
     "data": {
      "text/plain": [
       "(Data '/tmp/data1.xlsx':082f01dba3044de887378ac5038e42ef)"
      ]
     },
     "execution_count": 16,
     "metadata": {},
     "output_type": "execute_result"
    }
   ],
   "source": [
    "data.to_xlsx(filepath=\"/tmp/data1.xlsx\")\n",
    "data_xlsx = sdata.Data.from_xlsx(filepath=\"/tmp/data1.xlsx\")\n",
    "print(data.name, data_xlsx.name)\n",
    "print(data.uuid, data_xlsx.uuid)\n",
    "#assert data.name==data_xlsx.name\n",
    "data_xlsx"
   ]
  },
  {
   "cell_type": "markdown",
   "metadata": {},
   "source": [
    "## inspect Data"
   ]
  },
  {
   "cell_type": "code",
   "execution_count": 17,
   "metadata": {},
   "outputs": [
    {
     "data": {
      "text/plain": [
       "[('data1', []), ('data2', []), ('data3', [])]"
      ]
     },
     "execution_count": 17,
     "metadata": {},
     "output_type": "execute_result"
    }
   ],
   "source": [
    "group1.dir()"
   ]
  },
  {
   "cell_type": "code",
   "execution_count": 18,
   "metadata": {},
   "outputs": [
    {
     "data": {
      "text/plain": [
       "['ATTR_NAMES',\n",
       " 'add_data',\n",
       " 'clear_folder',\n",
       " 'clear_group',\n",
       " 'dir',\n",
       " 'filename',\n",
       " 'from_folder',\n",
       " 'from_xlsx',\n",
       " 'get_data_by_name',\n",
       " 'get_data_by_uuid',\n",
       " 'get_group',\n",
       " 'group',\n",
       " 'items',\n",
       " 'keys',\n",
       " 'metadata',\n",
       " 'name',\n",
       " 'osname',\n",
       " 'prefix',\n",
       " 'table',\n",
       " 'to_folder',\n",
       " 'to_xlsx',\n",
       " 'tree_folder',\n",
       " 'uuid',\n",
       " 'values',\n",
       " 'verify_attributes']"
      ]
     },
     "execution_count": 18,
     "metadata": {},
     "output_type": "execute_result"
    }
   ],
   "source": [
    "[x for x in dir(data) if not x.startswith(\"_\")]"
   ]
  }
 ],
 "metadata": {
  "kernelspec": {
   "display_name": "sfem3",
   "language": "python",
   "name": "sfem3"
  },
  "language_info": {
   "codemirror_mode": {
    "name": "ipython",
    "version": 3
   },
   "file_extension": ".py",
   "mimetype": "text/x-python",
   "name": "python",
   "nbconvert_exporter": "python",
   "pygments_lexer": "ipython3",
   "version": "3.7.4"
  }
 },
 "nbformat": 4,
 "nbformat_minor": 2
}
