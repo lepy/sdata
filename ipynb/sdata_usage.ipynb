{
 "cells": [
  {
   "cell_type": "markdown",
   "metadata": {},
   "source": [
    "# sdata usage"
   ]
  },
  {
   "cell_type": "code",
   "execution_count": 1,
   "metadata": {},
   "outputs": [
    {
     "data": {
      "application/javascript": [
       "IPython.notebook.set_autosave_interval(0)"
      ]
     },
     "metadata": {},
     "output_type": "display_data"
    },
    {
     "name": "stdout",
     "output_type": "stream",
     "text": [
      "Autosave disabled\n",
      "sdata v0.10.1\n"
     ]
    }
   ],
   "source": [
    "%load_ext autoreload\n",
    "%autoreload 2\n",
    "%matplotlib inline\n",
    "%autosave 0\n",
    "    \n",
    "import logging\n",
    "logging.basicConfig(format='%(asctime)s %(levelname)s:%(message)s', level=logging.WARNING, datefmt='%I:%M:%S')\n",
    "\n",
    "import os\n",
    "import sys\n",
    "import numpy as np\n",
    "import pandas as pd\n",
    "import sdata\n",
    "import uuid\n",
    "print(\"sdata v{}\".format(sdata.__version__))"
   ]
  },
  {
   "cell_type": "markdown",
   "metadata": {},
   "source": [
    "## create a Data object"
   ]
  },
  {
   "cell_type": "code",
   "execution_count": 2,
   "metadata": {},
   "outputs": [
    {
     "data": {
      "text/plain": [
       "(Data 'data':38b26864e7794f5182d38459bab85841)"
      ]
     },
     "execution_count": 2,
     "metadata": {},
     "output_type": "execute_result"
    }
   ],
   "source": [
    "data = sdata.Data(name=\"data\", uuid=\"38b26864e7794f5182d38459bab85841\")\n",
    "data.metadata.add(\"my_key\", 123, unit=\"m^3\", description=\"a volume\", label=\"V\")\n",
    "data.metadata.add(\"force\", 1.234, unit=\"kN\", description=\"x force\", label=\"F_x\")\n",
    "data"
   ]
  },
  {
   "cell_type": "code",
   "execution_count": 3,
   "metadata": {},
   "outputs": [
    {
     "data": {
      "text/html": [
       "<div>\n",
       "<style scoped>\n",
       "    .dataframe tbody tr th:only-of-type {\n",
       "        vertical-align: middle;\n",
       "    }\n",
       "\n",
       "    .dataframe tbody tr th {\n",
       "        vertical-align: top;\n",
       "    }\n",
       "\n",
       "    .dataframe thead th {\n",
       "        text-align: right;\n",
       "    }\n",
       "</style>\n",
       "<table border=\"1\" class=\"dataframe\">\n",
       "  <thead>\n",
       "    <tr style=\"text-align: right;\">\n",
       "      <th></th>\n",
       "      <th>name</th>\n",
       "      <th>value</th>\n",
       "      <th>dtype</th>\n",
       "      <th>unit</th>\n",
       "      <th>description</th>\n",
       "      <th>label</th>\n",
       "    </tr>\n",
       "    <tr>\n",
       "      <th>key</th>\n",
       "      <th></th>\n",
       "      <th></th>\n",
       "      <th></th>\n",
       "      <th></th>\n",
       "      <th></th>\n",
       "      <th></th>\n",
       "    </tr>\n",
       "  </thead>\n",
       "  <tbody>\n",
       "    <tr>\n",
       "      <th>sdata_version</th>\n",
       "      <td>sdata_version</td>\n",
       "      <td>0.10.1</td>\n",
       "      <td>str</td>\n",
       "      <td>-</td>\n",
       "      <td></td>\n",
       "      <td></td>\n",
       "    </tr>\n",
       "    <tr>\n",
       "      <th>name</th>\n",
       "      <td>name</td>\n",
       "      <td>data</td>\n",
       "      <td>str</td>\n",
       "      <td>-</td>\n",
       "      <td></td>\n",
       "      <td></td>\n",
       "    </tr>\n",
       "    <tr>\n",
       "      <th>uuid</th>\n",
       "      <td>uuid</td>\n",
       "      <td>38b26864e7794f5182d38459bab85841</td>\n",
       "      <td>str</td>\n",
       "      <td>-</td>\n",
       "      <td></td>\n",
       "      <td></td>\n",
       "    </tr>\n",
       "    <tr>\n",
       "      <th>my_key</th>\n",
       "      <td>my_key</td>\n",
       "      <td>123</td>\n",
       "      <td>int</td>\n",
       "      <td>m^3</td>\n",
       "      <td>a volume</td>\n",
       "      <td>V</td>\n",
       "    </tr>\n",
       "    <tr>\n",
       "      <th>force</th>\n",
       "      <td>force</td>\n",
       "      <td>1.234</td>\n",
       "      <td>float</td>\n",
       "      <td>kN</td>\n",
       "      <td>x force</td>\n",
       "      <td>F_x</td>\n",
       "    </tr>\n",
       "  </tbody>\n",
       "</table>\n",
       "</div>"
      ],
      "text/plain": [
       "                        name                             value  dtype unit  \\\n",
       "key                                                                          \n",
       "sdata_version  sdata_version                            0.10.1    str    -   \n",
       "name                    name                              data    str    -   \n",
       "uuid                    uuid  38b26864e7794f5182d38459bab85841    str    -   \n",
       "my_key                my_key                               123    int  m^3   \n",
       "force                  force                             1.234  float   kN   \n",
       "\n",
       "              description label  \n",
       "key                              \n",
       "sdata_version                    \n",
       "name                             \n",
       "uuid                             \n",
       "my_key           a volume     V  \n",
       "force             x force   F_x  "
      ]
     },
     "execution_count": 3,
     "metadata": {},
     "output_type": "execute_result"
    }
   ],
   "source": [
    "data.metadata.df"
   ]
  },
  {
   "cell_type": "code",
   "execution_count": 4,
   "metadata": {},
   "outputs": [
    {
     "data": {
      "text/plain": [
       "'38b26864e7794f5182d38459bab85841'"
      ]
     },
     "execution_count": 4,
     "metadata": {},
     "output_type": "execute_result"
    }
   ],
   "source": [
    "data.uuid"
   ]
  },
  {
   "cell_type": "code",
   "execution_count": 5,
   "metadata": {},
   "outputs": [],
   "source": [
    "#help(data)"
   ]
  },
  {
   "cell_type": "markdown",
   "metadata": {},
   "source": [
    "## create a hierarchy of objects"
   ]
  },
  {
   "cell_type": "code",
   "execution_count": 6,
   "metadata": {},
   "outputs": [
    {
     "name": "stdout",
     "output_type": "stream",
     "text": [
      "(Data 'group1':dbc894745fb04f7e87a990bdd4ba97c4)\n"
     ]
    }
   ],
   "source": [
    "group1 = sdata.Data(name=\"group1\", uuid=\"dbc894745fb04f7e87a990bdd4ba97c4\")\n",
    "print(group1)"
   ]
  },
  {
   "cell_type": "code",
   "execution_count": 7,
   "metadata": {},
   "outputs": [
    {
     "name": "stdout",
     "output_type": "stream",
     "text": [
      "OrderedDict([('38b26864e7794f5182d38459bab8584f', (Data 'data1':38b26864e7794f5182d38459bab8584f)), ('b1fd2643-af55-4b33-b044-22070a0dc7c7', (Data 'data2':b1fd2643-af55-4b33-b044-22070a0dc7c7)), ('664577c2d3134b598bc4d6c13f20b71a', (Data 'data3':664577c2d3134b598bc4d6c13f20b71a))])\n"
     ]
    }
   ],
   "source": [
    "data1 = sdata.Data(name=\"data1\", uuid=\"38b26864e7794f5182d38459bab8584f\")\n",
    "data2 = sdata.Data(name=\"data2\", uuid=\"b1fd2643-af55-4b33-b044-22070a0dc7c7\")\n",
    "data3 = sdata.Data(name=\"data3\", uuid=uuid.UUID(\"664577c2d3134b598bc4d6c13f20b71a\"))\n",
    "\n",
    "group1.add_data(data1)\n",
    "group1.add_data(data2)\n",
    "group1.add_data(data3)\n",
    "print(group1.group)"
   ]
  },
  {
   "cell_type": "code",
   "execution_count": 8,
   "metadata": {},
   "outputs": [
    {
     "data": {
      "text/plain": [
       "['38b26864e7794f5182d38459bab8584f',\n",
       " 'b1fd2643-af55-4b33-b044-22070a0dc7c7',\n",
       " '664577c2d3134b598bc4d6c13f20b71a']"
      ]
     },
     "execution_count": 8,
     "metadata": {},
     "output_type": "execute_result"
    }
   ],
   "source": [
    "group1.keys()"
   ]
  },
  {
   "cell_type": "code",
   "execution_count": 9,
   "metadata": {},
   "outputs": [
    {
     "data": {
      "text/plain": [
       "[(Data 'data1':38b26864e7794f5182d38459bab8584f),\n",
       " (Data 'data2':b1fd2643-af55-4b33-b044-22070a0dc7c7),\n",
       " (Data 'data3':664577c2d3134b598bc4d6c13f20b71a)]"
      ]
     },
     "execution_count": 9,
     "metadata": {},
     "output_type": "execute_result"
    }
   ],
   "source": [
    "group1.values()"
   ]
  },
  {
   "cell_type": "markdown",
   "metadata": {},
   "source": [
    "## working with Data"
   ]
  },
  {
   "cell_type": "markdown",
   "metadata": {},
   "source": [
    "data1a = group1.get_data_by_uuid(uid=\"38b26864e7794f5182d38459bab8584f\")\n",
    "assert data1a.name == \"data1\"\n",
    "assert data1a.uuid == \"38b26864e7794f5182d38459bab8584f\"\n",
    "\n",
    "data3a = group1.get_data_by_uuid(uid=\"664577c2d3134b598bc4d6c13f20b71a\")\n",
    "assert data3a.name == \"data3\"\n",
    "assert data3a.uuid == \"664577c2d3134b598bc4d6c13f20b71a\""
   ]
  },
  {
   "cell_type": "code",
   "execution_count": 10,
   "metadata": {},
   "outputs": [
    {
     "data": {
      "text/plain": [
       "(Data 'data1':38b26864e7794f5182d38459bab8584f)"
      ]
     },
     "execution_count": 10,
     "metadata": {},
     "output_type": "execute_result"
    }
   ],
   "source": [
    "data1b = group1.get_data_by_name(\"data1\")\n",
    "assert data1b.name == \"data1\"\n",
    "assert data1b.uuid == \"38b26864e7794f5182d38459bab8584f\"\n",
    "data1b"
   ]
  },
  {
   "cell_type": "markdown",
   "metadata": {},
   "source": [
    "## Data IO"
   ]
  },
  {
   "cell_type": "markdown",
   "metadata": {},
   "source": [
    "### Folder IO"
   ]
  },
  {
   "cell_type": "code",
   "execution_count": 11,
   "metadata": {},
   "outputs": [
    {
     "data": {
      "text/plain": [
       "'/tmp/b/'"
      ]
     },
     "execution_count": 11,
     "metadata": {},
     "output_type": "execute_result"
    }
   ],
   "source": [
    "group1.to_folder(path=\"/tmp/b/\", dtype=\"xlsx\")"
   ]
  },
  {
   "cell_type": "code",
   "execution_count": 12,
   "metadata": {},
   "outputs": [
    {
     "name": "stdout",
     "output_type": "stream",
     "text": [
      " └─b\n",
      "   ├─data-data1\n",
      "   | └─data1.xlsx\n",
      "   ├─data-data2\n",
      "   | └─data2.xlsx\n",
      "   ├─data-data3\n",
      "   | └─data3.xlsx\n",
      "   └─group1.xlsx\n"
     ]
    }
   ],
   "source": [
    "group1.tree_folder(\"/tmp/b\")"
   ]
  },
  {
   "cell_type": "code",
   "execution_count": 13,
   "metadata": {},
   "outputs": [
    {
     "data": {
      "text/plain": [
       "'/tmp/a/'"
      ]
     },
     "execution_count": 13,
     "metadata": {},
     "output_type": "execute_result"
    }
   ],
   "source": [
    "group1.to_folder(path=\"/tmp/a/\", dtype=\"csv\")"
   ]
  },
  {
   "cell_type": "code",
   "execution_count": 14,
   "metadata": {},
   "outputs": [
    {
     "name": "stdout",
     "output_type": "stream",
     "text": [
      " └─a\n",
      "   ├─data-data1\n",
      "   | └─metadata.csv\n",
      "   ├─data-data2\n",
      "   | └─metadata.csv\n",
      "   ├─data-data3\n",
      "   | └─metadata.csv\n",
      "   ├─data.xlsx\n",
      "   └─metadata.csv\n"
     ]
    }
   ],
   "source": [
    "group1.tree_folder(\"/tmp/a\")"
   ]
  },
  {
   "cell_type": "code",
   "execution_count": 15,
   "metadata": {},
   "outputs": [
    {
     "name": "stdout",
     "output_type": "stream",
     "text": [
      "read table /tmp/a/data.xlsx\n",
      "! (Data 'group1':dbc894745fb04f7e87a990bdd4ba97c4)\n",
      "[('data1', []), ('data2', []), ('data3', [])]\n"
     ]
    },
    {
     "data": {
      "text/plain": [
       "(Data 'group1':dbc894745fb04f7e87a990bdd4ba97c4)"
      ]
     },
     "execution_count": 15,
     "metadata": {},
     "output_type": "execute_result"
    }
   ],
   "source": [
    "group1_folder = sdata.Data.from_folder(path=\"/tmp/a\")\n",
    "print(\"!\", group1_folder)\n",
    "assert (group1.name==group1_folder.name)\n",
    "assert (group1.uuid==group1_folder.uuid)\n",
    "print(group1_folder.dir())\n",
    "group1_folder"
   ]
  },
  {
   "cell_type": "markdown",
   "metadata": {},
   "source": [
    "### Excel IO (wip)"
   ]
  },
  {
   "cell_type": "code",
   "execution_count": 16,
   "metadata": {},
   "outputs": [
    {
     "name": "stdout",
     "output_type": "stream",
     "text": [
      "data data\n",
      "38b26864e7794f5182d38459bab85841 38b26864e7794f5182d38459bab85841\n"
     ]
    },
    {
     "data": {
      "text/plain": [
       "(Data 'data':38b26864e7794f5182d38459bab85841)"
      ]
     },
     "execution_count": 16,
     "metadata": {},
     "output_type": "execute_result"
    }
   ],
   "source": [
    "data.to_xlsx(filepath=\"/tmp/data1.xlsx\")\n",
    "data_xlsx = sdata.Data.from_xlsx(filepath=\"/tmp/data1.xlsx\")\n",
    "print(data.name, data_xlsx.name)\n",
    "print(data.uuid, data_xlsx.uuid)\n",
    "#assert data.name==data_xlsx.name\n",
    "data_xlsx"
   ]
  },
  {
   "cell_type": "markdown",
   "metadata": {},
   "source": [
    "## inspect Data"
   ]
  },
  {
   "cell_type": "code",
   "execution_count": 17,
   "metadata": {},
   "outputs": [
    {
     "data": {
      "text/plain": [
       "[('data1', []), ('data2', []), ('data3', [])]"
      ]
     },
     "execution_count": 17,
     "metadata": {},
     "output_type": "execute_result"
    }
   ],
   "source": [
    "group1.dir()"
   ]
  },
  {
   "cell_type": "code",
   "execution_count": 18,
   "metadata": {},
   "outputs": [
    {
     "data": {
      "text/plain": [
       "['ATTR_NAMES',\n",
       " 'add_data',\n",
       " 'clear_folder',\n",
       " 'clear_group',\n",
       " 'copy',\n",
       " 'describe',\n",
       " 'description',\n",
       " 'df',\n",
       " 'dir',\n",
       " 'filename',\n",
       " 'from_csv',\n",
       " 'from_folder',\n",
       " 'from_json',\n",
       " 'from_url',\n",
       " 'from_xlsx',\n",
       " 'gen_uuid',\n",
       " 'get_data_by_name',\n",
       " 'get_data_by_uuid',\n",
       " 'get_download_link',\n",
       " 'get_group',\n",
       " 'group',\n",
       " 'items',\n",
       " 'keys',\n",
       " 'metadata',\n",
       " 'name',\n",
       " 'osname',\n",
       " 'prefix',\n",
       " 'refactor',\n",
       " 'sha3_256',\n",
       " 'table',\n",
       " 'to_csv',\n",
       " 'to_folder',\n",
       " 'to_json',\n",
       " 'to_xlsx',\n",
       " 'to_xlsx_base64',\n",
       " 'to_xlsx_byteio',\n",
       " 'tree_folder',\n",
       " 'update_hash',\n",
       " 'uuid',\n",
       " 'values',\n",
       " 'verify_attributes']"
      ]
     },
     "execution_count": 18,
     "metadata": {},
     "output_type": "execute_result"
    }
   ],
   "source": [
    "[x for x in dir(data) if not x.startswith(\"_\")]"
   ]
  },
  {
   "cell_type": "markdown",
   "metadata": {},
   "source": [
    "### Data with comments"
   ]
  },
  {
   "cell_type": "code",
   "execution_count": 19,
   "metadata": {},
   "outputs": [
    {
     "data": {
      "text/plain": [
       "(Data 'data':38b26864e7794f5182d38459bab85842)"
      ]
     },
     "execution_count": 19,
     "metadata": {},
     "output_type": "execute_result"
    }
   ],
   "source": [
    "datac = sdata.Data(name=\"data\", uuid=\"38b26864e7794f5182d38459bab85842\", description=\"this is remarkable\")\n",
    "datac"
   ]
  },
  {
   "cell_type": "code",
   "execution_count": 20,
   "metadata": {},
   "outputs": [],
   "source": [
    "datac.description += \"\"\"\\n\\nhere is your comment\\nwhat's next?\"\"\""
   ]
  },
  {
   "cell_type": "code",
   "execution_count": 21,
   "metadata": {},
   "outputs": [
    {
     "name": "stdout",
     "output_type": "stream",
     "text": [
      "this is remarkable\n",
      "\n",
      "here is your comment\n",
      "what's next?\n"
     ]
    }
   ],
   "source": [
    "print(datac.description)"
   ]
  },
  {
   "cell_type": "code",
   "execution_count": 22,
   "metadata": {},
   "outputs": [],
   "source": [
    "datac.to_xlsx(\"/tmp/data_with_description.xlsx\")"
   ]
  },
  {
   "cell_type": "code",
   "execution_count": 23,
   "metadata": {},
   "outputs": [
    {
     "name": "stdout",
     "output_type": "stream",
     "text": [
      "this is remarkable\n",
      "\n",
      "here is your comment\n",
      "what's next?\n"
     ]
    }
   ],
   "source": [
    "datac2 = sdata.Data.from_xlsx(\"/tmp/data_with_description.xlsx\")\n",
    "print(datac2.description)"
   ]
  },
  {
   "cell_type": "markdown",
   "metadata": {},
   "source": [
    "## make a copy"
   ]
  },
  {
   "cell_type": "code",
   "execution_count": 24,
   "metadata": {},
   "outputs": [
    {
     "name": "stdout",
     "output_type": "stream",
     "text": [
      "data  38b26864e7794f5182d38459bab85842\n",
      "datac e3d5bfe976184460a58d6223efa5df22\n",
      "datac.metadata['sdata_uuid_ref'] 38b26864e7794f5182d38459bab85842\n"
     ]
    }
   ],
   "source": [
    "data = sdata.Data(name=\"data\", uuid=\"38b26864e7794f5182d38459bab85842\", description=\"this is remarkable\")\n",
    "datac = data.copy()\n",
    "print(\"data  {0.uuid}\".format(data))\n",
    "print(\"datac {0.uuid}\".format(datac))\n",
    "print(\"datac.metadata['sdata_uuid_ref'] {0.value}\".format(datac.metadata[\"sdata_uuid_ref\"]))\n"
   ]
  },
  {
   "cell_type": "markdown",
   "metadata": {},
   "source": [
    "## data from url"
   ]
  },
  {
   "cell_type": "code",
   "execution_count": 26,
   "metadata": {},
   "outputs": [
    {
     "data": {
      "text/html": [
       "<div>\n",
       "<style scoped>\n",
       "    .dataframe tbody tr th:only-of-type {\n",
       "        vertical-align: middle;\n",
       "    }\n",
       "\n",
       "    .dataframe tbody tr th {\n",
       "        vertical-align: top;\n",
       "    }\n",
       "\n",
       "    .dataframe thead th {\n",
       "        text-align: right;\n",
       "    }\n",
       "</style>\n",
       "<table border=\"1\" class=\"dataframe\">\n",
       "  <thead>\n",
       "    <tr style=\"text-align: right;\">\n",
       "      <th></th>\n",
       "      <th>name</th>\n",
       "      <th>value</th>\n",
       "      <th>dtype</th>\n",
       "      <th>unit</th>\n",
       "      <th>description</th>\n",
       "      <th>label</th>\n",
       "    </tr>\n",
       "    <tr>\n",
       "      <th>key</th>\n",
       "      <th></th>\n",
       "      <th></th>\n",
       "      <th></th>\n",
       "      <th></th>\n",
       "      <th></th>\n",
       "      <th></th>\n",
       "    </tr>\n",
       "  </thead>\n",
       "  <tbody>\n",
       "    <tr>\n",
       "      <th>sdata_version</th>\n",
       "      <td>sdata_version</td>\n",
       "      <td>0.9.2</td>\n",
       "      <td>str</td>\n",
       "      <td></td>\n",
       "      <td></td>\n",
       "      <td></td>\n",
       "    </tr>\n",
       "    <tr>\n",
       "      <th>name</th>\n",
       "      <td>name</td>\n",
       "      <td>MedMnSteel_0.01mps_1_RD</td>\n",
       "      <td>str</td>\n",
       "      <td>-</td>\n",
       "      <td></td>\n",
       "      <td>0.01mps(1)-RD</td>\n",
       "    </tr>\n",
       "    <tr>\n",
       "      <th>uuid</th>\n",
       "      <td>uuid</td>\n",
       "      <td>7256421e5abf3660aaf4a48016d12d3f</td>\n",
       "      <td>str</td>\n",
       "      <td>-</td>\n",
       "      <td></td>\n",
       "      <td></td>\n",
       "    </tr>\n",
       "    <tr>\n",
       "      <th>Test Name</th>\n",
       "      <td>Test Name</td>\n",
       "      <td>0.01mps(1)</td>\n",
       "      <td>str</td>\n",
       "      <td></td>\n",
       "      <td></td>\n",
       "      <td></td>\n",
       "    </tr>\n",
       "    <tr>\n",
       "      <th>Material</th>\n",
       "      <td>Material</td>\n",
       "      <td>Med Mn Steel</td>\n",
       "      <td>str</td>\n",
       "      <td></td>\n",
       "      <td></td>\n",
       "      <td></td>\n",
       "    </tr>\n",
       "    <tr>\n",
       "      <th>Thickness</th>\n",
       "      <td>Thickness</td>\n",
       "      <td>1.28</td>\n",
       "      <td>float</td>\n",
       "      <td>mm</td>\n",
       "      <td></td>\n",
       "      <td></td>\n",
       "    </tr>\n",
       "    <tr>\n",
       "      <th>Width</th>\n",
       "      <td>Width</td>\n",
       "      <td>7.44</td>\n",
       "      <td>float</td>\n",
       "      <td>mm</td>\n",
       "      <td></td>\n",
       "      <td></td>\n",
       "    </tr>\n",
       "    <tr>\n",
       "      <th>Gauge Length</th>\n",
       "      <td>Gauge Length</td>\n",
       "      <td>20</td>\n",
       "      <td>float</td>\n",
       "      <td>mm</td>\n",
       "      <td></td>\n",
       "      <td></td>\n",
       "    </tr>\n",
       "    <tr>\n",
       "      <th>Target Strain Rate</th>\n",
       "      <td>Target Strain Rate</td>\n",
       "      <td>0.5</td>\n",
       "      <td>float</td>\n",
       "      <td>1/s</td>\n",
       "      <td></td>\n",
       "      <td></td>\n",
       "    </tr>\n",
       "    <tr>\n",
       "      <th>Orientation</th>\n",
       "      <td>Orientation</td>\n",
       "      <td>RD</td>\n",
       "      <td>str</td>\n",
       "      <td></td>\n",
       "      <td></td>\n",
       "      <td></td>\n",
       "    </tr>\n",
       "    <tr>\n",
       "      <th>time</th>\n",
       "      <td>time</td>\n",
       "      <td>NaN</td>\n",
       "      <td>float</td>\n",
       "      <td>s</td>\n",
       "      <td>Time</td>\n",
       "      <td>$t$</td>\n",
       "    </tr>\n",
       "    <tr>\n",
       "      <th>displacement</th>\n",
       "      <td>displacement</td>\n",
       "      <td>NaN</td>\n",
       "      <td>float</td>\n",
       "      <td>mm</td>\n",
       "      <td>Extension</td>\n",
       "      <td>$u$</td>\n",
       "    </tr>\n",
       "    <tr>\n",
       "      <th>force</th>\n",
       "      <td>force</td>\n",
       "      <td>NaN</td>\n",
       "      <td>float</td>\n",
       "      <td>kN</td>\n",
       "      <td>Load</td>\n",
       "      <td>$F$</td>\n",
       "    </tr>\n",
       "    <tr>\n",
       "      <th>eps_tech</th>\n",
       "      <td>eps_tech</td>\n",
       "      <td>NaN</td>\n",
       "      <td>float</td>\n",
       "      <td>-</td>\n",
       "      <td>Engineering Strain</td>\n",
       "      <td>$\\varepsilon_{tech}$</td>\n",
       "    </tr>\n",
       "    <tr>\n",
       "      <th>sig_tech</th>\n",
       "      <td>sig_tech</td>\n",
       "      <td>NaN</td>\n",
       "      <td>float</td>\n",
       "      <td>MPa</td>\n",
       "      <td>Engineering Stress</td>\n",
       "      <td>$\\sigma_{tech}$</td>\n",
       "    </tr>\n",
       "    <tr>\n",
       "      <th>eps_true</th>\n",
       "      <td>eps_true</td>\n",
       "      <td>NaN</td>\n",
       "      <td>float</td>\n",
       "      <td>-</td>\n",
       "      <td>True Strain</td>\n",
       "      <td>$\\sigma_{true}$</td>\n",
       "    </tr>\n",
       "    <tr>\n",
       "      <th>sig_true</th>\n",
       "      <td>sig_true</td>\n",
       "      <td>NaN</td>\n",
       "      <td>float</td>\n",
       "      <td>MPa</td>\n",
       "      <td>True Stress</td>\n",
       "      <td>$\\varepsilon_{true}$</td>\n",
       "    </tr>\n",
       "    <tr>\n",
       "      <th>License</th>\n",
       "      <td>License</td>\n",
       "      <td>Creative Commons Lizenz</td>\n",
       "      <td>str</td>\n",
       "      <td>-</td>\n",
       "      <td></td>\n",
       "      <td></td>\n",
       "    </tr>\n",
       "    <tr>\n",
       "      <th>Source</th>\n",
       "      <td>Source</td>\n",
       "      <td>https://materialsdata.nist.gov/handle/11256/823</td>\n",
       "      <td>str</td>\n",
       "      <td>-</td>\n",
       "      <td></td>\n",
       "      <td></td>\n",
       "    </tr>\n",
       "    <tr>\n",
       "      <th>sdata_date</th>\n",
       "      <td>sdata_date</td>\n",
       "      <td>2020-12-10T00:00:00+00:00</td>\n",
       "      <td>str</td>\n",
       "      <td>-</td>\n",
       "      <td></td>\n",
       "      <td></td>\n",
       "    </tr>\n",
       "  </tbody>\n",
       "</table>\n",
       "</div>"
      ],
      "text/plain": [
       "                                  name  \\\n",
       "key                                      \n",
       "sdata_version            sdata_version   \n",
       "name                              name   \n",
       "uuid                              uuid   \n",
       "Test Name                    Test Name   \n",
       "Material                      Material   \n",
       "Thickness                    Thickness   \n",
       "Width                            Width   \n",
       "Gauge Length              Gauge Length   \n",
       "Target Strain Rate  Target Strain Rate   \n",
       "Orientation                Orientation   \n",
       "time                              time   \n",
       "displacement              displacement   \n",
       "force                            force   \n",
       "eps_tech                      eps_tech   \n",
       "sig_tech                      sig_tech   \n",
       "eps_true                      eps_true   \n",
       "sig_true                      sig_true   \n",
       "License                        License   \n",
       "Source                          Source   \n",
       "sdata_date                  sdata_date   \n",
       "\n",
       "                                                              value  dtype  \\\n",
       "key                                                                          \n",
       "sdata_version                                                 0.9.2    str   \n",
       "name                                        MedMnSteel_0.01mps_1_RD    str   \n",
       "uuid                               7256421e5abf3660aaf4a48016d12d3f    str   \n",
       "Test Name                                                0.01mps(1)    str   \n",
       "Material                                               Med Mn Steel    str   \n",
       "Thickness                                                      1.28  float   \n",
       "Width                                                          7.44  float   \n",
       "Gauge Length                                                     20  float   \n",
       "Target Strain Rate                                              0.5  float   \n",
       "Orientation                                                      RD    str   \n",
       "time                                                            NaN  float   \n",
       "displacement                                                    NaN  float   \n",
       "force                                                           NaN  float   \n",
       "eps_tech                                                        NaN  float   \n",
       "sig_tech                                                        NaN  float   \n",
       "eps_true                                                        NaN  float   \n",
       "sig_true                                                        NaN  float   \n",
       "License                                     Creative Commons Lizenz    str   \n",
       "Source              https://materialsdata.nist.gov/handle/11256/823    str   \n",
       "sdata_date                                2020-12-10T00:00:00+00:00    str   \n",
       "\n",
       "                   unit         description                 label  \n",
       "key                                                                \n",
       "sdata_version                                                      \n",
       "name                  -                             0.01mps(1)-RD  \n",
       "uuid                  -                                            \n",
       "Test Name                                                          \n",
       "Material                                                           \n",
       "Thickness            mm                                            \n",
       "Width                mm                                            \n",
       "Gauge Length         mm                                            \n",
       "Target Strain Rate  1/s                                            \n",
       "Orientation                                                        \n",
       "time                  s                Time                   $t$  \n",
       "displacement         mm           Extension                   $u$  \n",
       "force                kN                Load                   $F$  \n",
       "eps_tech              -  Engineering Strain  $\\varepsilon_{tech}$  \n",
       "sig_tech            MPa  Engineering Stress       $\\sigma_{tech}$  \n",
       "eps_true              -         True Strain       $\\sigma_{true}$  \n",
       "sig_true            MPa         True Stress  $\\varepsilon_{true}$  \n",
       "License               -                                            \n",
       "Source                -                                            \n",
       "sdata_date            -                                            "
      ]
     },
     "execution_count": 26,
     "metadata": {},
     "output_type": "execute_result"
    }
   ],
   "source": [
    "url = \"https://gist.github.com/lepy/fdbdce805b206322d8013a1375da0eb9/raw/76e6dad16e78befbbd711e074e7fb8493d15be89/medmnsteel_0.01mps_1_rd.json\"\n",
    "data = sdata.Data.from_url(url, stype=\"json\")\n",
    "data.describe()\n",
    "data.metadata.df"
   ]
  },
  {
   "cell_type": "code",
   "execution_count": null,
   "metadata": {},
   "outputs": [],
   "source": []
  }
 ],
 "metadata": {
  "kernelspec": {
   "display_name": "sfem3",
   "language": "python",
   "name": "sfem3"
  },
  "language_info": {
   "codemirror_mode": {
    "name": "ipython",
    "version": 3
   },
   "file_extension": ".py",
   "mimetype": "text/x-python",
   "name": "python",
   "nbconvert_exporter": "python",
   "pygments_lexer": "ipython3",
   "version": "3.7.4"
  }
 },
 "nbformat": 4,
 "nbformat_minor": 2
}
