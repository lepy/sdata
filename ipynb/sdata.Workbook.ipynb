{
 "cells": [
  {
   "cell_type": "code",
   "execution_count": 32,
   "metadata": {},
   "outputs": [
    {
     "name": "stderr",
     "output_type": "stream",
     "text": [
      "09:45:25 DEBUG:Loaded backend module://ipykernel.pylab.backend_inline version unknown.\n"
     ]
    },
    {
     "name": "stdout",
     "output_type": "stream",
     "text": [
      "The autoreload extension is already loaded. To reload it, use:\n",
      "  %reload_ext autoreload\n"
     ]
    },
    {
     "data": {
      "application/javascript": [
       "IPython.notebook.set_autosave_interval(0)"
      ]
     },
     "metadata": {},
     "output_type": "display_data"
    },
    {
     "name": "stdout",
     "output_type": "stream",
     "text": [
      "Autosave disabled\n"
     ]
    },
    {
     "data": {
      "text/plain": [
       "'/home/ingolf.lepenies/projects/sdata/ipynb'"
      ]
     },
     "execution_count": 32,
     "metadata": {},
     "output_type": "execute_result"
    }
   ],
   "source": [
    "%load_ext autoreload\n",
    "%autoreload 2\n",
    "%matplotlib inline\n",
    "%autosave 0\n",
    "    \n",
    "import logging\n",
    "logging.basicConfig(format='%(asctime)s %(levelname)s:%(message)s', level=logging.DEBUG, datefmt='%I:%M:%S')\n",
    "\n",
    "import os\n",
    "import sys\n",
    "import numpy as np\n",
    "import pandas as pd\n",
    "import sdata\n",
    "from sdata.workbook import Workbook\n",
    "import uuid\n",
    "import hashlib\n",
    "modulepath = os.getcwd()\n",
    "modulepath"
   ]
  },
  {
   "cell_type": "code",
   "execution_count": 33,
   "metadata": {},
   "outputs": [
    {
     "name": "stdout",
     "output_type": "stream",
     "text": [
      "(Data 'workbook':7c8189e622d04f51bbc0478ecf4dec5a)\n"
     ]
    }
   ],
   "source": [
    "wb = Workbook(name=\"workbook\",\n",
    "              description=\"An excel like workbook\",\n",
    "                      )\n",
    "print(wb)\n",
    "assert wb.name == \"workbook\""
   ]
  },
  {
   "cell_type": "code",
   "execution_count": 34,
   "metadata": {},
   "outputs": [
    {
     "name": "stderr",
     "output_type": "stream",
     "text": [
      "09:45:26 ERROR:Workbook.create_sheet: sheet name has to be a string!\n"
     ]
    }
   ],
   "source": [
    "s0 = wb.create_sheet(1)\n",
    "assert s0 is None"
   ]
  },
  {
   "cell_type": "code",
   "execution_count": 35,
   "metadata": {},
   "outputs": [
    {
     "data": {
      "text/html": [
       "<div>\n",
       "<style scoped>\n",
       "    .dataframe tbody tr th:only-of-type {\n",
       "        vertical-align: middle;\n",
       "    }\n",
       "\n",
       "    .dataframe tbody tr th {\n",
       "        vertical-align: top;\n",
       "    }\n",
       "\n",
       "    .dataframe thead th {\n",
       "        text-align: right;\n",
       "    }\n",
       "</style>\n",
       "<table border=\"1\" class=\"dataframe\">\n",
       "  <thead>\n",
       "    <tr style=\"text-align: right;\">\n",
       "      <th></th>\n",
       "      <th>0</th>\n",
       "    </tr>\n",
       "  </thead>\n",
       "  <tbody>\n",
       "    <tr>\n",
       "      <th>metadata</th>\n",
       "      <td>8</td>\n",
       "    </tr>\n",
       "    <tr>\n",
       "      <th>table_rows</th>\n",
       "      <td>3</td>\n",
       "    </tr>\n",
       "    <tr>\n",
       "      <th>table_columns</th>\n",
       "      <td>1</td>\n",
       "    </tr>\n",
       "    <tr>\n",
       "      <th>description</th>\n",
       "      <td>0</td>\n",
       "    </tr>\n",
       "  </tbody>\n",
       "</table>\n",
       "</div>"
      ],
      "text/plain": [
       "               0\n",
       "metadata       8\n",
       "table_rows     3\n",
       "table_columns  1\n",
       "description    0"
      ]
     },
     "execution_count": 35,
     "metadata": {},
     "output_type": "execute_result"
    }
   ],
   "source": [
    "df1 = pd.DataFrame([1,2,3])\n",
    "s1 = wb.create_sheet(\"df1\")\n",
    "s1.df = df1\n",
    "assert s1.name == \"df1\"\n",
    "s1.describe()"
   ]
  },
  {
   "cell_type": "code",
   "execution_count": 36,
   "metadata": {},
   "outputs": [],
   "source": [
    "data2 = sdata.Data(name=\"data2\", df=pd.DataFrame({\"a\":[1,2,3]}))\n",
    "wb.add_sheet(data2)\n",
    "assert data2 in wb\n",
    "assert \"data2\" in wb.sheetnames"
   ]
  },
  {
   "cell_type": "code",
   "execution_count": 37,
   "metadata": {},
   "outputs": [
    {
     "name": "stderr",
     "output_type": "stream",
     "text": [
      "09:45:26 ERROR:Workbook.add_sheet: need sdata.Data, got <class 'int'>\n"
     ]
    }
   ],
   "source": [
    "s3 = wb.add_sheet(1)\n",
    "assert s3 is None"
   ]
  },
  {
   "cell_type": "code",
   "execution_count": 40,
   "metadata": {},
   "outputs": [
    {
     "name": "stdout",
     "output_type": "stream",
     "text": [
      "['df1', 'data2']\n"
     ]
    }
   ],
   "source": [
    "print(wb.sheetnames)\n",
    "assert wb.sheetnames==['df1', 'data2']"
   ]
  },
  {
   "cell_type": "code",
   "execution_count": 41,
   "metadata": {},
   "outputs": [
    {
     "name": "stdout",
     "output_type": "stream",
     "text": [
      "(Data 'df1':5be13c5958b544d5ad23a5ff8983a342)\n",
      "(Data 'data2':63ff54e0636e4651a2f84b7a39256bbe)\n"
     ]
    }
   ],
   "source": [
    "for sheet in wb:\n",
    "    print(sheet)"
   ]
  },
  {
   "cell_type": "code",
   "execution_count": 42,
   "metadata": {},
   "outputs": [
    {
     "data": {
      "text/plain": [
       "[(Data 'df1':5be13c5958b544d5ad23a5ff8983a342),\n",
       " (Data 'data2':63ff54e0636e4651a2f84b7a39256bbe)]"
      ]
     },
     "execution_count": 42,
     "metadata": {},
     "output_type": "execute_result"
    }
   ],
   "source": [
    "wb.sheets"
   ]
  },
  {
   "cell_type": "code",
   "execution_count": 24,
   "metadata": {},
   "outputs": [
    {
     "data": {
      "text/html": [
       "<div>\n",
       "<style scoped>\n",
       "    .dataframe tbody tr th:only-of-type {\n",
       "        vertical-align: middle;\n",
       "    }\n",
       "\n",
       "    .dataframe tbody tr th {\n",
       "        vertical-align: top;\n",
       "    }\n",
       "\n",
       "    .dataframe thead th {\n",
       "        text-align: right;\n",
       "    }\n",
       "</style>\n",
       "<table border=\"1\" class=\"dataframe\">\n",
       "  <thead>\n",
       "    <tr style=\"text-align: right;\">\n",
       "      <th></th>\n",
       "      <th>name</th>\n",
       "      <th>value</th>\n",
       "      <th>dtype</th>\n",
       "      <th>unit</th>\n",
       "      <th>description</th>\n",
       "      <th>label</th>\n",
       "    </tr>\n",
       "    <tr>\n",
       "      <th>key</th>\n",
       "      <th></th>\n",
       "      <th></th>\n",
       "      <th></th>\n",
       "      <th></th>\n",
       "      <th></th>\n",
       "      <th></th>\n",
       "    </tr>\n",
       "  </thead>\n",
       "  <tbody>\n",
       "    <tr>\n",
       "      <th>!sdata_class</th>\n",
       "      <td>!sdata_class</td>\n",
       "      <td>Workbook</td>\n",
       "      <td>str</td>\n",
       "      <td>-</td>\n",
       "      <td>sdata class</td>\n",
       "      <td></td>\n",
       "    </tr>\n",
       "    <tr>\n",
       "      <th>!sdata_ctime</th>\n",
       "      <td>!sdata_ctime</td>\n",
       "      <td>2020-12-21T09:37:54.116102+00:00</td>\n",
       "      <td>str</td>\n",
       "      <td>-</td>\n",
       "      <td>creation date</td>\n",
       "      <td></td>\n",
       "    </tr>\n",
       "    <tr>\n",
       "      <th>!sdata_mtime</th>\n",
       "      <td>!sdata_mtime</td>\n",
       "      <td>2020-12-21T09:37:54.116192+00:00</td>\n",
       "      <td>str</td>\n",
       "      <td>-</td>\n",
       "      <td>modification date</td>\n",
       "      <td></td>\n",
       "    </tr>\n",
       "    <tr>\n",
       "      <th>!sdata_name</th>\n",
       "      <td>!sdata_name</td>\n",
       "      <td>workbook</td>\n",
       "      <td>str</td>\n",
       "      <td>-</td>\n",
       "      <td>name of the data object</td>\n",
       "      <td></td>\n",
       "    </tr>\n",
       "    <tr>\n",
       "      <th>!sdata_parent</th>\n",
       "      <td>!sdata_parent</td>\n",
       "      <td></td>\n",
       "      <td>str</td>\n",
       "      <td>-</td>\n",
       "      <td>uuid of the parent sdata object</td>\n",
       "      <td></td>\n",
       "    </tr>\n",
       "    <tr>\n",
       "      <th>!sdata_project</th>\n",
       "      <td>!sdata_project</td>\n",
       "      <td></td>\n",
       "      <td>str</td>\n",
       "      <td>-</td>\n",
       "      <td></td>\n",
       "      <td></td>\n",
       "    </tr>\n",
       "    <tr>\n",
       "      <th>!sdata_uuid</th>\n",
       "      <td>!sdata_uuid</td>\n",
       "      <td>c335f1a62594482db29d3ed262385858</td>\n",
       "      <td>str</td>\n",
       "      <td>-</td>\n",
       "      <td>Universally Unique Identifier</td>\n",
       "      <td></td>\n",
       "    </tr>\n",
       "    <tr>\n",
       "      <th>!sdata_version</th>\n",
       "      <td>!sdata_version</td>\n",
       "      <td>0.15.0</td>\n",
       "      <td>str</td>\n",
       "      <td>-</td>\n",
       "      <td>sdata package version</td>\n",
       "      <td></td>\n",
       "    </tr>\n",
       "  </tbody>\n",
       "</table>\n",
       "</div>"
      ],
      "text/plain": [
       "                          name                             value dtype unit  \\\n",
       "key                                                                           \n",
       "!sdata_class      !sdata_class                          Workbook   str    -   \n",
       "!sdata_ctime      !sdata_ctime  2020-12-21T09:37:54.116102+00:00   str    -   \n",
       "!sdata_mtime      !sdata_mtime  2020-12-21T09:37:54.116192+00:00   str    -   \n",
       "!sdata_name        !sdata_name                          workbook   str    -   \n",
       "!sdata_parent    !sdata_parent                                     str    -   \n",
       "!sdata_project  !sdata_project                                     str    -   \n",
       "!sdata_uuid        !sdata_uuid  c335f1a62594482db29d3ed262385858   str    -   \n",
       "!sdata_version  !sdata_version                            0.15.0   str    -   \n",
       "\n",
       "                                    description label  \n",
       "key                                                    \n",
       "!sdata_class                        sdata class        \n",
       "!sdata_ctime                      creation date        \n",
       "!sdata_mtime                  modification date        \n",
       "!sdata_name             name of the data object        \n",
       "!sdata_parent   uuid of the parent sdata object        \n",
       "!sdata_project                                         \n",
       "!sdata_uuid       Universally Unique Identifier        \n",
       "!sdata_version            sdata package version        "
      ]
     },
     "execution_count": 24,
     "metadata": {},
     "output_type": "execute_result"
    }
   ],
   "source": [
    "wb.metadata.df"
   ]
  },
  {
   "cell_type": "code",
   "execution_count": 26,
   "metadata": {},
   "outputs": [],
   "source": [
    "wb.df"
   ]
  },
  {
   "cell_type": "code",
   "execution_count": null,
   "metadata": {},
   "outputs": [],
   "source": []
  }
 ],
 "metadata": {
  "kernelspec": {
   "display_name": "sfem3",
   "language": "python",
   "name": "sfem3"
  },
  "language_info": {
   "codemirror_mode": {
    "name": "ipython",
    "version": 3
   },
   "file_extension": ".py",
   "mimetype": "text/x-python",
   "name": "python",
   "nbconvert_exporter": "python",
   "pygments_lexer": "ipython3",
   "version": "3.7.4"
  }
 },
 "nbformat": 4,
 "nbformat_minor": 2
}
