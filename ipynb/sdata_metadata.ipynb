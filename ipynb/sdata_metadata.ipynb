{
 "cells": [
  {
   "cell_type": "markdown",
   "metadata": {},
   "source": [
    "# sdata.Metadata"
   ]
  },
  {
   "cell_type": "code",
   "execution_count": 1,
   "metadata": {},
   "outputs": [
    {
     "data": {
      "application/javascript": [
       "IPython.notebook.set_autosave_interval(0)"
      ]
     },
     "metadata": {},
     "output_type": "display_data"
    },
    {
     "name": "stderr",
     "output_type": "stream",
     "text": [
      "10:35:55 INFO:Note: NumExpr detected 22 cores but \"NUMEXPR_MAX_THREADS\" not set, so enforcing safe limit of 16.\n",
      "10:35:55 INFO:NumExpr defaulting to 16 threads.\n"
     ]
    },
    {
     "name": "stdout",
     "output_type": "stream",
     "text": [
      "Autosave disabled\n"
     ]
    }
   ],
   "source": [
    "%load_ext autoreload\n",
    "%autoreload 2\n",
    "%matplotlib inline\n",
    "#%matplotlib notebook\n",
    "%autosave 0\n",
    "    \n",
    "import logging\n",
    "logging.basicConfig(format='%(asctime)s %(levelname)s:%(message)s', level=logging.DEBUG, datefmt='%I:%M:%S')\n",
    "\n",
    "import os\n",
    "import sys\n",
    "import numpy as np\n",
    "import pandas as pd\n",
    "import sdata"
   ]
  },
  {
   "cell_type": "code",
   "execution_count": 2,
   "metadata": {},
   "outputs": [
    {
     "data": {
      "text/plain": [
       "(Metadata'My first metadata':0)"
      ]
     },
     "execution_count": 2,
     "metadata": {},
     "output_type": "execute_result"
    }
   ],
   "source": [
    "m = sdata.Metadata(name=\"My first metadata\")\n",
    "m"
   ]
  },
  {
   "cell_type": "code",
   "execution_count": 3,
   "metadata": {},
   "outputs": [
    {
     "name": "stdout",
     "output_type": "stream",
     "text": [
      "Help on Metadata in module sdata.metadata object:\n",
      "\n",
      "class Metadata(builtins.object)\n",
      " |  Metadata(**kwargs)\n",
      " |\n",
      " |  Metadata container class\n",
      " |\n",
      " |  each Metadata entry has has a\n",
      " |      * name (256)\n",
      " |      * value\n",
      " |      * unit\n",
      " |      * description\n",
      " |      * type (int, str, float, bool, timestamp)\n",
      " |\n",
      " |  Methods defined here:\n",
      " |\n",
      " |  __contains__(self, item)\n",
      " |\n",
      " |  __getitem__(self, name)\n",
      " |\n",
      " |  __init__(self, **kwargs)\n",
      " |      Metadata class\n",
      " |\n",
      " |      :param kwargs:\n",
      " |\n",
      " |  __iter__(self)\n",
      " |\n",
      " |  __repr__(self)\n",
      " |      Return repr(self).\n",
      " |\n",
      " |  __setitem__(self, name, value)\n",
      " |      update value in Attribute or create new Attribute\n",
      " |\n",
      " |  __str__(self)\n",
      " |      Return str(self).\n",
      " |\n",
      " |  add(self, name, value=None, **kwargs)\n",
      " |      add Attribute\n",
      " |\n",
      " |      :param name:\n",
      " |      :param value:\n",
      " |      :param kwargs:\n",
      " |      :return:\n",
      " |\n",
      " |  add_attribute(self, attr: sdata.metadata.Attribute, **kwargs: Any) -> None\n",
      " |      set Attribute\n",
      " |\n",
      " |  copy(self)\n",
      " |      returns a deep copy\n",
      " |\n",
      " |  get(self, name, default=None)\n",
      " |\n",
      " |  get_attr(self, name)\n",
      " |      get Attribute by name\n",
      " |\n",
      " |  get_dft(self, index_name=None)\n",
      " |      create transposed dataframe for sdata attributes\n",
      " |\n",
      " |  get_dict(self)\n",
      " |      get user attribute as dict\n",
      " |\n",
      " |  get_sdict(self)\n",
      " |      get sdata attribute as dict\n",
      " |\n",
      " |  get_udict(self)\n",
      " |      get user attribute as dict\n",
      " |\n",
      " |  guess_value_dtype(self)\n",
      " |      try to cast the Attribute values, e.g. str -> float\n",
      " |\n",
      " |      :return:\n",
      " |\n",
      " |  is_complete(self)\n",
      " |      check all required attributes\n",
      " |\n",
      " |  items(self)\n",
      " |      :return: list of Attribute items (keys, values)\n",
      " |\n",
      " |  keys(self)\n",
      " |      :return: list of Attribute names\n",
      " |\n",
      " |  pop(self, item)\n",
      " |\n",
      " |  relabel(self, name, newname)\n",
      " |      relabel Attribute\n",
      " |\n",
      " |      :param name: old attribute name\n",
      " |      :param newname: new attribute name\n",
      " |      :return: None\n",
      " |\n",
      " |  set_attr(self, name='N.N.', value=None, **kwargs)\n",
      " |      set Attribute\n",
      " |\n",
      " |  set_unit_from_name(self, add_description=True, fix_name=True)\n",
      " |      try to extract unit from attribute name\n",
      " |\n",
      " |      :return:\n",
      " |\n",
      " |  to_csv(self, filepath=None, sep=',', header=False)\n",
      " |      serialize to csv\n",
      " |\n",
      " |  to_csv_header(self, prefix='#', sep=',', filepath=None)\n",
      " |      serialize to csv\n",
      " |\n",
      " |  to_dataframe(self)\n",
      " |      create dataframe\n",
      " |\n",
      " |  to_dict(self)\n",
      " |      serialize attributes to dict\n",
      " |\n",
      " |  to_json(self, filepath=None)\n",
      " |      create a json\n",
      " |\n",
      " |      :param filepath: default None\n",
      " |      :return: json str\n",
      " |\n",
      " |  to_list(self)\n",
      " |      create a nested list of Attribute values\n",
      " |\n",
      " |      :return: list\n",
      " |\n",
      " |  update_from_dict(self, d, guess_dtype=True)\n",
      " |      set attributes from dict\n",
      " |\n",
      " |      :param d: dict\n",
      " |      :return:\n",
      " |\n",
      " |  update_from_usermetadata(self, metadata)\n",
      " |      update user metadata from metadata\n",
      " |\n",
      " |  update_hash(self, hashobject)\n",
      " |      A hash represents the object used to calculate a checksum of a\n",
      " |      string of information.\n",
      " |\n",
      " |      .. code-block:: python\n",
      " |\n",
      " |          hashobject = hashlib.sha3_256()\n",
      " |          metadata = Metadata()\n",
      " |          metadata.update_hash(hashobject)\n",
      " |          hash.hexdigest()\n",
      " |\n",
      " |      :param hash: hash object\n",
      " |      :return: hash_function().hexdigest()\n",
      " |\n",
      " |  values(self)\n",
      " |      :return: list of Attribute values\n",
      " |\n",
      " |  ----------------------------------------------------------------------\n",
      " |  Class methods defined here:\n",
      " |\n",
      " |  from_csv(filepath)\n",
      " |      create metadata from dataframe\n",
      " |\n",
      " |  from_dataframe(df)\n",
      " |      create metadata from dataframe\n",
      " |\n",
      " |  from_dict(d)\n",
      " |      setup metadata from dict\n",
      " |\n",
      " |  from_json(jsonstr=None, filepath=None)\n",
      " |      create metadata from json file\n",
      " |\n",
      " |      :param jsonstr: json str\n",
      " |      :param filepath: filepath to json file\n",
      " |      :return: Metadata\n",
      " |\n",
      " |  from_list(mlist)\n",
      " |      create metadata from a list of Attribute values\n",
      " |\n",
      " |      [['force_x', 1.2, 'kN', 'float', 'force in x-direction'],\n",
      " |       ['force_y', 3.1, 'N', 'float', 'force in y-direction', 'label', True]]\n",
      " |\n",
      " |  ----------------------------------------------------------------------\n",
      " |  Static methods defined here:\n",
      " |\n",
      " |  guess_dtype_from_value(value)\n",
      " |      guess dtype from value,\n",
      " |      e.g.\n",
      " |      '1.23' -> 'float'\n",
      " |      'otto1.23' -> 'str'\n",
      " |      1 -> 'int'\n",
      " |      False -> 'bool'\n",
      " |\n",
      " |      :param value:\n",
      " |      :return: dtype(value), dtype ['int', 'float', 'bool', 'str']\n",
      " |\n",
      " |  ----------------------------------------------------------------------\n",
      " |  Readonly properties defined here:\n",
      " |\n",
      " |  df\n",
      " |      create dataframe\n",
      " |\n",
      " |  dft\n",
      " |      create transposed dataframe for sdata attributes\n",
      " |\n",
      " |  required_attributes\n",
      " |\n",
      " |  sdata_attributes\n",
      " |\n",
      " |  sdf\n",
      " |      create dataframe for sdata attributes\n",
      " |\n",
      " |  sdft\n",
      " |      create transposed dataframe for sdata attributes\n",
      " |\n",
      " |  sha3_256\n",
      " |      Return a new SHA3 hash object with a hashbit length of 32 bytes.\n",
      " |\n",
      " |      :return: hashlib.sha3_256.hexdigest()\n",
      " |\n",
      " |  size\n",
      " |      return number uf Attribute\n",
      " |\n",
      " |  udf\n",
      " |      create dataframe for user attributes\n",
      " |\n",
      " |  user_attributes\n",
      " |\n",
      " |  ----------------------------------------------------------------------\n",
      " |  Data descriptors defined here:\n",
      " |\n",
      " |  __dict__\n",
      " |      dictionary for instance variables\n",
      " |\n",
      " |  __weakref__\n",
      " |      list of weak references to the object\n",
      " |\n",
      " |  attributes\n",
      " |      returns Attributes\n",
      " |\n",
      " |  name\n",
      " |      Name of the Metadata\n",
      " |\n",
      " |  ----------------------------------------------------------------------\n",
      " |  Data and other attributes defined here:\n",
      " |\n",
      " |  ATTRIBUTEKEYS = ['name', 'value', 'unit', 'dtype', 'description', 'lab...\n",
      "\n"
     ]
    }
   ],
   "source": [
    "help(m)"
   ]
  },
  {
   "cell_type": "markdown",
   "metadata": {},
   "source": [
    "# sdata.Attribute"
   ]
  },
  {
   "cell_type": "markdown",
   "metadata": {},
   "source": [
    "create a simple key-value-Attribute"
   ]
  },
  {
   "cell_type": "code",
   "execution_count": 4,
   "metadata": {},
   "outputs": [
    {
     "data": {
      "text/plain": [
       "(Attr'otto1':1(int))"
      ]
     },
     "execution_count": 4,
     "metadata": {},
     "output_type": "execute_result"
    }
   ],
   "source": [
    "a = sdata.Attribute(\"otto1\", 1)\n",
    "a\n"
   ]
  },
  {
   "cell_type": "code",
   "execution_count": 5,
   "metadata": {},
   "outputs": [
    {
     "name": "stdout",
     "output_type": "stream",
     "text": [
      "Help on Attribute in module sdata.metadata object:\n",
      "\n",
      "class Attribute(builtins.object)\n",
      " |  Attribute(name, value, **kwargs)\n",
      " |\n",
      " |  Attribute class\n",
      " |\n",
      " |  Methods defined here:\n",
      " |\n",
      " |  __init__(self, name, value, **kwargs)\n",
      " |      Attribute(name, value, dtype=str, unit=\"-\", description=\"\", label=\"\", required=False)\n",
      " |      :param name\n",
      " |      :param value\n",
      " |      :param dtype ['float', 'int', 'str', 'timestamp', 'uuid?', 'unicode?']\n",
      " |      :param description\n",
      " |      :param dimension e.g. force, length, strain, count, energy\n",
      " |      :param unit\n",
      " |      :param label\n",
      " |      :param required\n",
      " |\n",
      " |  __repr__ = __str__(self)\n",
      " |\n",
      " |  __str__(self)\n",
      " |      Return str(self).\n",
      " |\n",
      " |  to_csv(self, prefix='', sep=',', quote=None)\n",
      " |      export Attribute to csv\n",
      " |\n",
      " |      :param prefix:\n",
      " |      :param sep:\n",
      " |      :param quote:\n",
      " |      :return:\n",
      " |\n",
      " |  to_dict(self)\n",
      " |      :returns dict of attribute items\n",
      " |\n",
      " |  to_list(self)\n",
      " |\n",
      " |  ----------------------------------------------------------------------\n",
      " |  Static methods defined here:\n",
      " |\n",
      " |  guess_dtype(value)\n",
      " |      returns dtype class\n",
      " |\n",
      " |      :param value:\n",
      " |      :return: __class__\n",
      " |\n",
      " |  ----------------------------------------------------------------------\n",
      " |  Data descriptors defined here:\n",
      " |\n",
      " |  __dict__\n",
      " |      dictionary for instance variables\n",
      " |\n",
      " |  __weakref__\n",
      " |      list of weak references to the object\n",
      " |\n",
      " |  description\n",
      " |      Attribute description\n",
      " |\n",
      " |  dtype\n",
      " |      Attribute type str\n",
      " |\n",
      " |  label\n",
      " |      Attribute label\n",
      " |\n",
      " |  name\n",
      " |      Attribute name\n",
      " |\n",
      " |  required\n",
      " |      Attribute required\n",
      " |\n",
      " |  unit\n",
      " |      Attribute unit\n",
      " |\n",
      " |  value\n",
      " |      Attribute value\n",
      " |\n",
      " |  ----------------------------------------------------------------------\n",
      " |  Data and other attributes defined here:\n",
      " |\n",
      " |  DTYPES = {'bool': <class 'bool'>, 'float': <class 'float'>, 'int': <cl...\n",
      " |\n",
      " |  DTYPES_INV = {<class 'float'>: 'float', <class 'int'>: 'int', <class '...\n",
      "\n"
     ]
    }
   ],
   "source": [
    "help(a)"
   ]
  },
  {
   "cell_type": "markdown",
   "metadata": {},
   "source": [
    "create a full qualified Attribute"
   ]
  },
  {
   "cell_type": "code",
   "execution_count": 6,
   "metadata": {},
   "outputs": [
    {
     "data": {
      "text/plain": [
       "(Attr'force_x':1.2(float))"
      ]
     },
     "execution_count": 6,
     "metadata": {},
     "output_type": "execute_result"
    }
   ],
   "source": [
    "fx = sdata.Attribute(\"force_x\", value=1.2, unit=\"kN\", dtype=\"float\", description=\"force in x-direction\")\n",
    "fx"
   ]
  },
  {
   "cell_type": "markdown",
   "metadata": {},
   "source": [
    "add Attribute to metadata"
   ]
  },
  {
   "cell_type": "code",
   "execution_count": 7,
   "metadata": {},
   "outputs": [
    {
     "data": {
      "text/plain": [
       "'float'"
      ]
     },
     "execution_count": 7,
     "metadata": {},
     "output_type": "execute_result"
    }
   ],
   "source": [
    "fx.dtype"
   ]
  },
  {
   "cell_type": "code",
   "execution_count": 8,
   "metadata": {},
   "outputs": [
    {
     "data": {
      "text/plain": [
       "SortedDict({'force_x': (Attr'force_x':1.2(float))})"
      ]
     },
     "execution_count": 8,
     "metadata": {},
     "output_type": "execute_result"
    }
   ],
   "source": [
    "m = sdata.Metadata(name=\"m1\")\n",
    "m.add(fx)\n",
    "m.attributes"
   ]
  },
  {
   "cell_type": "code",
   "execution_count": 9,
   "metadata": {},
   "outputs": [
    {
     "data": {
      "text/plain": [
       "SortedDict({'force_x': (Attr'force_x':1.2(float)), 'force_y': (Attr'force_y':3.1(float))})"
      ]
     },
     "execution_count": 9,
     "metadata": {},
     "output_type": "execute_result"
    }
   ],
   "source": [
    "# m = sdata.Metadata(name=\"m2\")\n",
    "m.add(\"force_y\", value=3.1, unit=\"N\", dtype=\"float\", description=\"force in y-direction\")\n",
    "m.attributes"
   ]
  },
  {
   "cell_type": "code",
   "execution_count": 10,
   "metadata": {},
   "outputs": [
    {
     "data": {
      "text/html": [
       "<div>\n",
       "<style scoped>\n",
       "    .dataframe tbody tr th:only-of-type {\n",
       "        vertical-align: middle;\n",
       "    }\n",
       "\n",
       "    .dataframe tbody tr th {\n",
       "        vertical-align: top;\n",
       "    }\n",
       "\n",
       "    .dataframe thead th {\n",
       "        text-align: right;\n",
       "    }\n",
       "</style>\n",
       "<table border=\"1\" class=\"dataframe\">\n",
       "  <thead>\n",
       "    <tr style=\"text-align: right;\">\n",
       "      <th></th>\n",
       "      <th>name</th>\n",
       "      <th>value</th>\n",
       "      <th>unit</th>\n",
       "      <th>dtype</th>\n",
       "      <th>description</th>\n",
       "      <th>label</th>\n",
       "      <th>required</th>\n",
       "    </tr>\n",
       "    <tr>\n",
       "      <th>key</th>\n",
       "      <th></th>\n",
       "      <th></th>\n",
       "      <th></th>\n",
       "      <th></th>\n",
       "      <th></th>\n",
       "      <th></th>\n",
       "      <th></th>\n",
       "    </tr>\n",
       "  </thead>\n",
       "  <tbody>\n",
       "    <tr>\n",
       "      <th>force_x</th>\n",
       "      <td>force_x</td>\n",
       "      <td>1.2</td>\n",
       "      <td>kN</td>\n",
       "      <td>float</td>\n",
       "      <td>force in x-direction</td>\n",
       "      <td></td>\n",
       "      <td>False</td>\n",
       "    </tr>\n",
       "    <tr>\n",
       "      <th>force_y</th>\n",
       "      <td>force_y</td>\n",
       "      <td>3.1</td>\n",
       "      <td>N</td>\n",
       "      <td>float</td>\n",
       "      <td>force in y-direction</td>\n",
       "      <td></td>\n",
       "      <td>False</td>\n",
       "    </tr>\n",
       "  </tbody>\n",
       "</table>\n",
       "</div>"
      ],
      "text/plain": [
       "            name  value unit  dtype           description label  required\n",
       "key                                                                      \n",
       "force_x  force_x    1.2   kN  float  force in x-direction           False\n",
       "force_y  force_y    3.1    N  float  force in y-direction           False"
      ]
     },
     "execution_count": 10,
     "metadata": {},
     "output_type": "execute_result"
    }
   ],
   "source": [
    "m.df"
   ]
  },
  {
   "cell_type": "markdown",
   "metadata": {},
   "source": [
    "\n",
    "## Working with Attributes"
   ]
  },
  {
   "cell_type": "code",
   "execution_count": 11,
   "metadata": {},
   "outputs": [],
   "source": [
    "m[\"a\"] = 1"
   ]
  },
  {
   "cell_type": "code",
   "execution_count": 12,
   "metadata": {},
   "outputs": [
    {
     "data": {
      "text/html": [
       "<div>\n",
       "<style scoped>\n",
       "    .dataframe tbody tr th:only-of-type {\n",
       "        vertical-align: middle;\n",
       "    }\n",
       "\n",
       "    .dataframe tbody tr th {\n",
       "        vertical-align: top;\n",
       "    }\n",
       "\n",
       "    .dataframe thead th {\n",
       "        text-align: right;\n",
       "    }\n",
       "</style>\n",
       "<table border=\"1\" class=\"dataframe\">\n",
       "  <thead>\n",
       "    <tr style=\"text-align: right;\">\n",
       "      <th></th>\n",
       "      <th>name</th>\n",
       "      <th>value</th>\n",
       "      <th>unit</th>\n",
       "      <th>dtype</th>\n",
       "      <th>description</th>\n",
       "      <th>label</th>\n",
       "      <th>required</th>\n",
       "    </tr>\n",
       "    <tr>\n",
       "      <th>key</th>\n",
       "      <th></th>\n",
       "      <th></th>\n",
       "      <th></th>\n",
       "      <th></th>\n",
       "      <th></th>\n",
       "      <th></th>\n",
       "      <th></th>\n",
       "    </tr>\n",
       "  </thead>\n",
       "  <tbody>\n",
       "    <tr>\n",
       "      <th>force_x</th>\n",
       "      <td>force_x</td>\n",
       "      <td>1.2</td>\n",
       "      <td>kN</td>\n",
       "      <td>float</td>\n",
       "      <td>force in x-direction</td>\n",
       "      <td></td>\n",
       "      <td>False</td>\n",
       "    </tr>\n",
       "    <tr>\n",
       "      <th>force_y</th>\n",
       "      <td>force_y</td>\n",
       "      <td>3.1</td>\n",
       "      <td>N</td>\n",
       "      <td>float</td>\n",
       "      <td>force in y-direction</td>\n",
       "      <td></td>\n",
       "      <td>False</td>\n",
       "    </tr>\n",
       "  </tbody>\n",
       "</table>\n",
       "</div>"
      ],
      "text/plain": [
       "            name  value unit  dtype           description label  required\n",
       "key                                                                      \n",
       "force_x  force_x    1.2   kN  float  force in x-direction           False\n",
       "force_y  force_y    3.1    N  float  force in y-direction           False"
      ]
     },
     "execution_count": 12,
     "metadata": {},
     "output_type": "execute_result"
    }
   ],
   "source": [
    "m[\"a\"] = 1\n",
    "m[\"b\"] = 2.1\n",
    "m[\"o\"] = \"c\"\n",
    "m.df"
   ]
  },
  {
   "cell_type": "code",
   "execution_count": 13,
   "metadata": {},
   "outputs": [
    {
     "name": "stdout",
     "output_type": "stream",
     "text": [
      "('force_x', (Attr'force_x':1.2(float)))\n",
      "('force_y', (Attr'force_y':3.1(float)))\n"
     ]
    }
   ],
   "source": [
    "for a in m:\n",
    "    print(a)"
   ]
  },
  {
   "cell_type": "code",
   "execution_count": 14,
   "metadata": {},
   "outputs": [
    {
     "data": {
      "text/plain": [
       "[1.2, 3.1]"
      ]
     },
     "execution_count": 14,
     "metadata": {},
     "output_type": "execute_result"
    }
   ],
   "source": [
    "[a.value for k, a in m]"
   ]
  },
  {
   "cell_type": "code",
   "execution_count": 15,
   "metadata": {},
   "outputs": [],
   "source": [
    "m[\"b\"].value"
   ]
  },
  {
   "cell_type": "code",
   "execution_count": 16,
   "metadata": {},
   "outputs": [],
   "source": [
    "m.pop(\"a\")"
   ]
  },
  {
   "cell_type": "code",
   "execution_count": 17,
   "metadata": {},
   "outputs": [
    {
     "data": {
      "text/plain": [
       "False"
      ]
     },
     "execution_count": 17,
     "metadata": {},
     "output_type": "execute_result"
    }
   ],
   "source": [
    "\"a\" in m"
   ]
  },
  {
   "cell_type": "code",
   "execution_count": 18,
   "metadata": {},
   "outputs": [
    {
     "data": {
      "text/plain": [
       "(Attr'a':None(str))"
      ]
     },
     "execution_count": 18,
     "metadata": {},
     "output_type": "execute_result"
    }
   ],
   "source": [
    "m.get(\"a\")"
   ]
  },
  {
   "cell_type": "code",
   "execution_count": 19,
   "metadata": {},
   "outputs": [
    {
     "data": {
      "text/html": [
       "<div>\n",
       "<style scoped>\n",
       "    .dataframe tbody tr th:only-of-type {\n",
       "        vertical-align: middle;\n",
       "    }\n",
       "\n",
       "    .dataframe tbody tr th {\n",
       "        vertical-align: top;\n",
       "    }\n",
       "\n",
       "    .dataframe thead th {\n",
       "        text-align: right;\n",
       "    }\n",
       "</style>\n",
       "<table border=\"1\" class=\"dataframe\">\n",
       "  <thead>\n",
       "    <tr style=\"text-align: right;\">\n",
       "      <th></th>\n",
       "      <th>name</th>\n",
       "      <th>value</th>\n",
       "      <th>unit</th>\n",
       "      <th>dtype</th>\n",
       "      <th>description</th>\n",
       "      <th>label</th>\n",
       "      <th>required</th>\n",
       "    </tr>\n",
       "    <tr>\n",
       "      <th>key</th>\n",
       "      <th></th>\n",
       "      <th></th>\n",
       "      <th></th>\n",
       "      <th></th>\n",
       "      <th></th>\n",
       "      <th></th>\n",
       "      <th></th>\n",
       "    </tr>\n",
       "  </thead>\n",
       "  <tbody>\n",
       "    <tr>\n",
       "      <th>force_x</th>\n",
       "      <td>force_x</td>\n",
       "      <td>1.2</td>\n",
       "      <td>kN</td>\n",
       "      <td>float</td>\n",
       "      <td>force in x-direction</td>\n",
       "      <td></td>\n",
       "      <td>False</td>\n",
       "    </tr>\n",
       "    <tr>\n",
       "      <th>force_y</th>\n",
       "      <td>force_y</td>\n",
       "      <td>3.1</td>\n",
       "      <td>N</td>\n",
       "      <td>float</td>\n",
       "      <td>force in y-direction</td>\n",
       "      <td></td>\n",
       "      <td>False</td>\n",
       "    </tr>\n",
       "  </tbody>\n",
       "</table>\n",
       "</div>"
      ],
      "text/plain": [
       "            name  value unit  dtype           description label  required\n",
       "key                                                                      \n",
       "force_x  force_x    1.2   kN  float  force in x-direction           False\n",
       "force_y  force_y    3.1    N  float  force in y-direction           False"
      ]
     },
     "execution_count": 19,
     "metadata": {},
     "output_type": "execute_result"
    }
   ],
   "source": [
    "m[\"a\"] = a\n",
    "m.df"
   ]
  },
  {
   "cell_type": "code",
   "execution_count": 20,
   "metadata": {},
   "outputs": [
    {
     "data": {
      "text/plain": [
       "(Attr'force_y':3.1(float))"
      ]
     },
     "execution_count": 20,
     "metadata": {},
     "output_type": "execute_result"
    }
   ],
   "source": [
    "m[\"force_y\"]"
   ]
  },
  {
   "cell_type": "code",
   "execution_count": 21,
   "metadata": {},
   "outputs": [
    {
     "data": {
      "text/plain": [
       "(Attr'force_x':1.2(float))"
      ]
     },
     "execution_count": 21,
     "metadata": {},
     "output_type": "execute_result"
    }
   ],
   "source": [
    "m[\"force_x\"]"
   ]
  },
  {
   "cell_type": "code",
   "execution_count": 22,
   "metadata": {},
   "outputs": [
    {
     "data": {
      "text/plain": [
       "(Attr'force_z':None(str))"
      ]
     },
     "execution_count": 22,
     "metadata": {},
     "output_type": "execute_result"
    }
   ],
   "source": [
    "m.get(\"force_z\") # not available -> None"
   ]
  },
  {
   "cell_type": "code",
   "execution_count": 23,
   "metadata": {},
   "outputs": [
    {
     "data": {
      "text/plain": [
       "(Attr'force_x':1.2(float))"
      ]
     },
     "execution_count": 23,
     "metadata": {},
     "output_type": "execute_result"
    }
   ],
   "source": [
    "my_fx = m.get(\"force_x\")\n",
    "my_fx"
   ]
  },
  {
   "cell_type": "code",
   "execution_count": 24,
   "metadata": {},
   "outputs": [
    {
     "data": {
      "text/plain": [
       "(Attr'force_y':3.1(float))"
      ]
     },
     "execution_count": 24,
     "metadata": {},
     "output_type": "execute_result"
    }
   ],
   "source": [
    "my_fy = m.get(\"force_y\")\n",
    "my_fy"
   ]
  },
  {
   "cell_type": "code",
   "execution_count": 25,
   "metadata": {},
   "outputs": [
    {
     "data": {
      "text/plain": [
       "1.2"
      ]
     },
     "execution_count": 25,
     "metadata": {},
     "output_type": "execute_result"
    }
   ],
   "source": [
    "my_fx.value"
   ]
  },
  {
   "cell_type": "code",
   "execution_count": 26,
   "metadata": {},
   "outputs": [
    {
     "name": "stdout",
     "output_type": "stream",
     "text": [
      "The force_x is 1.2 kN.\n",
      "The force_y is 3.1 N.\n"
     ]
    }
   ],
   "source": [
    "print(\"The {0.name} is {0.value} {0.unit}.\".format(my_fx))\n",
    "print(\"The {0.name} is {0.value} {0.unit}.\".format(my_fy))"
   ]
  },
  {
   "cell_type": "code",
   "execution_count": 27,
   "metadata": {},
   "outputs": [
    {
     "data": {
      "text/plain": [
       "['force_x', 1.2, 'kN', 'float', 'force in x-direction', '', False]"
      ]
     },
     "execution_count": 27,
     "metadata": {},
     "output_type": "execute_result"
    }
   ],
   "source": [
    "my_fx.to_list()"
   ]
  },
  {
   "cell_type": "code",
   "execution_count": 28,
   "metadata": {},
   "outputs": [
    {
     "data": {
      "text/plain": [
       "{'name': 'force_x',\n",
       " 'value': 1.2,\n",
       " 'unit': 'kN',\n",
       " 'dtype': 'float',\n",
       " 'description': 'force in x-direction',\n",
       " 'label': '',\n",
       " 'required': False}"
      ]
     },
     "execution_count": 28,
     "metadata": {},
     "output_type": "execute_result"
    }
   ],
   "source": [
    "my_fx.to_dict()"
   ]
  },
  {
   "cell_type": "code",
   "execution_count": 29,
   "metadata": {},
   "outputs": [
    {
     "data": {
      "text/plain": [
       "'#$force_x;1.2;kN;float;force in x-direction;;False'"
      ]
     },
     "execution_count": 29,
     "metadata": {},
     "output_type": "execute_result"
    }
   ],
   "source": [
    "my_fx.to_csv(prefix=\"#$\", sep=\";\")"
   ]
  },
  {
   "cell_type": "markdown",
   "metadata": {},
   "source": [
    "## working with Metadata"
   ]
  },
  {
   "cell_type": "code",
   "execution_count": 30,
   "metadata": {},
   "outputs": [
    {
     "data": {
      "text/plain": [
       "['force_x', 'force_y']"
      ]
     },
     "execution_count": 30,
     "metadata": {},
     "output_type": "execute_result"
    }
   ],
   "source": [
    "m.keys()"
   ]
  },
  {
   "cell_type": "code",
   "execution_count": 31,
   "metadata": {},
   "outputs": [
    {
     "data": {
      "text/plain": [
       "[(Attr'force_x':1.2(float)), (Attr'force_y':3.1(float))]"
      ]
     },
     "execution_count": 31,
     "metadata": {},
     "output_type": "execute_result"
    }
   ],
   "source": [
    "m.values()"
   ]
  },
  {
   "cell_type": "code",
   "execution_count": 32,
   "metadata": {},
   "outputs": [
    {
     "data": {
      "text/plain": [
       "[('force_x', (Attr'force_x':1.2(float))),\n",
       " ('force_y', (Attr'force_y':3.1(float)))]"
      ]
     },
     "execution_count": 32,
     "metadata": {},
     "output_type": "execute_result"
    }
   ],
   "source": [
    "m.items()"
   ]
  },
  {
   "cell_type": "code",
   "execution_count": 33,
   "metadata": {},
   "outputs": [
    {
     "data": {
      "text/plain": [
       "{'force_x': {'name': 'force_x',\n",
       "  'value': 1.2,\n",
       "  'unit': 'kN',\n",
       "  'dtype': 'float',\n",
       "  'description': 'force in x-direction',\n",
       "  'label': '',\n",
       "  'required': False},\n",
       " 'force_y': {'name': 'force_y',\n",
       "  'value': 3.1,\n",
       "  'unit': 'N',\n",
       "  'dtype': 'float',\n",
       "  'description': 'force in y-direction',\n",
       "  'label': '',\n",
       "  'required': False}}"
      ]
     },
     "execution_count": 33,
     "metadata": {},
     "output_type": "execute_result"
    }
   ],
   "source": [
    "m.to_dict()"
   ]
  },
  {
   "cell_type": "code",
   "execution_count": 34,
   "metadata": {},
   "outputs": [
    {
     "data": {
      "text/plain": [
       "{'force_x': {'name': 'force_x',\n",
       "  'value': 1.2,\n",
       "  'unit': 'kN',\n",
       "  'dtype': 'float',\n",
       "  'description': 'force in x-direction',\n",
       "  'label': '',\n",
       "  'required': False},\n",
       " 'force_y': {'name': 'force_y',\n",
       "  'value': 3.1,\n",
       "  'unit': 'N',\n",
       "  'dtype': 'float',\n",
       "  'description': 'force in y-direction',\n",
       "  'label': '',\n",
       "  'required': False}}"
      ]
     },
     "execution_count": 34,
     "metadata": {},
     "output_type": "execute_result"
    }
   ],
   "source": [
    "m.to_dict()"
   ]
  },
  {
   "cell_type": "code",
   "execution_count": 35,
   "metadata": {},
   "outputs": [
    {
     "data": {
      "text/html": [
       "<div>\n",
       "<style scoped>\n",
       "    .dataframe tbody tr th:only-of-type {\n",
       "        vertical-align: middle;\n",
       "    }\n",
       "\n",
       "    .dataframe tbody tr th {\n",
       "        vertical-align: top;\n",
       "    }\n",
       "\n",
       "    .dataframe thead th {\n",
       "        text-align: right;\n",
       "    }\n",
       "</style>\n",
       "<table border=\"1\" class=\"dataframe\">\n",
       "  <thead>\n",
       "    <tr style=\"text-align: right;\">\n",
       "      <th></th>\n",
       "      <th>name</th>\n",
       "      <th>value</th>\n",
       "      <th>unit</th>\n",
       "      <th>dtype</th>\n",
       "      <th>description</th>\n",
       "      <th>label</th>\n",
       "      <th>required</th>\n",
       "    </tr>\n",
       "    <tr>\n",
       "      <th>key</th>\n",
       "      <th></th>\n",
       "      <th></th>\n",
       "      <th></th>\n",
       "      <th></th>\n",
       "      <th></th>\n",
       "      <th></th>\n",
       "      <th></th>\n",
       "    </tr>\n",
       "  </thead>\n",
       "  <tbody>\n",
       "    <tr>\n",
       "      <th>force_x</th>\n",
       "      <td>force_x</td>\n",
       "      <td>1.2</td>\n",
       "      <td>kN</td>\n",
       "      <td>float</td>\n",
       "      <td>force in x-direction</td>\n",
       "      <td></td>\n",
       "      <td>False</td>\n",
       "    </tr>\n",
       "    <tr>\n",
       "      <th>force_y</th>\n",
       "      <td>force_y</td>\n",
       "      <td>3.1</td>\n",
       "      <td>N</td>\n",
       "      <td>float</td>\n",
       "      <td>force in y-direction</td>\n",
       "      <td></td>\n",
       "      <td>False</td>\n",
       "    </tr>\n",
       "  </tbody>\n",
       "</table>\n",
       "</div>"
      ],
      "text/plain": [
       "            name  value unit  dtype           description label  required\n",
       "key                                                                      \n",
       "force_x  force_x    1.2   kN  float  force in x-direction           False\n",
       "force_y  force_y    3.1    N  float  force in y-direction           False"
      ]
     },
     "execution_count": 35,
     "metadata": {},
     "output_type": "execute_result"
    }
   ],
   "source": [
    "m.to_dataframe()"
   ]
  },
  {
   "cell_type": "markdown",
   "metadata": {},
   "source": [
    "### json IO"
   ]
  },
  {
   "cell_type": "code",
   "execution_count": 36,
   "metadata": {},
   "outputs": [
    {
     "name": "stdout",
     "output_type": "stream",
     "text": [
      "force_x,1.2,kN,float,force in x-direction,,False\n",
      "force_y,3.1,N,float,force in y-direction,,False\n",
      "\n"
     ]
    }
   ],
   "source": [
    "print(m.to_csv(filepath=None))"
   ]
  },
  {
   "cell_type": "code",
   "execution_count": 37,
   "metadata": {},
   "outputs": [
    {
     "name": "stdout",
     "output_type": "stream",
     "text": [
      "##force_x\t1.2\tkN\tfloat\tforce in x-direction\t\tFalse\n",
      "##force_y\t3.1\tN\tfloat\tforce in y-direction\t\tFalse\n",
      "\n"
     ]
    }
   ],
   "source": [
    "print(m.to_csv_header(prefix=\"##\", sep=\"\\t\"))"
   ]
  },
  {
   "cell_type": "code",
   "execution_count": 38,
   "metadata": {},
   "outputs": [
    {
     "name": "stdout",
     "output_type": "stream",
     "text": [
      "{\"force_x\": {\"name\": \"force_x\", \"value\": 1.2, \"unit\": \"kN\", \"dtype\": \"float\", \"description\": \"force in x-direction\", \"label\": \"\", \"required\": false}, \"force_y\": {\"name\": \"force_y\", \"value\": 3.1, \"unit\": \"N\", \"dtype\": \"float\", \"description\": \"force in y-direction\", \"label\": \"\", \"required\": false}}\n"
     ]
    }
   ],
   "source": [
    "jsonfilepath = \"/tmp/m.json\"\n",
    "print(m.to_json(filepath=jsonfilepath))"
   ]
  },
  {
   "cell_type": "code",
   "execution_count": 39,
   "metadata": {},
   "outputs": [
    {
     "data": {
      "text/html": [
       "<div>\n",
       "<style scoped>\n",
       "    .dataframe tbody tr th:only-of-type {\n",
       "        vertical-align: middle;\n",
       "    }\n",
       "\n",
       "    .dataframe tbody tr th {\n",
       "        vertical-align: top;\n",
       "    }\n",
       "\n",
       "    .dataframe thead th {\n",
       "        text-align: right;\n",
       "    }\n",
       "</style>\n",
       "<table border=\"1\" class=\"dataframe\">\n",
       "  <thead>\n",
       "    <tr style=\"text-align: right;\">\n",
       "      <th></th>\n",
       "      <th>name</th>\n",
       "      <th>value</th>\n",
       "      <th>unit</th>\n",
       "      <th>dtype</th>\n",
       "      <th>description</th>\n",
       "      <th>label</th>\n",
       "      <th>required</th>\n",
       "    </tr>\n",
       "    <tr>\n",
       "      <th>key</th>\n",
       "      <th></th>\n",
       "      <th></th>\n",
       "      <th></th>\n",
       "      <th></th>\n",
       "      <th></th>\n",
       "      <th></th>\n",
       "      <th></th>\n",
       "    </tr>\n",
       "  </thead>\n",
       "  <tbody>\n",
       "    <tr>\n",
       "      <th>force_x</th>\n",
       "      <td>force_x</td>\n",
       "      <td>1.2</td>\n",
       "      <td>kN</td>\n",
       "      <td>float</td>\n",
       "      <td>force in x-direction</td>\n",
       "      <td></td>\n",
       "      <td>False</td>\n",
       "    </tr>\n",
       "    <tr>\n",
       "      <th>force_y</th>\n",
       "      <td>force_y</td>\n",
       "      <td>3.1</td>\n",
       "      <td>N</td>\n",
       "      <td>float</td>\n",
       "      <td>force in y-direction</td>\n",
       "      <td></td>\n",
       "      <td>False</td>\n",
       "    </tr>\n",
       "  </tbody>\n",
       "</table>\n",
       "</div>"
      ],
      "text/plain": [
       "            name  value unit  dtype           description label  required\n",
       "key                                                                      \n",
       "force_x  force_x    1.2   kN  float  force in x-direction           False\n",
       "force_y  force_y    3.1    N  float  force in y-direction           False"
      ]
     },
     "execution_count": 39,
     "metadata": {},
     "output_type": "execute_result"
    }
   ],
   "source": [
    "json_str = \"\"\"{\"force_x\": {\"name\": \"force_x\", \"value\": 1.2, \"unit\": \"kN\", \"dtype\": \"float\", \"description\": \"force in x-direction\"}, \"force_y\": {\"name\": \"force_y\", \"value\": 3.1, \"unit\": \"N\", \"dtype\": \"float\", \"description\": \"force in y-direction\"}}\"\"\"\n",
    "m_json = sdata.Metadata.from_json(json_str)\n",
    "m_json.df"
   ]
  },
  {
   "cell_type": "code",
   "execution_count": 40,
   "metadata": {},
   "outputs": [
    {
     "data": {
      "text/html": [
       "<div>\n",
       "<style scoped>\n",
       "    .dataframe tbody tr th:only-of-type {\n",
       "        vertical-align: middle;\n",
       "    }\n",
       "\n",
       "    .dataframe tbody tr th {\n",
       "        vertical-align: top;\n",
       "    }\n",
       "\n",
       "    .dataframe thead th {\n",
       "        text-align: right;\n",
       "    }\n",
       "</style>\n",
       "<table border=\"1\" class=\"dataframe\">\n",
       "  <thead>\n",
       "    <tr style=\"text-align: right;\">\n",
       "      <th></th>\n",
       "      <th>name</th>\n",
       "      <th>value</th>\n",
       "      <th>unit</th>\n",
       "      <th>dtype</th>\n",
       "      <th>description</th>\n",
       "      <th>label</th>\n",
       "      <th>required</th>\n",
       "    </tr>\n",
       "    <tr>\n",
       "      <th>key</th>\n",
       "      <th></th>\n",
       "      <th></th>\n",
       "      <th></th>\n",
       "      <th></th>\n",
       "      <th></th>\n",
       "      <th></th>\n",
       "      <th></th>\n",
       "    </tr>\n",
       "  </thead>\n",
       "  <tbody>\n",
       "    <tr>\n",
       "      <th>force_x</th>\n",
       "      <td>force_x</td>\n",
       "      <td>1.2</td>\n",
       "      <td>kN</td>\n",
       "      <td>float</td>\n",
       "      <td>force in x-direction</td>\n",
       "      <td></td>\n",
       "      <td>False</td>\n",
       "    </tr>\n",
       "    <tr>\n",
       "      <th>force_y</th>\n",
       "      <td>force_y</td>\n",
       "      <td>3.1</td>\n",
       "      <td>N</td>\n",
       "      <td>float</td>\n",
       "      <td>force in y-direction</td>\n",
       "      <td></td>\n",
       "      <td>False</td>\n",
       "    </tr>\n",
       "  </tbody>\n",
       "</table>\n",
       "</div>"
      ],
      "text/plain": [
       "            name  value unit  dtype           description label  required\n",
       "key                                                                      \n",
       "force_x  force_x    1.2   kN  float  force in x-direction           False\n",
       "force_y  force_y    3.1    N  float  force in y-direction           False"
      ]
     },
     "execution_count": 40,
     "metadata": {},
     "output_type": "execute_result"
    }
   ],
   "source": [
    "m_jsonfile = sdata.Metadata.from_json(filepath=jsonfilepath)\n",
    "m_jsonfile.df"
   ]
  },
  {
   "cell_type": "markdown",
   "metadata": {},
   "source": [
    "### list IO"
   ]
  },
  {
   "cell_type": "code",
   "execution_count": 41,
   "metadata": {},
   "outputs": [
    {
     "data": {
      "text/plain": [
       "[['force_x', 1.2, 'kN', 'float', 'force in x-direction', '', False],\n",
       " ['force_y', 3.1, 'N', 'float', 'force in y-direction', '', False]]"
      ]
     },
     "execution_count": 41,
     "metadata": {},
     "output_type": "execute_result"
    }
   ],
   "source": [
    "m.to_list()"
   ]
  },
  {
   "cell_type": "code",
   "execution_count": 42,
   "metadata": {},
   "outputs": [
    {
     "name": "stderr",
     "output_type": "stream",
     "text": [
      "10:35:56 ERROR:Metadata.from_list skip ['2']\n"
     ]
    },
    {
     "data": {
      "text/html": [
       "<div>\n",
       "<style scoped>\n",
       "    .dataframe tbody tr th:only-of-type {\n",
       "        vertical-align: middle;\n",
       "    }\n",
       "\n",
       "    .dataframe tbody tr th {\n",
       "        vertical-align: top;\n",
       "    }\n",
       "\n",
       "    .dataframe thead th {\n",
       "        text-align: right;\n",
       "    }\n",
       "</style>\n",
       "<table border=\"1\" class=\"dataframe\">\n",
       "  <thead>\n",
       "    <tr style=\"text-align: right;\">\n",
       "      <th></th>\n",
       "      <th>name</th>\n",
       "      <th>value</th>\n",
       "      <th>unit</th>\n",
       "      <th>dtype</th>\n",
       "      <th>description</th>\n",
       "      <th>label</th>\n",
       "      <th>required</th>\n",
       "    </tr>\n",
       "    <tr>\n",
       "      <th>key</th>\n",
       "      <th></th>\n",
       "      <th></th>\n",
       "      <th></th>\n",
       "      <th></th>\n",
       "      <th></th>\n",
       "      <th></th>\n",
       "      <th></th>\n",
       "    </tr>\n",
       "  </thead>\n",
       "  <tbody>\n",
       "    <tr>\n",
       "      <th>a</th>\n",
       "      <td>a</td>\n",
       "      <td>2.0</td>\n",
       "      <td></td>\n",
       "      <td>int</td>\n",
       "      <td></td>\n",
       "      <td></td>\n",
       "      <td>False</td>\n",
       "    </tr>\n",
       "    <tr>\n",
       "      <th>force_x</th>\n",
       "      <td>force_x</td>\n",
       "      <td>1.2</td>\n",
       "      <td>float</td>\n",
       "      <td>float</td>\n",
       "      <td>force in x-direction</td>\n",
       "      <td></td>\n",
       "      <td>False</td>\n",
       "    </tr>\n",
       "    <tr>\n",
       "      <th>force_y</th>\n",
       "      <td>force_y</td>\n",
       "      <td>3.1</td>\n",
       "      <td>float</td>\n",
       "      <td>float</td>\n",
       "      <td>force in y-direction</td>\n",
       "      <td></td>\n",
       "      <td>False</td>\n",
       "    </tr>\n",
       "  </tbody>\n",
       "</table>\n",
       "</div>"
      ],
      "text/plain": [
       "            name  value   unit  dtype           description label  required\n",
       "key                                                                        \n",
       "a              a    2.0           int                                 False\n",
       "force_x  force_x    1.2  float  float  force in x-direction           False\n",
       "force_y  force_y    3.1  float  float  force in y-direction           False"
      ]
     },
     "execution_count": 42,
     "metadata": {},
     "output_type": "execute_result"
    }
   ],
   "source": [
    "m2 = sdata.Metadata.from_list([['force_x', 1.2, 'float', 'kN', 'force in x-direction'],\n",
    " ['force_y', 3.1, 'float', 'N', 'force in y-direction'],[\"a\",2], [\"2\"]])\n",
    "m2.df"
   ]
  },
  {
   "cell_type": "code",
   "execution_count": 43,
   "metadata": {},
   "outputs": [
    {
     "data": {
      "text/plain": [
       "np.float64(1.2)"
      ]
     },
     "execution_count": 43,
     "metadata": {},
     "output_type": "execute_result"
    }
   ],
   "source": [
    "m.df.loc[\"force_x\", \"value\"]"
   ]
  },
  {
   "cell_type": "code",
   "execution_count": 44,
   "metadata": {},
   "outputs": [
    {
     "data": {
      "text/plain": [
       "key\n",
       "force_x    1.2\n",
       "force_y    3.1\n",
       "Name: value, dtype: float64"
      ]
     },
     "execution_count": 44,
     "metadata": {},
     "output_type": "execute_result"
    }
   ],
   "source": [
    "m.df.loc[:, \"value\"]"
   ]
  },
  {
   "cell_type": "code",
   "execution_count": 45,
   "metadata": {},
   "outputs": [
    {
     "data": {
      "text/plain": [
       "['a_bool', True, '-', 'bool', 'a boolean', '', False]"
      ]
     },
     "execution_count": 45,
     "metadata": {},
     "output_type": "execute_result"
    }
   ],
   "source": [
    "c=sdata.Attribute(\"a_bool\", True, dtype=\"bool\", description=\"a boolean\")\n",
    "c.to_list()"
   ]
  },
  {
   "cell_type": "code",
   "execution_count": 46,
   "metadata": {},
   "outputs": [
    {
     "data": {
      "text/html": [
       "<div>\n",
       "<style scoped>\n",
       "    .dataframe tbody tr th:only-of-type {\n",
       "        vertical-align: middle;\n",
       "    }\n",
       "\n",
       "    .dataframe tbody tr th {\n",
       "        vertical-align: top;\n",
       "    }\n",
       "\n",
       "    .dataframe thead th {\n",
       "        text-align: right;\n",
       "    }\n",
       "</style>\n",
       "<table border=\"1\" class=\"dataframe\">\n",
       "  <thead>\n",
       "    <tr style=\"text-align: right;\">\n",
       "      <th></th>\n",
       "      <th>name</th>\n",
       "      <th>value</th>\n",
       "      <th>unit</th>\n",
       "      <th>dtype</th>\n",
       "      <th>description</th>\n",
       "      <th>label</th>\n",
       "      <th>required</th>\n",
       "    </tr>\n",
       "    <tr>\n",
       "      <th>key</th>\n",
       "      <th></th>\n",
       "      <th></th>\n",
       "      <th></th>\n",
       "      <th></th>\n",
       "      <th></th>\n",
       "      <th></th>\n",
       "      <th></th>\n",
       "    </tr>\n",
       "  </thead>\n",
       "  <tbody>\n",
       "    <tr>\n",
       "      <th>a</th>\n",
       "      <td>a</td>\n",
       "      <td>1.0</td>\n",
       "      <td>-</td>\n",
       "      <td>int</td>\n",
       "      <td></td>\n",
       "      <td></td>\n",
       "      <td>False</td>\n",
       "    </tr>\n",
       "    <tr>\n",
       "      <th>b</th>\n",
       "      <td>b</td>\n",
       "      <td>1.1</td>\n",
       "      <td>-</td>\n",
       "      <td>float</td>\n",
       "      <td></td>\n",
       "      <td></td>\n",
       "      <td>False</td>\n",
       "    </tr>\n",
       "  </tbody>\n",
       "</table>\n",
       "</div>"
      ],
      "text/plain": [
       "    name  value unit  dtype description label  required\n",
       "key                                                    \n",
       "a      a    1.0    -    int                       False\n",
       "b      b    1.1    -  float                       False"
      ]
     },
     "execution_count": 46,
     "metadata": {},
     "output_type": "execute_result"
    }
   ],
   "source": [
    "m = sdata.Metadata.from_dict({\"a\":\"1\", \"b\":1.1})\n",
    "m.df"
   ]
  },
  {
   "cell_type": "code",
   "execution_count": 47,
   "metadata": {},
   "outputs": [
    {
     "data": {
      "text/plain": [
       "{'a': {'name': 'a',\n",
       "  'value': 1,\n",
       "  'unit': '-',\n",
       "  'dtype': 'int',\n",
       "  'description': '',\n",
       "  'label': '',\n",
       "  'required': False},\n",
       " 'b': {'name': 'b',\n",
       "  'value': 1.1,\n",
       "  'unit': '-',\n",
       "  'dtype': 'float',\n",
       "  'description': '',\n",
       "  'label': '',\n",
       "  'required': False}}"
      ]
     },
     "execution_count": 47,
     "metadata": {},
     "output_type": "execute_result"
    }
   ],
   "source": [
    "m.to_dict()"
   ]
  },
  {
   "cell_type": "code",
   "execution_count": 48,
   "metadata": {},
   "outputs": [
    {
     "data": {
      "text/plain": [
       "'16.09.2025'"
      ]
     },
     "execution_count": 48,
     "metadata": {},
     "output_type": "execute_result"
    }
   ],
   "source": [
    "import datetime\n",
    "datetime.datetime.now().strftime(\"%d.%m.%Y\")"
   ]
  },
  {
   "cell_type": "code",
   "execution_count": 49,
   "metadata": {},
   "outputs": [
    {
     "data": {
      "text/plain": [
       "(Metadata'N.N.':2)"
      ]
     },
     "execution_count": 49,
     "metadata": {},
     "output_type": "execute_result"
    }
   ],
   "source": [
    "l = m.to_list()\n",
    "m.from_list(l)"
   ]
  },
  {
   "cell_type": "code",
   "execution_count": 50,
   "metadata": {},
   "outputs": [
    {
     "data": {
      "text/plain": [
       "[['a', 1.0, '-', 'int', '', '', False],\n",
       " ['b', 1.1, '-', 'float', '', '', False]]"
      ]
     },
     "execution_count": 50,
     "metadata": {},
     "output_type": "execute_result"
    }
   ],
   "source": [
    "m.to_list()"
   ]
  },
  {
   "cell_type": "code",
   "execution_count": 51,
   "metadata": {},
   "outputs": [
    {
     "data": {
      "text/plain": [
       "[['a', 1.0, '-', 'int', '', '', False],\n",
       " ['b', 1.1, '-', 'float', '', '', False]]"
      ]
     },
     "execution_count": 51,
     "metadata": {},
     "output_type": "execute_result"
    }
   ],
   "source": [
    "m.df.values.tolist()"
   ]
  },
  {
   "cell_type": "code",
   "execution_count": 52,
   "metadata": {},
   "outputs": [
    {
     "data": {
      "text/html": [
       "<div>\n",
       "<style scoped>\n",
       "    .dataframe tbody tr th:only-of-type {\n",
       "        vertical-align: middle;\n",
       "    }\n",
       "\n",
       "    .dataframe tbody tr th {\n",
       "        vertical-align: top;\n",
       "    }\n",
       "\n",
       "    .dataframe thead th {\n",
       "        text-align: right;\n",
       "    }\n",
       "</style>\n",
       "<table border=\"1\" class=\"dataframe\">\n",
       "  <thead>\n",
       "    <tr style=\"text-align: right;\">\n",
       "      <th></th>\n",
       "      <th>0</th>\n",
       "      <th>1</th>\n",
       "      <th>2</th>\n",
       "      <th>3</th>\n",
       "      <th>4</th>\n",
       "      <th>5</th>\n",
       "      <th>6</th>\n",
       "    </tr>\n",
       "  </thead>\n",
       "  <tbody>\n",
       "    <tr>\n",
       "      <th>0</th>\n",
       "      <td>a</td>\n",
       "      <td>1.0</td>\n",
       "      <td>-</td>\n",
       "      <td>int</td>\n",
       "      <td></td>\n",
       "      <td></td>\n",
       "      <td>False</td>\n",
       "    </tr>\n",
       "    <tr>\n",
       "      <th>1</th>\n",
       "      <td>b</td>\n",
       "      <td>1.1</td>\n",
       "      <td>-</td>\n",
       "      <td>float</td>\n",
       "      <td></td>\n",
       "      <td></td>\n",
       "      <td>False</td>\n",
       "    </tr>\n",
       "  </tbody>\n",
       "</table>\n",
       "</div>"
      ],
      "text/plain": [
       "   0    1  2      3 4 5      6\n",
       "0  a  1.0  -    int      False\n",
       "1  b  1.1  -  float      False"
      ]
     },
     "execution_count": 52,
     "metadata": {},
     "output_type": "execute_result"
    }
   ],
   "source": [
    "pd.DataFrame.from_records(m.df.values.tolist())"
   ]
  },
  {
   "cell_type": "code",
   "execution_count": 57,
   "metadata": {},
   "outputs": [
    {
     "data": {
      "text/html": [
       "<div>\n",
       "<style scoped>\n",
       "    .dataframe tbody tr th:only-of-type {\n",
       "        vertical-align: middle;\n",
       "    }\n",
       "\n",
       "    .dataframe tbody tr th {\n",
       "        vertical-align: top;\n",
       "    }\n",
       "\n",
       "    .dataframe thead th {\n",
       "        text-align: right;\n",
       "    }\n",
       "</style>\n",
       "<table border=\"1\" class=\"dataframe\">\n",
       "  <thead>\n",
       "    <tr style=\"text-align: right;\">\n",
       "      <th></th>\n",
       "      <th>name</th>\n",
       "      <th>value</th>\n",
       "      <th>unit</th>\n",
       "      <th>dtype</th>\n",
       "      <th>description</th>\n",
       "      <th>label</th>\n",
       "      <th>required</th>\n",
       "    </tr>\n",
       "  </thead>\n",
       "  <tbody>\n",
       "    <tr>\n",
       "      <th>0</th>\n",
       "      <td>a</td>\n",
       "      <td>1.0</td>\n",
       "      <td>-</td>\n",
       "      <td>int</td>\n",
       "      <td></td>\n",
       "      <td></td>\n",
       "      <td>False</td>\n",
       "    </tr>\n",
       "    <tr>\n",
       "      <th>1</th>\n",
       "      <td>b</td>\n",
       "      <td>1.1</td>\n",
       "      <td>-</td>\n",
       "      <td>float</td>\n",
       "      <td></td>\n",
       "      <td></td>\n",
       "      <td>False</td>\n",
       "    </tr>\n",
       "  </tbody>\n",
       "</table>\n",
       "</div>"
      ],
      "text/plain": [
       "  name  value unit  dtype description label  required\n",
       "0    a    1.0    -    int                       False\n",
       "1    b    1.1    -  float                       False"
      ]
     },
     "execution_count": 57,
     "metadata": {},
     "output_type": "execute_result"
    }
   ],
   "source": [
    "df = pd.DataFrame.from_records(m.df.values.tolist(), columns=m.df.columns)\n",
    "df"
   ]
  },
  {
   "cell_type": "code",
   "execution_count": 58,
   "metadata": {},
   "outputs": [],
   "source": [
    "df.to_clipboard()"
   ]
  },
  {
   "cell_type": "code",
   "execution_count": 59,
   "metadata": {},
   "outputs": [
    {
     "data": {
      "text/html": [
       "<div>\n",
       "<style scoped>\n",
       "    .dataframe tbody tr th:only-of-type {\n",
       "        vertical-align: middle;\n",
       "    }\n",
       "\n",
       "    .dataframe tbody tr th {\n",
       "        vertical-align: top;\n",
       "    }\n",
       "\n",
       "    .dataframe thead th {\n",
       "        text-align: right;\n",
       "    }\n",
       "</style>\n",
       "<table border=\"1\" class=\"dataframe\">\n",
       "  <thead>\n",
       "    <tr style=\"text-align: right;\">\n",
       "      <th></th>\n",
       "      <th>name</th>\n",
       "      <th>value</th>\n",
       "      <th>unit</th>\n",
       "      <th>dtype</th>\n",
       "      <th>description</th>\n",
       "      <th>label</th>\n",
       "      <th>required</th>\n",
       "    </tr>\n",
       "  </thead>\n",
       "  <tbody>\n",
       "    <tr>\n",
       "      <th>0</th>\n",
       "      <td>a</td>\n",
       "      <td>1.0</td>\n",
       "      <td>-</td>\n",
       "      <td>int</td>\n",
       "      <td>NaN</td>\n",
       "      <td>NaN</td>\n",
       "      <td>False</td>\n",
       "    </tr>\n",
       "    <tr>\n",
       "      <th>1</th>\n",
       "      <td>b</td>\n",
       "      <td>1.1</td>\n",
       "      <td>-</td>\n",
       "      <td>float</td>\n",
       "      <td>NaN</td>\n",
       "      <td>NaN</td>\n",
       "      <td>False</td>\n",
       "    </tr>\n",
       "  </tbody>\n",
       "</table>\n",
       "</div>"
      ],
      "text/plain": [
       "  name  value unit  dtype  description  label  required\n",
       "0    a    1.0    -    int          NaN    NaN     False\n",
       "1    b    1.1    -  float          NaN    NaN     False"
      ]
     },
     "execution_count": 59,
     "metadata": {},
     "output_type": "execute_result"
    }
   ],
   "source": [
    "pd.read_clipboard()"
   ]
  },
  {
   "cell_type": "code",
   "execution_count": null,
   "metadata": {},
   "outputs": [],
   "source": [
    "for x in [['force_x', 1.2, 'float', 'kN', 'force in x-direction'],\n",
    " ['force_y', 3.1, 'float', 'N', 'force in y-direction']]:\n",
    "    print(x)"
   ]
  },
  {
   "cell_type": "code",
   "execution_count": null,
   "metadata": {},
   "outputs": [],
   "source": [
    "m.to_dict()"
   ]
  },
  {
   "cell_type": "code",
   "execution_count": null,
   "metadata": {},
   "outputs": [],
   "source": [
    "md = m.from_dict({'force_x': {'name': 'force_x',\n",
    "  'value': 1.2,\n",
    "  'unit': 'kN',\n",
    "  'dtype': 'float',\n",
    "  'description': 'force in x-direction'},\n",
    " 'force_y': {'name': 'force_y',\n",
    "  'value': 3.1,\n",
    "  'description': 'force in y-direction'},\n",
    "  'force_y': {'name': 'force_z',\n",
    "  'value': 3.1,\n",
    "  'description': 'force in y-direction'}})\n",
    "md.df"
   ]
  },
  {
   "cell_type": "code",
   "execution_count": null,
   "metadata": {},
   "outputs": [],
   "source": [
    "m = sdata.Metadata.from_list([[\"a\",2], \n",
    "                              [\"!sdata_name\", \"hallo\"], \n",
    "                              [\"Temperature T [degC]\", 23, \"°C\", \"float\"],\n",
    "                              [\"force F [kN]\", 1.23, \"kN\"]\n",
    "                             ])\n",
    "m.df"
   ]
  },
  {
   "cell_type": "code",
   "execution_count": null,
   "metadata": {},
   "outputs": [],
   "source": [
    "m.set_unit_from_name()\n",
    "m.df"
   ]
  },
  {
   "cell_type": "code",
   "execution_count": null,
   "metadata": {},
   "outputs": [],
   "source": [
    "m.attributes"
   ]
  },
  {
   "cell_type": "code",
   "execution_count": null,
   "metadata": {},
   "outputs": [],
   "source": [
    "m.user_attributes"
   ]
  },
  {
   "cell_type": "code",
   "execution_count": null,
   "metadata": {},
   "outputs": [],
   "source": [
    "m.sdata_attributes"
   ]
  },
  {
   "cell_type": "code",
   "execution_count": null,
   "metadata": {},
   "outputs": [],
   "source": [
    "m = sdata.Metadata.from_list([[\"a\",2], \n",
    "                              [\"!sdata_name\", \"hallo\"], \n",
    "                              [\"Temperature T [degC]\", \"23\", \"str\"],\n",
    "                              [\"force F [kN]\", \"1.23\", \"str\"]\n",
    "                             ])\n",
    "m.df"
   ]
  },
  {
   "cell_type": "code",
   "execution_count": null,
   "metadata": {},
   "outputs": [],
   "source": [
    "m.guess_value_dtype()\n",
    "m.df"
   ]
  },
  {
   "cell_type": "code",
   "execution_count": null,
   "metadata": {},
   "outputs": [],
   "source": [
    "m.to_dict()"
   ]
  },
  {
   "cell_type": "code",
   "execution_count": null,
   "metadata": {},
   "outputs": [],
   "source": [
    "filepath = \"/tmp/metadata.csv\"\n",
    "m.add(\"foo\", 123)\n",
    "m.to_csv(filepath)\n",
    "m5 = sdata.metadata.Metadata.from_csv(filepath)\n",
    "print(\"m5\", m5.to_dict())\n",
    "assert m.get_attr(\"foo\").name==m5.get_attr(\"foo\").name\n",
    "assert m.get_attr(\"foo\").value==m5.get_attr(\"foo\").value"
   ]
  },
  {
   "cell_type": "code",
   "execution_count": null,
   "metadata": {},
   "outputs": [],
   "source": [
    "m.sha3_256, m5.sha3_256"
   ]
  },
  {
   "cell_type": "code",
   "execution_count": null,
   "metadata": {},
   "outputs": [],
   "source": [
    "m5.df"
   ]
  },
  {
   "cell_type": "code",
   "execution_count": null,
   "metadata": {},
   "outputs": [],
   "source": [
    "m.df"
   ]
  },
  {
   "cell_type": "code",
   "execution_count": null,
   "metadata": {},
   "outputs": [],
   "source": [
    "df = m5.df\n",
    "df.fillna(\"\", inplace=True)\n",
    "df.replace(\"nan\", \"\", inplace=True)\n",
    "df"
   ]
  },
  {
   "cell_type": "code",
   "execution_count": null,
   "metadata": {},
   "outputs": [],
   "source": [
    "m5.df.description.values[0]"
   ]
  },
  {
   "cell_type": "code",
   "execution_count": null,
   "metadata": {},
   "outputs": [],
   "source": []
  }
 ],
 "metadata": {
  "kernelspec": {
   "display_name": "jup312",
   "language": "python",
   "name": "jup312"
  },
  "language_info": {
   "codemirror_mode": {
    "name": "ipython",
    "version": 3
   },
   "file_extension": ".py",
   "mimetype": "text/x-python",
   "name": "python",
   "nbconvert_exporter": "python",
   "pygments_lexer": "ipython3",
   "version": "3.12.8"
  }
 },
 "nbformat": 4,
 "nbformat_minor": 4
}
