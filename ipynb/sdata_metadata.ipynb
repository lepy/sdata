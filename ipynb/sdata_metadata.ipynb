{
 "cells": [
  {
   "cell_type": "markdown",
   "metadata": {},
   "source": [
    "# sdata.Metadata"
   ]
  },
  {
   "cell_type": "code",
   "execution_count": 1,
   "metadata": {},
   "outputs": [
    {
     "data": {
      "application/javascript": [
       "IPython.notebook.set_autosave_interval(0)"
      ]
     },
     "metadata": {},
     "output_type": "display_data"
    },
    {
     "name": "stderr",
     "output_type": "stream",
     "text": [
      "07:57:16 DEBUG:Loaded backend module://ipykernel.pylab.backend_inline version unknown.\n"
     ]
    },
    {
     "name": "stdout",
     "output_type": "stream",
     "text": [
      "Autosave disabled\n"
     ]
    }
   ],
   "source": [
    "%load_ext autoreload\n",
    "%autoreload 2\n",
    "%matplotlib inline\n",
    "#%matplotlib notebook\n",
    "%autosave 0\n",
    "    \n",
    "import logging\n",
    "logging.basicConfig(format='%(asctime)s %(levelname)s:%(message)s', level=logging.DEBUG, datefmt='%I:%M:%S')\n",
    "\n",
    "import os\n",
    "import sys\n",
    "import numpy as np\n",
    "import pandas as pd\n",
    "import sdata"
   ]
  },
  {
   "cell_type": "code",
   "execution_count": 2,
   "metadata": {},
   "outputs": [
    {
     "data": {
      "text/plain": [
       "(Metadata'N.N.':0)"
      ]
     },
     "execution_count": 2,
     "metadata": {},
     "output_type": "execute_result"
    }
   ],
   "source": [
    "m = sdata.Metadata(name=\"My first metadata\")\n",
    "m"
   ]
  },
  {
   "cell_type": "code",
   "execution_count": 3,
   "metadata": {},
   "outputs": [
    {
     "name": "stdout",
     "output_type": "stream",
     "text": [
      "Help on Metadata in module sdata.metadata object:\n",
      "\n",
      "class Metadata(builtins.object)\n",
      " |  Metadata(**kwargs)\n",
      " |  \n",
      " |  Metadata container class\n",
      " |  \n",
      " |  each Metadata entry has has a \n",
      " |      * name (256)\n",
      " |      * value\n",
      " |      * unit\n",
      " |      * description\n",
      " |      * type (int, str, float, bool, timestamp)\n",
      " |  \n",
      " |  Methods defined here:\n",
      " |  \n",
      " |  __getitem__(self, name)\n",
      " |  \n",
      " |  __init__(self, **kwargs)\n",
      " |      Metadata class\n",
      " |      \n",
      " |      :param kwargs:\n",
      " |  \n",
      " |  __repr__(self)\n",
      " |      Return repr(self).\n",
      " |  \n",
      " |  __str__(self)\n",
      " |      Return str(self).\n",
      " |  \n",
      " |  add(self, name, value=None, **kwargs)\n",
      " |      add Attribute\n",
      " |      \n",
      " |      :param name:\n",
      " |      :param value:\n",
      " |      :param kwargs:\n",
      " |      :return:\n",
      " |  \n",
      " |  get(self, name, default=None)\n",
      " |  \n",
      " |  get_attr(self, name)\n",
      " |      get Attribute by name\n",
      " |  \n",
      " |  items(self)\n",
      " |      :return: list of Attribute items (keys, values)\n",
      " |  \n",
      " |  keys(self)\n",
      " |      :return: list of Attribute names\n",
      " |  \n",
      " |  set_attr(self, name='N.N.', value=None, **kwargs)\n",
      " |      set Attribute\n",
      " |  \n",
      " |  to_csv(self, filepath=None, sep=',')\n",
      " |      serialize to csv\n",
      " |  \n",
      " |  to_csv_header(self, prefix='#', sep=',', filepath=None)\n",
      " |      serialize to csv\n",
      " |  \n",
      " |  to_dataframe(self)\n",
      " |      create dataframe\n",
      " |  \n",
      " |  to_dict(self)\n",
      " |      serialize attributes to dict\n",
      " |  \n",
      " |  to_json(self, filepath=None)\n",
      " |      create dataframe\n",
      " |  \n",
      " |  update_from_dict(self, d)\n",
      " |      set attributes from dict\n",
      " |  \n",
      " |  values(self)\n",
      " |      :return: list of Attribute values\n",
      " |  \n",
      " |  ----------------------------------------------------------------------\n",
      " |  Class methods defined here:\n",
      " |  \n",
      " |  from_csv(filepath) from builtins.type\n",
      " |      create metadata from dataframe\n",
      " |  \n",
      " |  from_dataframe(df) from builtins.type\n",
      " |      create metadata from dataframe\n",
      " |  \n",
      " |  from_dict(d) from builtins.type\n",
      " |      setup metadata from dict\n",
      " |  \n",
      " |  from_json(filepath) from builtins.type\n",
      " |      create metadata from dataframe\n",
      " |  \n",
      " |  ----------------------------------------------------------------------\n",
      " |  Data descriptors defined here:\n",
      " |  \n",
      " |  __dict__\n",
      " |      dictionary for instance variables (if defined)\n",
      " |  \n",
      " |  __weakref__\n",
      " |      list of weak references to the object (if defined)\n",
      " |  \n",
      " |  attributes\n",
      " |      returns Attributes\n",
      " |  \n",
      " |  df\n",
      " |      create dataframe\n",
      " |  \n",
      " |  name\n",
      " |      Name of the Metadata\n",
      " |  \n",
      " |  ----------------------------------------------------------------------\n",
      " |  Data and other attributes defined here:\n",
      " |  \n",
      " |  ATTRIBUTEKEYS = ['name', 'value', 'dtype', 'unit', 'description']\n",
      "\n"
     ]
    }
   ],
   "source": [
    "help(m)"
   ]
  },
  {
   "cell_type": "markdown",
   "metadata": {},
   "source": [
    "# sdata.Attribute"
   ]
  },
  {
   "cell_type": "markdown",
   "metadata": {},
   "source": [
    "create a simple key-value-Attribute"
   ]
  },
  {
   "cell_type": "code",
   "execution_count": 4,
   "metadata": {},
   "outputs": [
    {
     "data": {
      "text/plain": [
       "(Attr'otto1':1(int))"
      ]
     },
     "execution_count": 4,
     "metadata": {},
     "output_type": "execute_result"
    }
   ],
   "source": [
    "a = sdata.Attribute(\"otto1\", 1)\n",
    "a\n"
   ]
  },
  {
   "cell_type": "code",
   "execution_count": 5,
   "metadata": {},
   "outputs": [
    {
     "name": "stdout",
     "output_type": "stream",
     "text": [
      "Help on Attribute in module sdata.metadata object:\n",
      "\n",
      "class Attribute(builtins.object)\n",
      " |  Attribute(name, value, **kwargs)\n",
      " |  \n",
      " |  Attribute class\n",
      " |  \n",
      " |  Methods defined here:\n",
      " |  \n",
      " |  __init__(self, name, value, **kwargs)\n",
      " |      Attribute\n",
      " |      :param name\n",
      " |      :param value\n",
      " |      :param dtype ['float', 'int', 'str', 'timestamp', 'uuid?', 'unicode?']\n",
      " |      :param description\n",
      " |      :param dimension e.g. force, length, strain, count, energy\n",
      " |      :param unit\n",
      " |  \n",
      " |  __repr__ = __str__(self)\n",
      " |  \n",
      " |  __str__(self)\n",
      " |      Return str(self).\n",
      " |  \n",
      " |  to_csv(self, prefix='', sep=',', quote=None)\n",
      " |      export Attribute to csv\n",
      " |      \n",
      " |      :param prefix:\n",
      " |      :param sep:\n",
      " |      :param quote:\n",
      " |      :return:\n",
      " |  \n",
      " |  to_dict(self)\n",
      " |      :returns dict of attribute items\n",
      " |  \n",
      " |  to_list(self)\n",
      " |  \n",
      " |  ----------------------------------------------------------------------\n",
      " |  Data descriptors defined here:\n",
      " |  \n",
      " |  __dict__\n",
      " |      dictionary for instance variables (if defined)\n",
      " |  \n",
      " |  __weakref__\n",
      " |      list of weak references to the object (if defined)\n",
      " |  \n",
      " |  description\n",
      " |      Attribute description\n",
      " |  \n",
      " |  dtype\n",
      " |      Attribute type str\n",
      " |  \n",
      " |  name\n",
      " |      Attribute name\n",
      " |  \n",
      " |  unit\n",
      " |      Attribute unit\n",
      " |  \n",
      " |  value\n",
      " |      Attribute value\n",
      " |  \n",
      " |  ----------------------------------------------------------------------\n",
      " |  Data and other attributes defined here:\n",
      " |  \n",
      " |  DTYPES = {'bool': <class 'bool'>, 'float': <class 'float'>, 'int': <cl...\n",
      "\n"
     ]
    }
   ],
   "source": [
    "help(a)"
   ]
  },
  {
   "cell_type": "markdown",
   "metadata": {},
   "source": [
    "create a full qualified Attribute"
   ]
  },
  {
   "cell_type": "code",
   "execution_count": 6,
   "metadata": {},
   "outputs": [
    {
     "data": {
      "text/plain": [
       "(Attr'force_x':1.2(float))"
      ]
     },
     "execution_count": 6,
     "metadata": {},
     "output_type": "execute_result"
    }
   ],
   "source": [
    "fx = sdata.Attribute(\"force_x\", value=1.2, unit=\"kN\", dtype=\"float\", description=\"force in x-direction\")\n",
    "fx"
   ]
  },
  {
   "cell_type": "markdown",
   "metadata": {},
   "source": [
    "add Attribute to metadata"
   ]
  },
  {
   "cell_type": "code",
   "execution_count": 7,
   "metadata": {},
   "outputs": [
    {
     "data": {
      "text/plain": [
       "OrderedDict([('force_x', (Attr'force_x':1.2(float)))])"
      ]
     },
     "execution_count": 7,
     "metadata": {},
     "output_type": "execute_result"
    }
   ],
   "source": [
    "m = sdata.Metadata(name=\"m1\")\n",
    "m.add(fx)\n",
    "m.attributes"
   ]
  },
  {
   "cell_type": "code",
   "execution_count": 8,
   "metadata": {},
   "outputs": [
    {
     "data": {
      "text/plain": [
       "OrderedDict([('force_x', (Attr'force_x':1.2(float))),\n",
       "             ('force_y', (Attr'force_y':3.1(float)))])"
      ]
     },
     "execution_count": 8,
     "metadata": {},
     "output_type": "execute_result"
    }
   ],
   "source": [
    "# m = sdata.Metadata(name=\"m2\")\n",
    "m.add(\"force_y\", value=3.1, unit=\"N\", dtype=\"float\", description=\"force in y-direction\")\n",
    "m.attributes"
   ]
  },
  {
   "cell_type": "markdown",
   "metadata": {},
   "source": [
    "## Working with Attributes"
   ]
  },
  {
   "cell_type": "code",
   "execution_count": 9,
   "metadata": {},
   "outputs": [],
   "source": [
    "m.get(\"force_z\")"
   ]
  },
  {
   "cell_type": "code",
   "execution_count": 10,
   "metadata": {},
   "outputs": [
    {
     "data": {
      "text/plain": [
       "(Attr'force_x':1.2(float))"
      ]
     },
     "execution_count": 10,
     "metadata": {},
     "output_type": "execute_result"
    }
   ],
   "source": [
    "my_fx = m.get(\"force_x\")\n",
    "my_fx"
   ]
  },
  {
   "cell_type": "code",
   "execution_count": 11,
   "metadata": {},
   "outputs": [
    {
     "data": {
      "text/plain": [
       "(Attr'force_y':3.1(float))"
      ]
     },
     "execution_count": 11,
     "metadata": {},
     "output_type": "execute_result"
    }
   ],
   "source": [
    "my_fy = m.get(\"force_y\")\n",
    "my_fy"
   ]
  },
  {
   "cell_type": "code",
   "execution_count": 12,
   "metadata": {},
   "outputs": [
    {
     "data": {
      "text/plain": [
       "1.2"
      ]
     },
     "execution_count": 12,
     "metadata": {},
     "output_type": "execute_result"
    }
   ],
   "source": [
    "my_fx.value"
   ]
  },
  {
   "cell_type": "code",
   "execution_count": 13,
   "metadata": {},
   "outputs": [
    {
     "name": "stdout",
     "output_type": "stream",
     "text": [
      "The force_x is 1.2 kN.\n",
      "The force_y is 3.1 N.\n"
     ]
    }
   ],
   "source": [
    "print(\"The {0.name} is {0.value} {0.unit}.\".format(my_fx))\n",
    "print(\"The {0.name} is {0.value} {0.unit}.\".format(my_fy))"
   ]
  },
  {
   "cell_type": "code",
   "execution_count": 14,
   "metadata": {},
   "outputs": [
    {
     "data": {
      "text/plain": [
       "['force_x', 1.2, 'kN', 'float', 'force in x-direction']"
      ]
     },
     "execution_count": 14,
     "metadata": {},
     "output_type": "execute_result"
    }
   ],
   "source": [
    "my_fx.to_list()"
   ]
  },
  {
   "cell_type": "code",
   "execution_count": 15,
   "metadata": {},
   "outputs": [
    {
     "data": {
      "text/plain": [
       "{'name': 'force_x',\n",
       " 'value': 1.2,\n",
       " 'unit': 'kN',\n",
       " 'dtype': 'float',\n",
       " 'description': 'force in x-direction'}"
      ]
     },
     "execution_count": 15,
     "metadata": {},
     "output_type": "execute_result"
    }
   ],
   "source": [
    "my_fx.to_dict()"
   ]
  },
  {
   "cell_type": "code",
   "execution_count": 16,
   "metadata": {},
   "outputs": [
    {
     "data": {
      "text/plain": [
       "'#$force_x;1.2;kN;float;force in x-direction'"
      ]
     },
     "execution_count": 16,
     "metadata": {},
     "output_type": "execute_result"
    }
   ],
   "source": [
    "my_fx.to_csv(prefix=\"#$\", sep=\";\")"
   ]
  },
  {
   "cell_type": "markdown",
   "metadata": {},
   "source": [
    "## working with Metadata"
   ]
  },
  {
   "cell_type": "code",
   "execution_count": 17,
   "metadata": {},
   "outputs": [
    {
     "data": {
      "text/plain": [
       "['force_x', 'force_y']"
      ]
     },
     "execution_count": 17,
     "metadata": {},
     "output_type": "execute_result"
    }
   ],
   "source": [
    "m.keys()"
   ]
  },
  {
   "cell_type": "code",
   "execution_count": 18,
   "metadata": {},
   "outputs": [
    {
     "data": {
      "text/plain": [
       "[(Attr'force_x':1.2(float)), (Attr'force_y':3.1(float))]"
      ]
     },
     "execution_count": 18,
     "metadata": {},
     "output_type": "execute_result"
    }
   ],
   "source": [
    "m.values()"
   ]
  },
  {
   "cell_type": "code",
   "execution_count": 19,
   "metadata": {},
   "outputs": [
    {
     "data": {
      "text/plain": [
       "[('force_x', (Attr'force_x':1.2(float))),\n",
       " ('force_y', (Attr'force_y':3.1(float)))]"
      ]
     },
     "execution_count": 19,
     "metadata": {},
     "output_type": "execute_result"
    }
   ],
   "source": [
    "m.items()"
   ]
  },
  {
   "cell_type": "code",
   "execution_count": 20,
   "metadata": {},
   "outputs": [
    {
     "data": {
      "text/plain": [
       "{'force_x': {'name': 'force_x',\n",
       "  'value': 1.2,\n",
       "  'unit': 'kN',\n",
       "  'dtype': 'float',\n",
       "  'description': 'force in x-direction'},\n",
       " 'force_y': {'name': 'force_y',\n",
       "  'value': 3.1,\n",
       "  'unit': 'N',\n",
       "  'dtype': 'float',\n",
       "  'description': 'force in y-direction'}}"
      ]
     },
     "execution_count": 20,
     "metadata": {},
     "output_type": "execute_result"
    }
   ],
   "source": [
    "m.to_dict()"
   ]
  },
  {
   "cell_type": "code",
   "execution_count": 21,
   "metadata": {},
   "outputs": [
    {
     "data": {
      "text/html": [
       "<div>\n",
       "<style scoped>\n",
       "    .dataframe tbody tr th:only-of-type {\n",
       "        vertical-align: middle;\n",
       "    }\n",
       "\n",
       "    .dataframe tbody tr th {\n",
       "        vertical-align: top;\n",
       "    }\n",
       "\n",
       "    .dataframe thead th {\n",
       "        text-align: right;\n",
       "    }\n",
       "</style>\n",
       "<table border=\"1\" class=\"dataframe\">\n",
       "  <thead>\n",
       "    <tr style=\"text-align: right;\">\n",
       "      <th></th>\n",
       "      <th>name</th>\n",
       "      <th>value</th>\n",
       "      <th>dtype</th>\n",
       "      <th>unit</th>\n",
       "      <th>description</th>\n",
       "    </tr>\n",
       "    <tr>\n",
       "      <th>key</th>\n",
       "      <th></th>\n",
       "      <th></th>\n",
       "      <th></th>\n",
       "      <th></th>\n",
       "      <th></th>\n",
       "    </tr>\n",
       "  </thead>\n",
       "  <tbody>\n",
       "    <tr>\n",
       "      <th>force_x</th>\n",
       "      <td>force_x</td>\n",
       "      <td>1.2</td>\n",
       "      <td>float</td>\n",
       "      <td>kN</td>\n",
       "      <td>force in x-direction</td>\n",
       "    </tr>\n",
       "    <tr>\n",
       "      <th>force_y</th>\n",
       "      <td>force_y</td>\n",
       "      <td>3.1</td>\n",
       "      <td>float</td>\n",
       "      <td>N</td>\n",
       "      <td>force in y-direction</td>\n",
       "    </tr>\n",
       "  </tbody>\n",
       "</table>\n",
       "</div>"
      ],
      "text/plain": [
       "            name  value  dtype unit           description\n",
       "key                                                      \n",
       "force_x  force_x    1.2  float   kN  force in x-direction\n",
       "force_y  force_y    3.1  float    N  force in y-direction"
      ]
     },
     "execution_count": 21,
     "metadata": {},
     "output_type": "execute_result"
    }
   ],
   "source": [
    "m.to_dataframe()"
   ]
  },
  {
   "cell_type": "code",
   "execution_count": 22,
   "metadata": {},
   "outputs": [
    {
     "name": "stdout",
     "output_type": "stream",
     "text": [
      "name,value,dtype,unit,description\n",
      "force_x,1.2,float,kN,force in x-direction\n",
      "force_y,3.1,float,N,force in y-direction\n",
      "\n"
     ]
    }
   ],
   "source": [
    "print(m.to_csv(filepath=None))"
   ]
  },
  {
   "cell_type": "code",
   "execution_count": 23,
   "metadata": {},
   "outputs": [
    {
     "name": "stdout",
     "output_type": "stream",
     "text": [
      "##force_x\t1.2\tkN\tfloat\tforce in x-direction\n",
      "##force_y\t3.1\tN\tfloat\tforce in y-direction\n",
      "\n"
     ]
    }
   ],
   "source": [
    "print(m.to_csv_header(prefix=\"##\", sep=\"\\t\"))"
   ]
  },
  {
   "cell_type": "code",
   "execution_count": 24,
   "metadata": {},
   "outputs": [
    {
     "name": "stdout",
     "output_type": "stream",
     "text": [
      "{\"force_x\": {\"name\": \"force_x\", \"value\": 1.2, \"unit\": \"kN\", \"dtype\": \"float\", \"description\": \"force in x-direction\"}, \"force_y\": {\"name\": \"force_y\", \"value\": 3.1, \"unit\": \"N\", \"dtype\": \"float\", \"description\": \"force in y-direction\"}}\n"
     ]
    }
   ],
   "source": [
    "print(m.to_json())"
   ]
  },
  {
   "cell_type": "code",
   "execution_count": 25,
   "metadata": {},
   "outputs": [
    {
     "data": {
      "text/plain": [
       "1.2"
      ]
     },
     "execution_count": 25,
     "metadata": {},
     "output_type": "execute_result"
    }
   ],
   "source": [
    "m.df.loc[\"force_x\", \"value\"]"
   ]
  },
  {
   "cell_type": "code",
   "execution_count": 26,
   "metadata": {},
   "outputs": [
    {
     "data": {
      "text/plain": [
       "key\n",
       "force_x    1.2\n",
       "force_y    3.1\n",
       "Name: value, dtype: float64"
      ]
     },
     "execution_count": 26,
     "metadata": {},
     "output_type": "execute_result"
    }
   ],
   "source": [
    "m.df.loc[:, \"value\"]"
   ]
  },
  {
   "cell_type": "code",
   "execution_count": 27,
   "metadata": {},
   "outputs": [
    {
     "data": {
      "text/plain": [
       "['a_bool', True, '-', 'bool', 'a boolean']"
      ]
     },
     "execution_count": 27,
     "metadata": {},
     "output_type": "execute_result"
    }
   ],
   "source": [
    "c=sdata.Attribute(\"a_bool\", True, dtype=\"bool\", description=\"a boolean\")\n",
    "c.to_list()"
   ]
  }
 ],
 "metadata": {
  "kernelspec": {
   "display_name": "sfem3",
   "language": "python",
   "name": "sfem3"
  },
  "language_info": {
   "codemirror_mode": {
    "name": "ipython",
    "version": 3
   },
   "file_extension": ".py",
   "mimetype": "text/x-python",
   "name": "python",
   "nbconvert_exporter": "python",
   "pygments_lexer": "ipython3",
   "version": "3.7.4"
  }
 },
 "nbformat": 4,
 "nbformat_minor": 4
}
